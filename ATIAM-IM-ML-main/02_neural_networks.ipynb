{
 "cells": [
  {
   "cell_type": "markdown",
   "metadata": {},
   "source": [
    "# Creative machine learning - Neural networks\n",
    "\n",
    "### Author: Philippe Esling (esling@ircam.fr)\n",
    "\n",
    "In this course we will cover\n",
    "1. A [quick introduction](#intro) on the principles of neural networks\n",
    "2. An implementation for a [single neuron](#neuron) in Numpy and JAX.\n",
    "3. An exercise on [multi-layer perceptron (MLP)](#mlp) through manual derivation.\n",
    "4. An introduction on [using Pytorch](#pytorch) for defining networks\n",
    "5. An exercise on [audio classification](#audio) using an MLP with Pytorch."
   ]
  },
  {
   "cell_type": "markdown",
   "metadata": {},
   "source": [
    "<a id=\"intro\"></a>\n",
    "# Introducing neural networks"
   ]
  },
  {
   "cell_type": "markdown",
   "metadata": {},
   "source": [
    "In this tutorial, we will cover more advanced models known as *neural networks*. The tutorial starts by performing a simple **single neuron** discrimination of two random distributions. We will exhibit the manual implementation using Numpy, and then simplify it with JAX. Then, we will study the typical **XOR problem** by using a more advanced 2-layer **perceptron**. Finally, we generalize the use of neural networks in order to perform classification on a given set of audio files, using the PyTorch library, which will provide simplified implementation."
   ]
  },
  {
   "cell_type": "markdown",
   "metadata": {},
   "source": [
    "We are going to use relatively _low-level_ libraries to perform the first exercises (implementing your own neurons). To observe this idea in simple setups, we are going to use the `numpy` library and also initialize the homemade course library `cml` and style for future plotting and exercise. We also set the random generator to a fixed point with `rng = np.random.RandomState(1)`, to ensure reproducibility"
   ]
  },
  {
   "cell_type": "code",
   "execution_count": 1,
   "metadata": {},
   "outputs": [
    {
     "name": "stdout",
     "output_type": "stream",
     "text": [
      "WARNING:tensorflow:From d:\\ANACONDA\\envs\\ml_win\\Lib\\site-packages\\tf_keras\\src\\losses.py:2976: The name tf.losses.sparse_softmax_cross_entropy is deprecated. Please use tf.compat.v1.losses.sparse_softmax_cross_entropy instead.\n",
      "\n",
      "WARNING:tensorflow:From d:\\ANACONDA\\envs\\ml_win\\Lib\\site-packages\\tensorflow_probability\\python\\internal\\backend\\numpy\\_utils.py:48: The name tf.logging.TaskLevelStatusMessage is deprecated. Please use tf.compat.v1.logging.TaskLevelStatusMessage instead.\n",
      "\n",
      "WARNING:tensorflow:From d:\\ANACONDA\\envs\\ml_win\\Lib\\site-packages\\tensorflow_probability\\python\\internal\\backend\\numpy\\_utils.py:48: The name tf.control_flow_v2_enabled is deprecated. Please use tf.compat.v1.control_flow_v2_enabled instead.\n",
      "\n"
     ]
    },
    {
     "data": {
      "text/html": [
       "    <style>\n",
       "        .bk-notebook-logo {\n",
       "            display: block;\n",
       "            width: 20px;\n",
       "            height: 20px;\n",
       "            background-image: url(data:image/png;base64,iVBORw0KGgoAAAANSUhEUgAAABQAAAAUCAYAAACNiR0NAAAABHNCSVQICAgIfAhkiAAAAAlwSFlzAAALEgAACxIB0t1+/AAAABx0RVh0U29mdHdhcmUAQWRvYmUgRmlyZXdvcmtzIENTNui8sowAAAOkSURBVDiNjZRtaJVlGMd/1/08zzln5zjP1LWcU9N0NkN8m2CYjpgQYQXqSs0I84OLIC0hkEKoPtiH3gmKoiJDU7QpLgoLjLIQCpEsNJ1vqUOdO7ppbuec5+V+rj4ctwzd8IIbbi6u+8f1539dt3A78eXC7QizUF7gyV1fD1Yqg4JWz84yffhm0qkFqBogB9rM8tZdtwVsPUhWhGcFJngGeWrPzHm5oaMmkfEg1usvLFyc8jLRqDOMru7AyC8saQr7GG7f5fvDeH7Ej8CM66nIF+8yngt6HWaKh7k49Soy9nXurCi1o3qUbS3zWfrYeQDTB/Qj6kX6Ybhw4B+bOYoLKCC9H3Nu/leUTZ1JdRWkkn2ldcCamzrcf47KKXdAJllSlxAOkRgyHsGC/zRday5Qld9DyoM4/q/rUoy/CXh3jzOu3bHUVZeU+DEn8FInkPBFlu3+nW3Nw0mk6vCDiWg8CeJaxEwuHS3+z5RgY+YBR6V1Z1nxSOfoaPa4LASWxxdNp+VWTk7+4vzaou8v8PN+xo+KY2xsw6une2frhw05CTYOmQvsEhjhWjn0bmXPjpE1+kplmmkP3suftwTubK9Vq22qKmrBhpY4jvd5afdRA3wGjFAgcnTK2s4hY0/GPNIb0nErGMCRxWOOX64Z8RAC4oCXdklmEvcL8o0BfkNK4lUg9HTl+oPlQxdNo3Mg4Nv175e/1LDGzZen30MEjRUtmXSfiTVu1kK8W4txyV6BMKlbgk3lMwYCiusNy9fVfvvwMxv8Ynl6vxoByANLTWplvuj/nF9m2+PDtt1eiHPBr1oIfhCChQMBw6Aw0UulqTKZdfVvfG7VcfIqLG9bcldL/+pdWTLxLUy8Qq38heUIjh4XlzZxzQm19lLFlr8vdQ97rjZVOLf8nclzckbcD4wxXMidpX30sFd37Fv/GtwwhzhxGVAprjbg0gCAEeIgwCZyTV2Z1REEW8O4py0wsjeloKoMr6iCY6dP92H6Vw/oTyICIthibxjm/DfN9lVz8IqtqKYLUXfoKVMVQVVJOElGjrnnUt9T9wbgp8AyYKaGlqingHZU/uG2NTZSVqwHQTWkx9hxjkpWDaCg6Ckj5qebgBVbT3V3NNXMSiWSDdGV3hrtzla7J+duwPOToIg42ChPQOQjspnSlp1V+Gjdged7+8UN5CRAV7a5EdFNwCjEaBR27b3W890TE7g24NAP/mMDXRWrGoFPQI9ls/MWO2dWFAar/xcOIImbbpA3zgAAAABJRU5ErkJggg==);\n",
       "        }\n",
       "    </style>\n",
       "    <div>\n",
       "        <a href=\"https://bokeh.org\" target=\"_blank\" class=\"bk-notebook-logo\"></a>\n",
       "        <span id=\"a9458445-c8cb-4e91-96a9-c7a7497ccb4f\">Loading BokehJS ...</span>\n",
       "    </div>\n"
      ]
     },
     "metadata": {},
     "output_type": "display_data"
    },
    {
     "data": {
      "application/javascript": "'use strict';\n(function(root) {\n  function now() {\n    return new Date();\n  }\n\n  const force = true;\n\n  if (typeof root._bokeh_onload_callbacks === \"undefined\" || force === true) {\n    root._bokeh_onload_callbacks = [];\n    root._bokeh_is_loading = undefined;\n  }\n\nconst JS_MIME_TYPE = 'application/javascript';\n  const HTML_MIME_TYPE = 'text/html';\n  const EXEC_MIME_TYPE = 'application/vnd.bokehjs_exec.v0+json';\n  const CLASS_NAME = 'output_bokeh rendered_html';\n\n  /**\n   * Render data to the DOM node\n   */\n  function render(props, node) {\n    const script = document.createElement(\"script\");\n    node.appendChild(script);\n  }\n\n  /**\n   * Handle when an output is cleared or removed\n   */\n  function handleClearOutput(event, handle) {\n    function drop(id) {\n      const view = Bokeh.index.get_by_id(id)\n      if (view != null) {\n        view.model.document.clear()\n        Bokeh.index.delete(view)\n      }\n    }\n\n    const cell = handle.cell;\n\n    const id = cell.output_area._bokeh_element_id;\n    const server_id = cell.output_area._bokeh_server_id;\n\n    // Clean up Bokeh references\n    if (id != null) {\n      drop(id)\n    }\n\n    if (server_id !== undefined) {\n      // Clean up Bokeh references\n      const cmd_clean = \"from bokeh.io.state import curstate; print(curstate().uuid_to_server['\" + server_id + \"'].get_sessions()[0].document.roots[0]._id)\";\n      cell.notebook.kernel.execute(cmd_clean, {\n        iopub: {\n          output: function(msg) {\n            const id = msg.content.text.trim()\n            drop(id)\n          }\n        }\n      });\n      // Destroy server and session\n      const cmd_destroy = \"import bokeh.io.notebook as ion; ion.destroy_server('\" + server_id + \"')\";\n      cell.notebook.kernel.execute(cmd_destroy);\n    }\n  }\n\n  /**\n   * Handle when a new output is added\n   */\n  function handleAddOutput(event, handle) {\n    const output_area = handle.output_area;\n    const output = handle.output;\n\n    // limit handleAddOutput to display_data with EXEC_MIME_TYPE content only\n    if ((output.output_type != \"display_data\") || (!Object.prototype.hasOwnProperty.call(output.data, EXEC_MIME_TYPE))) {\n      return\n    }\n\n    const toinsert = output_area.element.find(\".\" + CLASS_NAME.split(' ')[0]);\n\n    if (output.metadata[EXEC_MIME_TYPE][\"id\"] !== undefined) {\n      toinsert[toinsert.length - 1].firstChild.textContent = output.data[JS_MIME_TYPE];\n      // store reference to embed id on output_area\n      output_area._bokeh_element_id = output.metadata[EXEC_MIME_TYPE][\"id\"];\n    }\n    if (output.metadata[EXEC_MIME_TYPE][\"server_id\"] !== undefined) {\n      const bk_div = document.createElement(\"div\");\n      bk_div.innerHTML = output.data[HTML_MIME_TYPE];\n      const script_attrs = bk_div.children[0].attributes;\n      for (let i = 0; i < script_attrs.length; i++) {\n        toinsert[toinsert.length - 1].firstChild.setAttribute(script_attrs[i].name, script_attrs[i].value);\n        toinsert[toinsert.length - 1].firstChild.textContent = bk_div.children[0].textContent\n      }\n      // store reference to server id on output_area\n      output_area._bokeh_server_id = output.metadata[EXEC_MIME_TYPE][\"server_id\"];\n    }\n  }\n\n  function register_renderer(events, OutputArea) {\n\n    function append_mime(data, metadata, element) {\n      // create a DOM node to render to\n      const toinsert = this.create_output_subarea(\n        metadata,\n        CLASS_NAME,\n        EXEC_MIME_TYPE\n      );\n      this.keyboard_manager.register_events(toinsert);\n      // Render to node\n      const props = {data: data, metadata: metadata[EXEC_MIME_TYPE]};\n      render(props, toinsert[toinsert.length - 1]);\n      element.append(toinsert);\n      return toinsert\n    }\n\n    /* Handle when an output is cleared or removed */\n    events.on('clear_output.CodeCell', handleClearOutput);\n    events.on('delete.Cell', handleClearOutput);\n\n    /* Handle when a new output is added */\n    events.on('output_added.OutputArea', handleAddOutput);\n\n    /**\n     * Register the mime type and append_mime function with output_area\n     */\n    OutputArea.prototype.register_mime_type(EXEC_MIME_TYPE, append_mime, {\n      /* Is output safe? */\n      safe: true,\n      /* Index of renderer in `output_area.display_order` */\n      index: 0\n    });\n  }\n\n  // register the mime type if in Jupyter Notebook environment and previously unregistered\n  if (root.Jupyter !== undefined) {\n    const events = require('base/js/events');\n    const OutputArea = require('notebook/js/outputarea').OutputArea;\n\n    if (OutputArea.prototype.mime_types().indexOf(EXEC_MIME_TYPE) == -1) {\n      register_renderer(events, OutputArea);\n    }\n  }\n  if (typeof (root._bokeh_timeout) === \"undefined\" || force === true) {\n    root._bokeh_timeout = Date.now() + 5000;\n    root._bokeh_failed_load = false;\n  }\n\n  const NB_LOAD_WARNING = {'data': {'text/html':\n     \"<div style='background-color: #fdd'>\\n\"+\n     \"<p>\\n\"+\n     \"BokehJS does not appear to have successfully loaded. If loading BokehJS from CDN, this \\n\"+\n     \"may be due to a slow or bad network connection. Possible fixes:\\n\"+\n     \"</p>\\n\"+\n     \"<ul>\\n\"+\n     \"<li>re-rerun `output_notebook()` to attempt to load from CDN again, or</li>\\n\"+\n     \"<li>use INLINE resources instead, as so:</li>\\n\"+\n     \"</ul>\\n\"+\n     \"<code>\\n\"+\n     \"from bokeh.resources import INLINE\\n\"+\n     \"output_notebook(resources=INLINE)\\n\"+\n     \"</code>\\n\"+\n     \"</div>\"}};\n\n  function display_loaded(error = null) {\n    const el = document.getElementById(\"a9458445-c8cb-4e91-96a9-c7a7497ccb4f\");\n    if (el != null) {\n      const html = (() => {\n        if (typeof root.Bokeh === \"undefined\") {\n          if (error == null) {\n            return \"BokehJS is loading ...\";\n          } else {\n            return \"BokehJS failed to load.\";\n          }\n        } else {\n          const prefix = `BokehJS ${root.Bokeh.version}`;\n          if (error == null) {\n            return `${prefix} successfully loaded.`;\n          } else {\n            return `${prefix} <b>encountered errors</b> while loading and may not function as expected.`;\n          }\n        }\n      })();\n      el.innerHTML = html;\n\n      if (error != null) {\n        const wrapper = document.createElement(\"div\");\n        wrapper.style.overflow = \"auto\";\n        wrapper.style.height = \"5em\";\n        wrapper.style.resize = \"vertical\";\n        const content = document.createElement(\"div\");\n        content.style.fontFamily = \"monospace\";\n        content.style.whiteSpace = \"pre-wrap\";\n        content.style.backgroundColor = \"rgb(255, 221, 221)\";\n        content.textContent = error.stack ?? error.toString();\n        wrapper.append(content);\n        el.append(wrapper);\n      }\n    } else if (Date.now() < root._bokeh_timeout) {\n      setTimeout(() => display_loaded(error), 100);\n    }\n  }\n\n  function run_callbacks() {\n    try {\n      root._bokeh_onload_callbacks.forEach(function(callback) {\n        if (callback != null)\n          callback();\n      });\n    } finally {\n      delete root._bokeh_onload_callbacks\n    }\n    console.debug(\"Bokeh: all callbacks have finished\");\n  }\n\n  function load_libs(css_urls, js_urls, callback) {\n    if (css_urls == null) css_urls = [];\n    if (js_urls == null) js_urls = [];\n\n    root._bokeh_onload_callbacks.push(callback);\n    if (root._bokeh_is_loading > 0) {\n      console.debug(\"Bokeh: BokehJS is being loaded, scheduling callback at\", now());\n      return null;\n    }\n    if (js_urls == null || js_urls.length === 0) {\n      run_callbacks();\n      return null;\n    }\n    console.debug(\"Bokeh: BokehJS not loaded, scheduling load and callback at\", now());\n    root._bokeh_is_loading = css_urls.length + js_urls.length;\n\n    function on_load() {\n      root._bokeh_is_loading--;\n      if (root._bokeh_is_loading === 0) {\n        console.debug(\"Bokeh: all BokehJS libraries/stylesheets loaded\");\n        run_callbacks()\n      }\n    }\n\n    function on_error(url) {\n      console.error(\"failed to load \" + url);\n    }\n\n    for (let i = 0; i < css_urls.length; i++) {\n      const url = css_urls[i];\n      const element = document.createElement(\"link\");\n      element.onload = on_load;\n      element.onerror = on_error.bind(null, url);\n      element.rel = \"stylesheet\";\n      element.type = \"text/css\";\n      element.href = url;\n      console.debug(\"Bokeh: injecting link tag for BokehJS stylesheet: \", url);\n      document.body.appendChild(element);\n    }\n\n    for (let i = 0; i < js_urls.length; i++) {\n      const url = js_urls[i];\n      const element = document.createElement('script');\n      element.onload = on_load;\n      element.onerror = on_error.bind(null, url);\n      element.async = false;\n      element.src = url;\n      console.debug(\"Bokeh: injecting script tag for BokehJS library: \", url);\n      document.head.appendChild(element);\n    }\n  };\n\n  function inject_raw_css(css) {\n    const element = document.createElement(\"style\");\n    element.appendChild(document.createTextNode(css));\n    document.body.appendChild(element);\n  }\n\n  const js_urls = [\"https://cdn.bokeh.org/bokeh/release/bokeh-3.4.1.min.js\", \"https://cdn.bokeh.org/bokeh/release/bokeh-gl-3.4.1.min.js\", \"https://cdn.bokeh.org/bokeh/release/bokeh-widgets-3.4.1.min.js\", \"https://cdn.bokeh.org/bokeh/release/bokeh-tables-3.4.1.min.js\", \"https://cdn.bokeh.org/bokeh/release/bokeh-mathjax-3.4.1.min.js\", \"https://unpkg.com/@holoviz/panel@1.4.1/dist/panel.min.js\"];\n  const css_urls = [];\n\n  const inline_js = [    function(Bokeh) {\n      Bokeh.set_log_level(\"info\");\n    },\nfunction(Bokeh) {\n    }\n  ];\n\n  function run_inline_js() {\n    if (root.Bokeh !== undefined || force === true) {\n      try {\n            for (let i = 0; i < inline_js.length; i++) {\n      inline_js[i].call(root, root.Bokeh);\n    }\n\n      } catch (error) {display_loaded(error);throw error;\n      }if (force === true) {\n        display_loaded();\n      }} else if (Date.now() < root._bokeh_timeout) {\n      setTimeout(run_inline_js, 100);\n    } else if (!root._bokeh_failed_load) {\n      console.log(\"Bokeh: BokehJS failed to load within specified timeout.\");\n      root._bokeh_failed_load = true;\n    } else if (force !== true) {\n      const cell = $(document.getElementById(\"a9458445-c8cb-4e91-96a9-c7a7497ccb4f\")).parents('.cell').data().cell;\n      cell.output_area.append_execute_result(NB_LOAD_WARNING)\n    }\n  }\n\n  if (root._bokeh_is_loading === 0) {\n    console.debug(\"Bokeh: BokehJS loaded, going straight to plotting\");\n    run_inline_js();\n  } else {\n    load_libs(css_urls, js_urls, function() {\n      console.debug(\"Bokeh: BokehJS plotting callback run at\", now());\n      run_inline_js();\n    });\n  }\n}(window));",
      "application/vnd.bokehjs_load.v0+json": ""
     },
     "metadata": {},
     "output_type": "display_data"
    },
    {
     "data": {
      "application/javascript": "(function(root) {\n  function now() {\n    return new Date();\n  }\n\n  var force = true;\n  var py_version = '3.4.1'.replace('rc', '-rc.').replace('.dev', '-dev.');\n  var reloading = false;\n  var Bokeh = root.Bokeh;\n\n  if (typeof (root._bokeh_timeout) === \"undefined\" || force) {\n    root._bokeh_timeout = Date.now() + 5000;\n    root._bokeh_failed_load = false;\n  }\n\n  function run_callbacks() {\n    try {\n      root._bokeh_onload_callbacks.forEach(function(callback) {\n        if (callback != null)\n          callback();\n      });\n    } finally {\n      delete root._bokeh_onload_callbacks;\n    }\n    console.debug(\"Bokeh: all callbacks have finished\");\n  }\n\n  function load_libs(css_urls, js_urls, js_modules, js_exports, callback) {\n    if (css_urls == null) css_urls = [];\n    if (js_urls == null) js_urls = [];\n    if (js_modules == null) js_modules = [];\n    if (js_exports == null) js_exports = {};\n\n    root._bokeh_onload_callbacks.push(callback);\n\n    if (root._bokeh_is_loading > 0) {\n      console.debug(\"Bokeh: BokehJS is being loaded, scheduling callback at\", now());\n      return null;\n    }\n    if (js_urls.length === 0 && js_modules.length === 0 && Object.keys(js_exports).length === 0) {\n      run_callbacks();\n      return null;\n    }\n    if (!reloading) {\n      console.debug(\"Bokeh: BokehJS not loaded, scheduling load and callback at\", now());\n    }\n\n    function on_load() {\n      root._bokeh_is_loading--;\n      if (root._bokeh_is_loading === 0) {\n        console.debug(\"Bokeh: all BokehJS libraries/stylesheets loaded\");\n        run_callbacks()\n      }\n    }\n    window._bokeh_on_load = on_load\n\n    function on_error() {\n      console.error(\"failed to load \" + url);\n    }\n\n    var skip = [];\n    if (window.requirejs) {\n      window.requirejs.config({'packages': {}, 'paths': {'ace': '//cdnjs.cloudflare.com/ajax/libs/ace/1.4.7'}, 'shim': {'ace/ext-language_tools': {'deps': ['ace/ace']}, 'ace/ext-modelist': {'deps': ['ace/ace']}}});\n      require([\"ace/ace\"], function(ace) {\n\twindow.ace = ace\n\ton_load()\n      })\n      require([\"ace/ext-language_tools\"], function() {\n\ton_load()\n      })\n      require([\"ace/ext-modelist\"], function() {\n\ton_load()\n      })\n      root._bokeh_is_loading = css_urls.length + 3;\n    } else {\n      root._bokeh_is_loading = css_urls.length + js_urls.length + js_modules.length + Object.keys(js_exports).length;\n    }\n\n    var existing_stylesheets = []\n    var links = document.getElementsByTagName('link')\n    for (var i = 0; i < links.length; i++) {\n      var link = links[i]\n      if (link.href != null) {\n\texisting_stylesheets.push(link.href)\n      }\n    }\n    for (var i = 0; i < css_urls.length; i++) {\n      var url = css_urls[i];\n      if (existing_stylesheets.indexOf(url) !== -1) {\n\ton_load()\n\tcontinue;\n      }\n      const element = document.createElement(\"link\");\n      element.onload = on_load;\n      element.onerror = on_error;\n      element.rel = \"stylesheet\";\n      element.type = \"text/css\";\n      element.href = url;\n      console.debug(\"Bokeh: injecting link tag for BokehJS stylesheet: \", url);\n      document.body.appendChild(element);\n    }    if (((window.ace !== undefined) && (!(window.ace instanceof HTMLElement))) || window.requirejs) {\n      var urls = ['https://cdnjs.cloudflare.com/ajax/libs/ace/1.4.11/ace.js', 'https://cdnjs.cloudflare.com/ajax/libs/ace/1.4.11/ext-language_tools.js', 'https://cdnjs.cloudflare.com/ajax/libs/ace/1.4.11/ext-modelist.js'];\n      for (var i = 0; i < urls.length; i++) {\n        skip.push(urls[i])\n      }\n    }    var existing_scripts = []\n    var scripts = document.getElementsByTagName('script')\n    for (var i = 0; i < scripts.length; i++) {\n      var script = scripts[i]\n      if (script.src != null) {\n\texisting_scripts.push(script.src)\n      }\n    }\n    for (var i = 0; i < js_urls.length; i++) {\n      var url = js_urls[i];\n      if (skip.indexOf(url) !== -1 || existing_scripts.indexOf(url) !== -1) {\n\tif (!window.requirejs) {\n\t  on_load();\n\t}\n\tcontinue;\n      }\n      var element = document.createElement('script');\n      element.onload = on_load;\n      element.onerror = on_error;\n      element.async = false;\n      element.src = url;\n      console.debug(\"Bokeh: injecting script tag for BokehJS library: \", url);\n      document.head.appendChild(element);\n    }\n    for (var i = 0; i < js_modules.length; i++) {\n      var url = js_modules[i];\n      if (skip.indexOf(url) !== -1 || existing_scripts.indexOf(url) !== -1) {\n\tif (!window.requirejs) {\n\t  on_load();\n\t}\n\tcontinue;\n      }\n      var element = document.createElement('script');\n      element.onload = on_load;\n      element.onerror = on_error;\n      element.async = false;\n      element.src = url;\n      element.type = \"module\";\n      console.debug(\"Bokeh: injecting script tag for BokehJS library: \", url);\n      document.head.appendChild(element);\n    }\n    for (const name in js_exports) {\n      var url = js_exports[name];\n      if (skip.indexOf(url) >= 0 || root[name] != null) {\n\tif (!window.requirejs) {\n\t  on_load();\n\t}\n\tcontinue;\n      }\n      var element = document.createElement('script');\n      element.onerror = on_error;\n      element.async = false;\n      element.type = \"module\";\n      console.debug(\"Bokeh: injecting script tag for BokehJS library: \", url);\n      element.textContent = `\n      import ${name} from \"${url}\"\n      window.${name} = ${name}\n      window._bokeh_on_load()\n      `\n      document.head.appendChild(element);\n    }\n    if (!js_urls.length && !js_modules.length) {\n      on_load()\n    }\n  };\n\n  function inject_raw_css(css) {\n    const element = document.createElement(\"style\");\n    element.appendChild(document.createTextNode(css));\n    document.body.appendChild(element);\n  }\n\n  var js_urls = [\"https://cdnjs.cloudflare.com/ajax/libs/ace/1.4.11/ace.js\", \"https://cdnjs.cloudflare.com/ajax/libs/ace/1.4.11/ext-language_tools.js\", \"https://cdnjs.cloudflare.com/ajax/libs/ace/1.4.11/ext-modelist.js\", \"https://cdn.bokeh.org/bokeh/release/bokeh-3.4.1.min.js\", \"https://cdn.bokeh.org/bokeh/release/bokeh-gl-3.4.1.min.js\", \"https://cdn.bokeh.org/bokeh/release/bokeh-widgets-3.4.1.min.js\", \"https://cdn.bokeh.org/bokeh/release/bokeh-tables-3.4.1.min.js\", \"https://cdn.holoviz.org/panel/1.4.1/dist/panel.min.js\"];\n  var js_modules = [];\n  var js_exports = {};\n  var css_urls = [];\n  var inline_js = [    function(Bokeh) {\n      inject_raw_css(\"/*\\n ~ CML // Creative Machine Learning ~\\n mml.css : CSS styling information for Panel and Bokeh\\n \\n This file defines the main CSS styling information for the CML course\\n \\n Author               :  Philippe Esling\\n                        <esling@ircam.fr>\\n*/\\n\\nbody {\\n  display: flex;\\n  height: 100vh;\\n  margin: 0px;\\n  overflow-x: hidden;\\n  overflow-y: hidden;\\n}\\n\\n.bk-root .bk, .bk-root .bk:before, .bk-root .bk:after {\\n  font-family: \\\"Josefin Sans\\\";\\n}\\n\\nimg {\\n  max-width: 100%;\\n}\\n\\n#container {\\n  padding:0px;\\n  height:100vh;\\n  width: 100vw;\\n  max-width: 100vw;\\n}\\n\\n#sidebar .mdc-list {\\n  padding-left: 5px;\\n  padding-right: 5px;\\n}\\n\\n.mdc-drawer-app-content {\\n  flex: auto;\\n  position: relative;\\n  overflow: hidden;\\n}\\n\\n.mdc-drawer {\\n  background: #FAFAFA; /* GRAY 50 */\\n}\\n\\n.mdc-drawer-app-content {\\n  margin-left: 0 !important;\\n}\\n\\n.title-bar {\\n  display: contents;\\n  justify-content: center;\\n  align-content: center;\\n  width: 100%;\\n}\\n\\n.mdc-top-app-bar .bk-menu {\\n  color: black\\n}\\n\\n.app-header {\\n  display: contents;\\n  padding-left: 10px;\\n  font-size: 1.25em;\\n}\\n\\nimg.app-logo {\\n  padding-right: 10px;\\n  font-size: 28px;\\n  height: 30px;\\n  max-width: inherit;\\n  padding-top: 12px;\\n  padding-bottom: 6px;\\n}\\n\\n#app-title {\\n  padding-right: 12px;\\n  padding-left: 12px;\\n}\\n\\n.title {\\n  font-family: \\\"Josefin Sans\\\";\\n  color: #fff;\\n  text-decoration: none;\\n  text-decoration-line: none;\\n  text-decoration-style: initial;\\n  text-decoration-color: initial;\\n  font-weight: 400;\\n  font-size: 2em;\\n  line-height: 2em;\\n  white-space: nowrap;\\n}\\n\\n.main-content {\\n  overflow-y: scroll;\\n  overflow-x: auto;\\n}\\n\\n#header {\\n  position: absolute;\\n  z-index: 7;\\n}\\n\\n#header-items {\\n  width: 100%;\\n  margin-left:15px;\\n}\\n\\n.pn-busy-container {\\n  align-items: center;\\n  justify-content: center;\\n  display: flex;\\n}\\n\\n.mdc-drawer__content {\\n  overflow-x: hidden;\\n}\\n.mdc-drawer__content, .main-content {\\n  padding: 12px;\\n}\\n\\n.main-content {\\n  height: calc(100vh - 88px);\\n  max-height: calc(100vh - 88px);\\n  padding-right: 32px;\\n}\\n\\nbutton.mdc-button.mdc-card-button {\\n  color: transparent;\\n  height: 50px;\\n}\\n\\np.mdc-button {\\n  display: none;\\n}\\n\\ndiv.mdc-card {\\n  border-radius: 0px\\n}\\n\\n.mdc-card .card-header {\\n  display: flex;\\n}\\n\\n.mdc-card-title {\\n  font-family: \\\"Josefin Sans\\\";\\n  font-weight: bold;\\n  align-items: center;\\n  display: flex !important;\\n  position: relative !important;\\n}\\n\\n.mdc-card-title:nth-child(2) {\\n  margin-left: -1.4em;\\n}\\n\\n.pn-modal {\\n  overflow-y: scroll;\\n  width: 100%;\\n  display: none;\\n  position: absolute;\\n  top: 0;\\n  left: 0;\\n}\\n\\n.pn-modal-content {\\n  font-family: \\\"Josefin Sans\\\";\\n  background-color: #0e0e0e;\\n  margin: auto;\\n  margin-top: 25px;\\n  margin-bottom: 25px;\\n  padding: 15px 20px 20px 20px;\\n  border: 1px solid #888;\\n  width: 80% !important;\\n}\\n\\n.pn-modal-close {\\n  position: absolute;\\n  right: 25px;\\n  z-index: 100;\\n}\\n\\n.pn-modal-close:hover,\\n.pn-modal-close:focus {\\n  color: #000;\\n  text-decoration: none;\\n  cursor: pointer;\\n}\\n\\n.custom_button_bokeh button.bk-btn.bk-btn-default {\\n    font-size:48pt;\\n    background-color: #05b7ff;\\n    border-color: #05b7ff;\\n}\");\n    },    function(Bokeh) {\n      Bokeh.set_log_level(\"info\");\n    },\nfunction(Bokeh) {} // ensure no trailing comma for IE\n  ];\n\n  function run_inline_js() {\n    if ((root.Bokeh !== undefined) || (force === true)) {\n      for (var i = 0; i < inline_js.length; i++) {\n\ttry {\n          inline_js[i].call(root, root.Bokeh);\n\t} catch(e) {\n\t  if (!reloading) {\n\t    throw e;\n\t  }\n\t}\n      }\n      // Cache old bokeh versions\n      if (Bokeh != undefined && !reloading) {\n\tvar NewBokeh = root.Bokeh;\n\tif (Bokeh.versions === undefined) {\n\t  Bokeh.versions = new Map();\n\t}\n\tif (NewBokeh.version !== Bokeh.version) {\n\t  Bokeh.versions.set(NewBokeh.version, NewBokeh)\n\t}\n\troot.Bokeh = Bokeh;\n      }} else if (Date.now() < root._bokeh_timeout) {\n      setTimeout(run_inline_js, 100);\n    } else if (!root._bokeh_failed_load) {\n      console.log(\"Bokeh: BokehJS failed to load within specified timeout.\");\n      root._bokeh_failed_load = true;\n    }\n    root._bokeh_is_initializing = false\n  }\n\n  function load_or_wait() {\n    // Implement a backoff loop that tries to ensure we do not load multiple\n    // versions of Bokeh and its dependencies at the same time.\n    // In recent versions we use the root._bokeh_is_initializing flag\n    // to determine whether there is an ongoing attempt to initialize\n    // bokeh, however for backward compatibility we also try to ensure\n    // that we do not start loading a newer (Panel>=1.0 and Bokeh>3) version\n    // before older versions are fully initialized.\n    if (root._bokeh_is_initializing && Date.now() > root._bokeh_timeout) {\n      root._bokeh_is_initializing = false;\n      root._bokeh_onload_callbacks = undefined;\n      console.log(\"Bokeh: BokehJS was loaded multiple times but one version failed to initialize.\");\n      load_or_wait();\n    } else if (root._bokeh_is_initializing || (typeof root._bokeh_is_initializing === \"undefined\" && root._bokeh_onload_callbacks !== undefined)) {\n      setTimeout(load_or_wait, 100);\n    } else {\n      root._bokeh_is_initializing = true\n      root._bokeh_onload_callbacks = []\n      var bokeh_loaded = Bokeh != null && (Bokeh.version === py_version || (Bokeh.versions !== undefined && Bokeh.versions.has(py_version)));\n      if (!reloading && !bokeh_loaded) {\n\troot.Bokeh = undefined;\n      }\n      load_libs(css_urls, js_urls, js_modules, js_exports, function() {\n\tconsole.debug(\"Bokeh: BokehJS plotting callback run at\", now());\n\trun_inline_js();\n      });\n    }\n  }\n  // Give older versions of the autoload script a head-start to ensure\n  // they initialize before we start loading newer version.\n  setTimeout(load_or_wait, 100)\n}(window));",
      "application/vnd.holoviews_load.v0+json": ""
     },
     "metadata": {},
     "output_type": "display_data"
    },
    {
     "data": {
      "application/javascript": "\nif ((window.PyViz === undefined) || (window.PyViz instanceof HTMLElement)) {\n  window.PyViz = {comms: {}, comm_status:{}, kernels:{}, receivers: {}, plot_index: []}\n}\n\n\n    function JupyterCommManager() {\n    }\n\n    JupyterCommManager.prototype.register_target = function(plot_id, comm_id, msg_handler) {\n      if (window.comm_manager || ((window.Jupyter !== undefined) && (Jupyter.notebook.kernel != null))) {\n        var comm_manager = window.comm_manager || Jupyter.notebook.kernel.comm_manager;\n        comm_manager.register_target(comm_id, function(comm) {\n          comm.on_msg(msg_handler);\n        });\n      } else if ((plot_id in window.PyViz.kernels) && (window.PyViz.kernels[plot_id])) {\n        window.PyViz.kernels[plot_id].registerCommTarget(comm_id, function(comm) {\n          comm.onMsg = msg_handler;\n        });\n      } else if (typeof google != 'undefined' && google.colab.kernel != null) {\n        google.colab.kernel.comms.registerTarget(comm_id, (comm) => {\n          var messages = comm.messages[Symbol.asyncIterator]();\n          function processIteratorResult(result) {\n            var message = result.value;\n            console.log(message)\n            var content = {data: message.data, comm_id};\n            var buffers = []\n            for (var buffer of message.buffers || []) {\n              buffers.push(new DataView(buffer))\n            }\n            var metadata = message.metadata || {};\n            var msg = {content, buffers, metadata}\n            msg_handler(msg);\n            return messages.next().then(processIteratorResult);\n          }\n          return messages.next().then(processIteratorResult);\n        })\n      }\n    }\n\n    JupyterCommManager.prototype.get_client_comm = function(plot_id, comm_id, msg_handler) {\n      if (comm_id in window.PyViz.comms) {\n        return window.PyViz.comms[comm_id];\n      } else if (window.comm_manager || ((window.Jupyter !== undefined) && (Jupyter.notebook.kernel != null))) {\n        var comm_manager = window.comm_manager || Jupyter.notebook.kernel.comm_manager;\n        var comm = comm_manager.new_comm(comm_id, {}, {}, {}, comm_id);\n        if (msg_handler) {\n          comm.on_msg(msg_handler);\n        }\n      } else if ((plot_id in window.PyViz.kernels) && (window.PyViz.kernels[plot_id])) {\n        var comm = window.PyViz.kernels[plot_id].connectToComm(comm_id);\n        comm.open();\n        if (msg_handler) {\n          comm.onMsg = msg_handler;\n        }\n      } else if (typeof google != 'undefined' && google.colab.kernel != null) {\n        var comm_promise = google.colab.kernel.comms.open(comm_id)\n        comm_promise.then((comm) => {\n          window.PyViz.comms[comm_id] = comm;\n          if (msg_handler) {\n            var messages = comm.messages[Symbol.asyncIterator]();\n            function processIteratorResult(result) {\n              var message = result.value;\n              var content = {data: message.data};\n              var metadata = message.metadata || {comm_id};\n              var msg = {content, metadata}\n              msg_handler(msg);\n              return messages.next().then(processIteratorResult);\n            }\n            return messages.next().then(processIteratorResult);\n          }\n        }) \n        var sendClosure = (data, metadata, buffers, disposeOnDone) => {\n          return comm_promise.then((comm) => {\n            comm.send(data, metadata, buffers, disposeOnDone);\n          });\n        };\n        var comm = {\n          send: sendClosure\n        };\n      }\n      window.PyViz.comms[comm_id] = comm;\n      return comm;\n    }\n    window.PyViz.comm_manager = new JupyterCommManager();\n    \n\n\nvar JS_MIME_TYPE = 'application/javascript';\nvar HTML_MIME_TYPE = 'text/html';\nvar EXEC_MIME_TYPE = 'application/vnd.holoviews_exec.v0+json';\nvar CLASS_NAME = 'output';\n\n/**\n * Render data to the DOM node\n */\nfunction render(props, node) {\n  var div = document.createElement(\"div\");\n  var script = document.createElement(\"script\");\n  node.appendChild(div);\n  node.appendChild(script);\n}\n\n/**\n * Handle when a new output is added\n */\nfunction handle_add_output(event, handle) {\n  var output_area = handle.output_area;\n  var output = handle.output;\n  if ((output.data == undefined) || (!output.data.hasOwnProperty(EXEC_MIME_TYPE))) {\n    return\n  }\n  var id = output.metadata[EXEC_MIME_TYPE][\"id\"];\n  var toinsert = output_area.element.find(\".\" + CLASS_NAME.split(' ')[0]);\n  if (id !== undefined) {\n    var nchildren = toinsert.length;\n    var html_node = toinsert[nchildren-1].children[0];\n    html_node.innerHTML = output.data[HTML_MIME_TYPE];\n    var scripts = [];\n    var nodelist = html_node.querySelectorAll(\"script\");\n    for (var i in nodelist) {\n      if (nodelist.hasOwnProperty(i)) {\n        scripts.push(nodelist[i])\n      }\n    }\n\n    scripts.forEach( function (oldScript) {\n      var newScript = document.createElement(\"script\");\n      var attrs = [];\n      var nodemap = oldScript.attributes;\n      for (var j in nodemap) {\n        if (nodemap.hasOwnProperty(j)) {\n          attrs.push(nodemap[j])\n        }\n      }\n      attrs.forEach(function(attr) { newScript.setAttribute(attr.name, attr.value) });\n      newScript.appendChild(document.createTextNode(oldScript.innerHTML));\n      oldScript.parentNode.replaceChild(newScript, oldScript);\n    });\n    if (JS_MIME_TYPE in output.data) {\n      toinsert[nchildren-1].children[1].textContent = output.data[JS_MIME_TYPE];\n    }\n    output_area._hv_plot_id = id;\n    if ((window.Bokeh !== undefined) && (id in Bokeh.index)) {\n      window.PyViz.plot_index[id] = Bokeh.index[id];\n    } else {\n      window.PyViz.plot_index[id] = null;\n    }\n  } else if (output.metadata[EXEC_MIME_TYPE][\"server_id\"] !== undefined) {\n    var bk_div = document.createElement(\"div\");\n    bk_div.innerHTML = output.data[HTML_MIME_TYPE];\n    var script_attrs = bk_div.children[0].attributes;\n    for (var i = 0; i < script_attrs.length; i++) {\n      toinsert[toinsert.length - 1].childNodes[1].setAttribute(script_attrs[i].name, script_attrs[i].value);\n    }\n    // store reference to server id on output_area\n    output_area._bokeh_server_id = output.metadata[EXEC_MIME_TYPE][\"server_id\"];\n  }\n}\n\n/**\n * Handle when an output is cleared or removed\n */\nfunction handle_clear_output(event, handle) {\n  var id = handle.cell.output_area._hv_plot_id;\n  var server_id = handle.cell.output_area._bokeh_server_id;\n  if (((id === undefined) || !(id in PyViz.plot_index)) && (server_id !== undefined)) { return; }\n  var comm = window.PyViz.comm_manager.get_client_comm(\"hv-extension-comm\", \"hv-extension-comm\", function () {});\n  if (server_id !== null) {\n    comm.send({event_type: 'server_delete', 'id': server_id});\n    return;\n  } else if (comm !== null) {\n    comm.send({event_type: 'delete', 'id': id});\n  }\n  delete PyViz.plot_index[id];\n  if ((window.Bokeh !== undefined) & (id in window.Bokeh.index)) {\n    var doc = window.Bokeh.index[id].model.document\n    doc.clear();\n    const i = window.Bokeh.documents.indexOf(doc);\n    if (i > -1) {\n      window.Bokeh.documents.splice(i, 1);\n    }\n  }\n}\n\n/**\n * Handle kernel restart event\n */\nfunction handle_kernel_cleanup(event, handle) {\n  delete PyViz.comms[\"hv-extension-comm\"];\n  window.PyViz.plot_index = {}\n}\n\n/**\n * Handle update_display_data messages\n */\nfunction handle_update_output(event, handle) {\n  handle_clear_output(event, {cell: {output_area: handle.output_area}})\n  handle_add_output(event, handle)\n}\n\nfunction register_renderer(events, OutputArea) {\n  function append_mime(data, metadata, element) {\n    // create a DOM node to render to\n    var toinsert = this.create_output_subarea(\n    metadata,\n    CLASS_NAME,\n    EXEC_MIME_TYPE\n    );\n    this.keyboard_manager.register_events(toinsert);\n    // Render to node\n    var props = {data: data, metadata: metadata[EXEC_MIME_TYPE]};\n    render(props, toinsert[0]);\n    element.append(toinsert);\n    return toinsert\n  }\n\n  events.on('output_added.OutputArea', handle_add_output);\n  events.on('output_updated.OutputArea', handle_update_output);\n  events.on('clear_output.CodeCell', handle_clear_output);\n  events.on('delete.Cell', handle_clear_output);\n  events.on('kernel_ready.Kernel', handle_kernel_cleanup);\n\n  OutputArea.prototype.register_mime_type(EXEC_MIME_TYPE, append_mime, {\n    safe: true,\n    index: 0\n  });\n}\n\nif (window.Jupyter !== undefined) {\n  try {\n    var events = require('base/js/events');\n    var OutputArea = require('notebook/js/outputarea').OutputArea;\n    if (OutputArea.prototype.mime_types().indexOf(EXEC_MIME_TYPE) == -1) {\n      register_renderer(events, OutputArea);\n    }\n  } catch(err) {\n  }\n}\n",
      "application/vnd.holoviews_load.v0+json": ""
     },
     "metadata": {},
     "output_type": "display_data"
    },
    {
     "data": {
      "text/html": [
       "<style>*[data-root-id],\n",
       "*[data-root-id] > * {\n",
       "  box-sizing: border-box;\n",
       "  font-family: var(--jp-ui-font-family);\n",
       "  font-size: var(--jp-ui-font-size1);\n",
       "  color: var(--vscode-editor-foreground, var(--jp-ui-font-color1));\n",
       "}\n",
       "\n",
       "/* Override VSCode background color */\n",
       ".cell-output-ipywidget-background:has(\n",
       "    > .cell-output-ipywidget-background > .lm-Widget > *[data-root-id]\n",
       "  ),\n",
       ".cell-output-ipywidget-background:has(> .lm-Widget > *[data-root-id]) {\n",
       "  background-color: transparent !important;\n",
       "}\n",
       "</style>"
      ]
     },
     "metadata": {},
     "output_type": "display_data"
    },
    {
     "data": {
      "application/vnd.holoviews_exec.v0+json": "",
      "text/html": [
       "<div id='aea0c25e-ce82-4bdc-aeaa-194abc82116b'>\n",
       "  <div id=\"c586979c-8826-4ef9-8b10-b096a57c495e\" data-root-id=\"aea0c25e-ce82-4bdc-aeaa-194abc82116b\" style=\"display: contents;\"></div>\n",
       "</div>\n",
       "<script type=\"application/javascript\">(function(root) {\n",
       "  var docs_json = {\"6e282657-f533-4d57-aea3-b8bcf05bca4d\":{\"version\":\"3.4.1\",\"title\":\"Bokeh Application\",\"roots\":[{\"type\":\"object\",\"name\":\"panel.models.browser.BrowserInfo\",\"id\":\"aea0c25e-ce82-4bdc-aeaa-194abc82116b\"},{\"type\":\"object\",\"name\":\"panel.models.comm_manager.CommManager\",\"id\":\"98bb16c4-8ed1-469b-b65b-79d739b09bb0\",\"attributes\":{\"plot_id\":\"aea0c25e-ce82-4bdc-aeaa-194abc82116b\",\"comm_id\":\"40b1b19d8bc74376aa2b0f49593fc2ef\",\"client_comm_id\":\"f85cc68ec27d4c10a8d84a5b36d12893\"}}],\"defs\":[{\"type\":\"model\",\"name\":\"ReactiveHTML1\"},{\"type\":\"model\",\"name\":\"FlexBox1\",\"properties\":[{\"name\":\"align_content\",\"kind\":\"Any\",\"default\":\"flex-start\"},{\"name\":\"align_items\",\"kind\":\"Any\",\"default\":\"flex-start\"},{\"name\":\"flex_direction\",\"kind\":\"Any\",\"default\":\"row\"},{\"name\":\"flex_wrap\",\"kind\":\"Any\",\"default\":\"wrap\"},{\"name\":\"gap\",\"kind\":\"Any\",\"default\":\"\"},{\"name\":\"justify_content\",\"kind\":\"Any\",\"default\":\"flex-start\"}]},{\"type\":\"model\",\"name\":\"FloatPanel1\",\"properties\":[{\"name\":\"config\",\"kind\":\"Any\",\"default\":{\"type\":\"map\"}},{\"name\":\"contained\",\"kind\":\"Any\",\"default\":true},{\"name\":\"position\",\"kind\":\"Any\",\"default\":\"right-top\"},{\"name\":\"offsetx\",\"kind\":\"Any\",\"default\":null},{\"name\":\"offsety\",\"kind\":\"Any\",\"default\":null},{\"name\":\"theme\",\"kind\":\"Any\",\"default\":\"primary\"},{\"name\":\"status\",\"kind\":\"Any\",\"default\":\"normalized\"}]},{\"type\":\"model\",\"name\":\"GridStack1\",\"properties\":[{\"name\":\"mode\",\"kind\":\"Any\",\"default\":\"warn\"},{\"name\":\"ncols\",\"kind\":\"Any\",\"default\":null},{\"name\":\"nrows\",\"kind\":\"Any\",\"default\":null},{\"name\":\"allow_resize\",\"kind\":\"Any\",\"default\":true},{\"name\":\"allow_drag\",\"kind\":\"Any\",\"default\":true},{\"name\":\"state\",\"kind\":\"Any\",\"default\":[]}]},{\"type\":\"model\",\"name\":\"drag1\",\"properties\":[{\"name\":\"slider_width\",\"kind\":\"Any\",\"default\":5},{\"name\":\"slider_color\",\"kind\":\"Any\",\"default\":\"black\"},{\"name\":\"value\",\"kind\":\"Any\",\"default\":50}]},{\"type\":\"model\",\"name\":\"click1\",\"properties\":[{\"name\":\"terminal_output\",\"kind\":\"Any\",\"default\":\"\"},{\"name\":\"debug_name\",\"kind\":\"Any\",\"default\":\"\"},{\"name\":\"clears\",\"kind\":\"Any\",\"default\":0}]},{\"type\":\"model\",\"name\":\"FastWrapper1\",\"properties\":[{\"name\":\"object\",\"kind\":\"Any\",\"default\":null},{\"name\":\"style\",\"kind\":\"Any\",\"default\":null}]},{\"type\":\"model\",\"name\":\"NotificationAreaBase1\",\"properties\":[{\"name\":\"js_events\",\"kind\":\"Any\",\"default\":{\"type\":\"map\"}},{\"name\":\"position\",\"kind\":\"Any\",\"default\":\"bottom-right\"},{\"name\":\"_clear\",\"kind\":\"Any\",\"default\":0}]},{\"type\":\"model\",\"name\":\"NotificationArea1\",\"properties\":[{\"name\":\"js_events\",\"kind\":\"Any\",\"default\":{\"type\":\"map\"}},{\"name\":\"notifications\",\"kind\":\"Any\",\"default\":[]},{\"name\":\"position\",\"kind\":\"Any\",\"default\":\"bottom-right\"},{\"name\":\"_clear\",\"kind\":\"Any\",\"default\":0},{\"name\":\"types\",\"kind\":\"Any\",\"default\":[{\"type\":\"map\",\"entries\":[[\"type\",\"warning\"],[\"background\",\"#ffc107\"],[\"icon\",{\"type\":\"map\",\"entries\":[[\"className\",\"fas fa-exclamation-triangle\"],[\"tagName\",\"i\"],[\"color\",\"white\"]]}]]},{\"type\":\"map\",\"entries\":[[\"type\",\"info\"],[\"background\",\"#007bff\"],[\"icon\",{\"type\":\"map\",\"entries\":[[\"className\",\"fas fa-info-circle\"],[\"tagName\",\"i\"],[\"color\",\"white\"]]}]]}]}]},{\"type\":\"model\",\"name\":\"Notification\",\"properties\":[{\"name\":\"background\",\"kind\":\"Any\",\"default\":null},{\"name\":\"duration\",\"kind\":\"Any\",\"default\":3000},{\"name\":\"icon\",\"kind\":\"Any\",\"default\":null},{\"name\":\"message\",\"kind\":\"Any\",\"default\":\"\"},{\"name\":\"notification_type\",\"kind\":\"Any\",\"default\":null},{\"name\":\"_destroyed\",\"kind\":\"Any\",\"default\":false}]},{\"type\":\"model\",\"name\":\"TemplateActions1\",\"properties\":[{\"name\":\"open_modal\",\"kind\":\"Any\",\"default\":0},{\"name\":\"close_modal\",\"kind\":\"Any\",\"default\":0}]},{\"type\":\"model\",\"name\":\"BootstrapTemplateActions1\",\"properties\":[{\"name\":\"open_modal\",\"kind\":\"Any\",\"default\":0},{\"name\":\"close_modal\",\"kind\":\"Any\",\"default\":0}]},{\"type\":\"model\",\"name\":\"TemplateEditor1\",\"properties\":[{\"name\":\"layout\",\"kind\":\"Any\",\"default\":[]}]},{\"type\":\"model\",\"name\":\"MaterialTemplateActions1\",\"properties\":[{\"name\":\"open_modal\",\"kind\":\"Any\",\"default\":0},{\"name\":\"close_modal\",\"kind\":\"Any\",\"default\":0}]},{\"type\":\"model\",\"name\":\"copy_to_clipboard1\",\"properties\":[{\"name\":\"fill\",\"kind\":\"Any\",\"default\":\"none\"},{\"name\":\"value\",\"kind\":\"Any\",\"default\":null}]}]}};\n",
       "  var render_items = [{\"docid\":\"6e282657-f533-4d57-aea3-b8bcf05bca4d\",\"roots\":{\"aea0c25e-ce82-4bdc-aeaa-194abc82116b\":\"c586979c-8826-4ef9-8b10-b096a57c495e\"},\"root_ids\":[\"aea0c25e-ce82-4bdc-aeaa-194abc82116b\"]}];\n",
       "  var docs = Object.values(docs_json)\n",
       "  if (!docs) {\n",
       "    return\n",
       "  }\n",
       "  const py_version = docs[0].version.replace('rc', '-rc.').replace('.dev', '-dev.')\n",
       "  function embed_document(root) {\n",
       "    var Bokeh = get_bokeh(root)\n",
       "    Bokeh.embed.embed_items_notebook(docs_json, render_items);\n",
       "    for (const render_item of render_items) {\n",
       "      for (const root_id of render_item.root_ids) {\n",
       "\tconst id_el = document.getElementById(root_id)\n",
       "\tif (id_el.children.length && (id_el.children[0].className === 'bk-root')) {\n",
       "\t  const root_el = id_el.children[0]\n",
       "\t  root_el.id = root_el.id + '-rendered'\n",
       "\t}\n",
       "      }\n",
       "    }\n",
       "  }\n",
       "  function get_bokeh(root) {\n",
       "    if (root.Bokeh === undefined) {\n",
       "      return null\n",
       "    } else if (root.Bokeh.version !== py_version) {\n",
       "      if (root.Bokeh.versions === undefined || !root.Bokeh.versions.has(py_version)) {\n",
       "\treturn null\n",
       "      }\n",
       "      return root.Bokeh.versions.get(py_version);\n",
       "    } else if (root.Bokeh.version === py_version) {\n",
       "      return root.Bokeh\n",
       "    }\n",
       "    return null\n",
       "  }\n",
       "  function is_loaded(root) {\n",
       "    var Bokeh = get_bokeh(root)\n",
       "    return (Bokeh != null && Bokeh.Panel !== undefined)\n",
       "  }\n",
       "  if (is_loaded(root)) {\n",
       "    embed_document(root);\n",
       "  } else {\n",
       "    var attempts = 0;\n",
       "    var timer = setInterval(function(root) {\n",
       "      if (is_loaded(root)) {\n",
       "        clearInterval(timer);\n",
       "        embed_document(root);\n",
       "      } else if (document.readyState == \"complete\") {\n",
       "        attempts++;\n",
       "        if (attempts > 200) {\n",
       "          clearInterval(timer);\n",
       "\t  var Bokeh = get_bokeh(root)\n",
       "\t  if (Bokeh == null || Bokeh.Panel == null) {\n",
       "            console.warn(\"Panel: ERROR: Unable to run Panel code because Bokeh or Panel library is missing\");\n",
       "\t  } else {\n",
       "\t    console.warn(\"Panel: WARNING: Attempting to render but not all required libraries could be resolved.\")\n",
       "\t    embed_document(root)\n",
       "\t  }\n",
       "        }\n",
       "      }\n",
       "    }, 25, root)\n",
       "  }\n",
       "})(window);</script>"
      ]
     },
     "metadata": {
      "application/vnd.holoviews_exec.v0+json": {
       "id": "aea0c25e-ce82-4bdc-aeaa-194abc82116b"
      }
     },
     "output_type": "display_data"
    }
   ],
   "source": [
    "# Base imports\n",
    "import time\n",
    "import numpy as np\n",
    "import matplotlib.pyplot as plt\n",
    "from cml.plot import initialize_bokeh\n",
    "from cml.panel import initialize_panel\n",
    "from jupyterthemes.stylefx import set_nb_theme\n",
    "from bokeh.io import show\n",
    "initialize_bokeh()\n",
    "initialize_panel()\n",
    "set_nb_theme(\"onedork\")\n",
    "rng = np.random.RandomState(1)"
   ]
  },
  {
   "cell_type": "markdown",
   "metadata": {},
   "source": [
    "As usual, to simplify your work, we provide sets of functions that allows fast problem definition and plotting functionnalities (from our `cml` library).\n",
    "\n",
    "  |**File**|*Explanation*|\n",
    "  |-------:|:---------|\n",
    "  |`scatter_boundary`|Plots the decision boundary of a single neuron with 2-dimensional inputs|\n",
    "  |`scatter_classes`|Plots (bi-dimensionnal) input patterns|"
   ]
  },
  {
   "cell_type": "code",
   "execution_count": 2,
   "metadata": {},
   "outputs": [],
   "source": [
    "from cml.plot import scatter_classes, scatter_boundary, center_plot"
   ]
  },
  {
   "cell_type": "markdown",
   "metadata": {},
   "source": [
    "Remember that a single neuron is only able to learn _linearly separable_ problems. To produce such classes of problems, we provide a script that draw a set of random 2-dimensional points, then choose a random line in this space that will act as the linear frontier between 2 classes (hence defining a linear 2-class problem). The variables that will be used by your code are the following.  \n",
    "\n",
    "```Python\n",
    "y_class       # classes of the observqtions \n",
    "x_inputs      # 2 x n final matrix of random input observations\n",
    "weights       # 2 x 1 vector of neuron weights\n",
    "bias          # 1 x 1 vector of bias\n",
    "```\n",
    "\n",
    "You can execute the code below to see our simple classification problem. (Note that running the same cell multiple times produces a different starting dataset). In order to have a well-defined classification problem, we can rely on the `make_blobs` function provided by `scikit-learn` in the `sklearn.datasets` package."
   ]
  },
  {
   "cell_type": "code",
   "execution_count": 3,
   "metadata": {},
   "outputs": [
    {
     "name": "stderr",
     "output_type": "stream",
     "text": [
      "BokehDeprecationWarning: 'circle() method with size value' was deprecated in Bokeh 3.4.0 and will be removed, use 'scatter(size=...) instead' instead.\n"
     ]
    },
    {
     "data": {
      "application/vnd.jupyter.widget-view+json": {
       "model_id": "da5b27b6f6a7453090423c07b558b2d7",
       "version_major": 2,
       "version_minor": 0
      },
      "text/plain": [
       "BokehModel(combine_events=True, render_bundle={'docs_json': {'4d0b07b7-c645-4094-8916-acb0b7ca8da9': {'version…"
      ]
     },
     "execution_count": 3,
     "metadata": {},
     "output_type": "execute_result"
    }
   ],
   "source": [
    "import numpy as np\n",
    "from sklearn.datasets import make_blobs\n",
    "# Properties of the problem\n",
    "n_observations = 200\n",
    "noise = 0.2\n",
    "c1_center = [-2, -1]\n",
    "c2_center = [2, 1]\n",
    "# Create points\n",
    "x_coords, y_class = make_blobs(n_samples=n_observations, centers=[c1_center, c2_center], n_features=2, cluster_std=0.45)\n",
    "x_inputs = x_coords + (noise * np.random.randn(n_observations, 2))\n",
    "# Plot the corresponding pattern\n",
    "plot = center_plot(scatter_classes(x_inputs, y_class))\n",
    "plot"
   ]
  },
  {
   "cell_type": "markdown",
   "metadata": {},
   "source": [
    "The previous example does not allow us to know the exact values (slope and bias) of our ground truth separation line. Hence, we can define a more complex separation problem (with points laying almost right on the separation fronteer), but with known values for our ground truth."
   ]
  },
  {
   "cell_type": "code",
   "execution_count": 4,
   "metadata": {},
   "outputs": [
    {
     "name": "stderr",
     "output_type": "stream",
     "text": [
      "BokehDeprecationWarning: 'circle() method with size value' was deprecated in Bokeh 3.4.0 and will be removed, use 'scatter(size=...) instead' instead.\n"
     ]
    },
    {
     "name": "stdout",
     "output_type": "stream",
     "text": [
      "1.590129759613033\n",
      "0.9906406966746564\n"
     ]
    },
    {
     "data": {
      "application/vnd.jupyter.widget-view+json": {
       "model_id": "8cc4172294494570a8ebaf68b5057771",
       "version_major": 2,
       "version_minor": 0
      },
      "text/plain": [
       "BokehModel(combine_events=True, render_bundle={'docs_json': {'7c6c458d-243e-4bdb-8174-e6d4a8ff1f91': {'version…"
      ]
     },
     "execution_count": 4,
     "metadata": {},
     "output_type": "execute_result"
    }
   ],
   "source": [
    "# Number of points to generate\n",
    "n_observations = 100;\n",
    "# Generate 2-dimensional random points\n",
    "x_inputs = np.random.rand(int(n_observations), 2) * 2 - 1;\n",
    "# Slope of separating line\n",
    "sep_slope = np.log(np.random.rand() * 10);\n",
    "sep_bias = np.random.rand() * 2 - 1;\n",
    "# Create the indexes for a two-class problem\n",
    "y_class = (x_inputs[:, 1] - x_inputs[:, 0] * sep_slope - sep_bias > 0) * 1;\n",
    "# Plot the corresponding pattern\n",
    "plot = center_plot(scatter_classes(x_inputs, y_class))\n",
    "print(sep_slope)\n",
    "print(sep_bias)\n",
    "plot"
   ]
  },
  {
   "cell_type": "markdown",
   "metadata": {},
   "source": [
    "<a id=\"neuron\"></a>\n",
    "## Single neuron\n",
    "\n",
    "For the first parts of the tutorial, we will perform the simplest classification model possible in a neural network setting, a single neuron. We briefly recall here that; given an input vector $ \\mathbf{x} \\in \\mathbb{R}^{n} $, a single neuron computes the function  \n",
    "\n",
    "$$\n",
    "\\begin{equation}\n",
    "\\bar{y}=\\phi\\left(\\sum_{i = 1}^{n}w_{i}.x_{i} + b\\right)\n",
    "\\end{equation}\n",
    "$$\n",
    "\n",
    "with $ \\mathbf{w} \\in \\mathbb{R}^{n} $ a weight vector, $ b $ a bias and $ \\phi\\left( \\cdot \\right) $ an *activation function*. Therefore, if we consider the *threshold* activation function ($ \\mathbb{I}_{0}\\left(x\\right)=1 $ if $ x \\geq 0$), a single neuron simply performs an *affine transform* and then a *linear* discrimination of the space. \n",
    "\n",
    "***\n",
    "\n",
    "<div class=\"alert alert-success\" markdown=\"1\" style=\"color:white; background-color: #410819; border-color: #cb2e47\">\n",
    "\n",
    "> **Important note**\n",
    "> The following implementation tries to remain as close as possible to the original neuron model by McCulloch & Pitts, notably by using the _threshold activation_ function. Although this leads to a very simple implementation (akin to using an _identity_ activation, note that it is not to be used afterwards.\n",
    "\n",
    "</div>\n",
    "\n",
    "***\n",
    "\n",
    "As we will see later on, a **neural network** will simply be composed of _layers_ of these neurons, which produce successive computations\n",
    "\n",
    "<img src=\"images/02_feedforward_nn.png\" align=\"center\"/>\n",
    "\n",
    "Geometrically, a single neuron computes an hyperplane that separates the space. In order to learn, we have to adjust the weights and know \"how much wrong we are\". To do so, we consider that we know the desired output $ y_{j} $ of a system for a given example $ \\mathbf{x}_{j} $ (eg. a predicted value for a regression system, a class value for a classification system). Therefore, we define the MSE loss function $ \\mathcal{L}_{\\mathcal{D}} $ over a whole dataset as\n",
    "\n",
    "$$\n",
    "\\begin{equation}\n",
    "\\mathcal{L}_{\\mathcal{D}}=\\sum_{j=1}^{|\\mathcal{D}|}\\left\\Vert \\bar{y}_{j}-y_{j}\\right\\Vert ^{2}\n",
    "\\end{equation}\n",
    "$$\n",
    "\n",
    "with $|\\mathcal{D}|$ being the size of our dataset. In order to know how to change the weights based on the value of the errors, we need to now \"how to change it to make it better\". Therefore, we should compute the sets of derivatives of the error given each parameter\n",
    "\n",
    "$$\n",
    "\\begin{equation}\n",
    "\\Delta\\bar{\\mathbf{w}}=\\left(\\frac{\\delta\\mathcal{L}_{\\mathcal{D}}}{\\delta w_{1}},\\ldots,\\frac{\\delta\\mathcal{L}_{\\mathcal{D}}}{\\delta w_{n}}\\right)\n",
    "\\end{equation}\n",
    "$$ \n",
    "\n",
    "***\n",
    "\n",
    "<div class=\"alert alert-success\" markdown=\"1\" style=\"color:white; background-color: #192841; border-color: #779ecb\">\n",
    "\n",
    "> ### Exercise (course)\n",
    ">   1. Perform the derivatives of the output given a single neuron\n",
    ">   2. Perform the derivatives for the bias as well\n",
    "\n",
    "</div>\n",
    "\n",
    "***"
   ]
  },
  {
   "cell_type": "markdown",
   "metadata": {},
   "source": [
    "### Training your own neuron\n",
    "\n",
    "We will start by training a single neuron to learn how to perform this discrimination with a linear problem (so that a single neuron is enough to solve it). "
   ]
  },
  {
   "cell_type": "code",
   "execution_count": 5,
   "metadata": {},
   "outputs": [
    {
     "name": "stdout",
     "output_type": "stream",
     "text": [
      "[0 0 0 0 1 0 0 0 0 0 0 0 0 0 0 0 0 0 1 1 0 0 0 0 0 1 0 0 1 1 0 1 0 0 0 0 0\n",
      " 0 0 0 0 1 0 1 0 1 0 0 0 1 0 0 1 1 0 0 0 0 0 0 0 0 0 0 0 0 0 1 0 0 0 1 0 0\n",
      " 0 0 0 0 0 0 0 0 0 0 0 0 0 0 0 0 1 0 0 0 0 0 0 0 0 0]\n"
     ]
    }
   ],
   "source": [
    "# Learning rate\n",
    "eta = 1e-2;\n",
    "# Weight decay\n",
    "lambda_r = 0.1\n",
    "# Number of epochs\n",
    "n_epochs = 50\n",
    "# Initialize the weights\n",
    "weights = np.random.randn(1, 2);\n",
    "bias = np.random.randn(1, 1);\n",
    "# Save the weight history for plotting\n",
    "weights_history = np.zeros((n_epochs + 1, 2));\n",
    "bias_history = np.zeros((n_epochs + 1, 1));\n",
    "print(y_class)"
   ]
  },
  {
   "cell_type": "markdown",
   "metadata": {},
   "source": [
    "Now you need to update the following code loop to ensure that your neuron learns to separate between the classes \n",
    "***\n",
    "\n",
    "<div class=\"alert alert-success\" markdown=\"1\" style=\"color:white; background-color: #192841; border-color: #779ecb\">\n",
    "\n",
    "> ### Exercise (course)\n",
    ">   1. Update the loop so that it computes the forward propagation error\n",
    ">   2. Update the loop to perform learning (based on back-propagation)\n",
    ">   3. Run the learning procedure, which should produce a result similar to that displayed on the website\n",
    ">   4. Perform multiple re-runs by **tweaking the hyperparameters** (learning rate, weight decay)\n",
    ">   5. What observations can you make on the learning process?\n",
    ">   6. (Optional) Change the input patterns, and confirm your observations.\n",
    ">   6. (Optional) Incorporate the bias in the weights to obtain a **vectorized** code.\n",
    "\n",
    "</div>\n",
    "\n",
    "***"
   ]
  },
  {
   "cell_type": "code",
   "execution_count": 6,
   "metadata": {},
   "outputs": [
    {
     "name": "stdout",
     "output_type": "stream",
     "text": [
      "[[-1.14960056 -1.26778334  0.38910804 -0.59861658 -1.40222946 -1.11900538\n",
      "  -0.27427472  0.119109   -0.42507391 -0.89366696  0.21721922 -1.13738331\n",
      "  -0.77873812 -1.36810489 -0.33806386  0.1736144  -0.95231164  0.76149864\n",
      "  -1.42196357 -1.59457647 -0.68643611 -1.11474297  0.36600381  0.183782\n",
      "   0.01265738 -0.72881517 -1.15347445 -0.29052899 -1.1604466  -0.41830048\n",
      "   0.58928622 -1.21865707  0.1481531   0.39382448  0.34956361 -0.06826845\n",
      "   0.43319601 -1.09090303 -0.38098712 -0.49549797  0.07937064 -1.24487289\n",
      "  -0.39970664 -0.93776401  0.36424323 -1.44076884 -0.14207544 -0.53077356\n",
      "  -0.69445083 -1.36523235  0.31785397 -0.62947636 -1.39058332 -1.16610134\n",
      "  -0.85255886  0.08311064 -1.05018581  0.14069426 -0.23970756  0.37217655\n",
      "  -0.6468968   0.21821043  0.65455847 -0.20278195  0.08128444 -0.56926568\n",
      "  -0.13887345 -1.27775196  0.59617317  0.79606375  0.51449787 -0.57310947\n",
      "   0.30674445 -1.22192389  0.31992798 -0.94968372  0.60131287  0.03757392\n",
      "   0.36687468 -0.04811909 -0.75131246  0.41915038 -0.43898076 -0.20646338\n",
      "   0.73952528  0.49519986 -0.82320503 -0.70317294  0.14211477  0.42973686\n",
      "  -1.25967407  0.0982433   0.27496508 -0.66585561 -0.38760273 -0.59122102\n",
      "  -0.54374833  0.67504929  0.41994284 -0.36933595]]\n",
      "[[False False  True False False False False  True False False  True False\n",
      "  False False False  True False  True False False False False  True  True\n",
      "   True False False False False False  True False  True  True  True False\n",
      "   True False False False  True False False False  True False False False\n",
      "  False False  True False False False False  True False  True False  True\n",
      "  False  True  True False  True False False False  True  True  True False\n",
      "   True False  True False  True  True  True False False  True False False\n",
      "   True  True False False  True  True False  True  True False False False\n",
      "  False  True  True False]]\n",
      "[[-1.15522781 -1.23132538 -0.08862674 -0.74221438 -1.30081085 -1.14396051\n",
      "  -0.53788895 -0.28182655 -0.64585251 -0.9894904  -0.19919323 -1.14910772\n",
      "  -0.86745654 -1.30635108 -0.59384227 -0.23524001 -1.02772013  0.18458739\n",
      "  -1.31370152 -1.42952629 -0.80802377 -1.15113684 -0.08175778 -0.18196821\n",
      "  -0.30935743 -0.82224597 -1.14853312 -0.53800902 -1.14084778 -0.59636946\n",
      "   0.1025153  -1.15906307 -0.24037983 -0.04327691 -0.07470219 -0.40031772\n",
      "  -0.00194879 -1.11431989 -0.58683645 -0.70598648 -0.30903036 -1.17866313\n",
      "  -0.64638718 -0.9786866  -0.06613972 -1.32050376 -0.40597124 -0.71065397\n",
      "  -0.80768893 -1.26752845 -0.08424549 -0.809437   -1.28838413 -1.13226239\n",
      "  -0.94097494 -0.2413538  -1.07552093 -0.20117522 -0.48144197 -0.06853899\n",
      "  -0.77022702 -0.20328185  0.14431567 -0.49489968 -0.25305282 -0.75894497\n",
      "  -0.43951375 -1.21136554  0.11256094  0.20664539  0.00443255 -0.71041886\n",
      "  -0.14416301 -1.19721141 -0.08815098 -1.03198951  0.08657603 -0.29425095\n",
      "  -0.04911104 -0.38894346 -0.86482956 -0.00745014 -0.62002386 -0.50406535\n",
      "   0.19356474  0.01629579 -0.93024108 -0.849266   -0.22330521 -0.06321762\n",
      "  -1.20052379 -0.28629795 -0.12659581 -0.78936092 -0.6141125  -0.7423744\n",
      "  -0.71338882  0.13998558 -0.0544515  -0.62037456]]\n",
      "[[False False False False False False False False False False False False\n",
      "  False False False False False  True False False False False False False\n",
      "  False False False False False False  True False False False False False\n",
      "  False False False False False False False False False False False False\n",
      "  False False False False False False False False False False False False\n",
      "  False False  True False False False False False  True  True  True False\n",
      "  False False False False  True False False False False False False False\n",
      "   True  True False False False False False False False False False False\n",
      "  False  True False False]]\n",
      "[[-0.99496414 -1.03715202 -0.2098745  -0.61717825 -1.03201842 -1.01026659\n",
      "  -0.51544548 -0.36642436 -0.60306194 -0.90067234 -0.27088484 -0.99603432\n",
      "  -0.71028021 -1.10539524 -0.58448842 -0.31123442 -0.92306399  0.027026\n",
      "  -1.03963491 -1.11580575 -0.67733178 -1.03959649 -0.15049839 -0.16230218\n",
      "  -0.27688435 -0.65182925 -0.96777129 -0.4890743  -0.93239992 -0.46032705\n",
      "   0.05515853 -0.89326613 -0.28532427 -0.07660834 -0.10150678 -0.42659364\n",
      "  -0.01286969 -0.96433095 -0.4920767  -0.67418862 -0.38563638 -0.91108222\n",
      "  -0.6464636  -0.79451851 -0.09903331 -1.0298462  -0.32273362 -0.63066134\n",
      "  -0.66310319 -0.98939308 -0.07900942 -0.77544739 -1.01253685 -0.89639729\n",
      "  -0.81744021 -0.18133306 -0.91067154 -0.15113515 -0.39678595 -0.11954783\n",
      "  -0.62485085 -0.28523033  0.07774904 -0.49939294 -0.21470925 -0.71749977\n",
      "  -0.43231087 -0.95867969  0.07506624  0.03874784 -0.12679835 -0.56027125\n",
      "  -0.24705836 -1.00652269 -0.09456706 -0.94066462 -0.01419709 -0.27090435\n",
      "  -0.05040815 -0.42437607 -0.74723675 -0.00686702 -0.49985919 -0.5218385\n",
      "   0.09109796 -0.05815396 -0.83235902 -0.77804616 -0.22229112 -0.19770867\n",
      "  -0.9547097  -0.34599713 -0.14013941 -0.65315789 -0.56601309 -0.62984443\n",
      "  -0.61781752  0.03056821 -0.15433329 -0.61554245]]\n",
      "[[False False False False False False False False False False False False\n",
      "  False False False False False  True False False False False False False\n",
      "  False False False False False False  True False False False False False\n",
      "  False False False False False False False False False False False False\n",
      "  False False False False False False False False False False False False\n",
      "  False False  True False False False False False  True  True False False\n",
      "  False False False False False False False False False False False False\n",
      "   True False False False False False False False False False False False\n",
      "  False  True False False]]\n",
      "[[-0.81835071 -0.82980101 -0.28319329 -0.46846902 -0.75584707 -0.85832067\n",
      "  -0.46004418 -0.40785987 -0.52996839 -0.78875586 -0.2992755  -0.82605932\n",
      "  -0.533078   -0.89261757 -0.54198142 -0.3440766  -0.79682342 -0.07689702\n",
      "  -0.75869548 -0.79924555 -0.52413642 -0.90841793 -0.17471782 -0.10520087\n",
      "  -0.20936385 -0.46172158 -0.77194165 -0.40894434 -0.71063211 -0.29958416\n",
      "   0.0531239  -0.61818149 -0.28924267 -0.06730845 -0.08649298 -0.41501362\n",
      "   0.01784936 -0.79681579 -0.36975704 -0.61208226 -0.41993951 -0.6345686\n",
      "  -0.6133937  -0.59346052 -0.08960045 -0.73350082 -0.20898866 -0.52362048\n",
      "  -0.49693369 -0.70409849 -0.03420012 -0.71254272 -0.72962977 -0.64893138\n",
      "  -0.67252985 -0.08727605 -0.72881588 -0.06591069 -0.28262715 -0.12705486\n",
      "  -0.45749164 -0.32324531  0.05828577 -0.46861915 -0.14102944 -0.64702617\n",
      "  -0.38995047 -0.69646535  0.08235921 -0.07455815 -0.20831419 -0.38773645\n",
      "  -0.30391462 -0.80201322 -0.06068237 -0.82692055 -0.06628922 -0.2117214\n",
      "  -0.01127394 -0.42120682 -0.60695489  0.03452492 -0.35422379 -0.5035723\n",
      "   0.03871517 -0.08652036 -0.71126649 -0.6808667  -0.18310034 -0.28308386\n",
      "  -0.69877953 -0.3642432  -0.11337211 -0.49459277 -0.4875808  -0.49281189\n",
      "  -0.49626664 -0.02894932 -0.20729431 -0.57757659]]\n",
      "[[False False False False False False False False False False False False\n",
      "  False False False False False False False False False False False False\n",
      "  False False False False False False  True False False False False False\n",
      "   True False False False False False False False False False False False\n",
      "  False False False False False False False False False False False False\n",
      "  False False  True False False False False False  True False False False\n",
      "  False False False False False False False False False  True False False\n",
      "   True False False False False False False False False False False False\n",
      "  False False False False]]\n",
      "[[-0.62808894 -0.61536075 -0.31670813 -0.32102853 -0.4933948  -0.68444033\n",
      "  -0.3843817  -0.40936074 -0.43649526 -0.64972317 -0.29748964 -0.64039346\n",
      "  -0.35990506 -0.67017096 -0.47112894 -0.34293605 -0.64635532 -0.1464676\n",
      "  -0.49242667 -0.50327986 -0.36984743 -0.74731785 -0.17740412 -0.05005572\n",
      "  -0.13985758 -0.28307961 -0.56985752 -0.31753797 -0.49250808 -0.15333647\n",
      "   0.05337267 -0.36502279 -0.26938395 -0.05099926 -0.06464057 -0.37558627\n",
      "   0.04528105 -0.6148264  -0.24853928 -0.52195182 -0.41525066 -0.37931111\n",
      "  -0.54535801 -0.39835642 -0.07181921 -0.45701532 -0.10420345 -0.40461178\n",
      "  -0.33440865 -0.43786021  0.00719242 -0.61562632 -0.4636452  -0.41497484\n",
      "  -0.515445   -0.00500955 -0.54005515  0.00829678 -0.17299862 -0.11990806\n",
      "  -0.2964829  -0.32733596  0.0449068  -0.4112377  -0.07102043 -0.54835725\n",
      "  -0.32855676 -0.44832294  0.08793417 -0.15143837 -0.25269274 -0.22706359\n",
      "  -0.32358296 -0.59145144 -0.02600494 -0.68414576 -0.0969283  -0.14843765\n",
      "   0.02437498 -0.38782209 -0.45743639  0.06908238 -0.21615459 -0.4535941\n",
      "   0.00139849 -0.09779608 -0.56999    -0.55972179 -0.13684439 -0.32581302\n",
      "  -0.4552941  -0.35071564 -0.08089093 -0.33801918 -0.39263641 -0.3527924\n",
      "  -0.36785823 -0.06755487 -0.229928   -0.50800384]]\n",
      "[[False False False False False False False False False False False False\n",
      "  False False False False False False False False False False False False\n",
      "  False False False False False False  True False False False False False\n",
      "   True False False False False False False False False False False False\n",
      "  False False  True False False False False False False  True False False\n",
      "  False False  True False False False False False  True False False False\n",
      "  False False False False False False  True False False  True False False\n",
      "   True False False False False False False False False False False False\n",
      "  False False False False]]\n",
      "[[-0.44204055 -0.40869826 -0.36945475 -0.20835744 -0.25661394 -0.50701969\n",
      "  -0.33004718 -0.42256379 -0.36009764 -0.50794832 -0.32021064 -0.45715772\n",
      "  -0.21943108 -0.45008001 -0.41147518 -0.36116167 -0.49453422 -0.25112055\n",
      "  -0.25227546 -0.23484697 -0.24547338 -0.57451259 -0.21763389 -0.05181911\n",
      "  -0.11848623 -0.14621435 -0.37954713 -0.25633046 -0.29623004 -0.06051028\n",
      "  -0.00999613 -0.15107214 -0.27877603 -0.08805472 -0.09511768 -0.35526264\n",
      "   0.00759363 -0.43780152 -0.16787779 -0.43904192 -0.42215317 -0.16184921\n",
      "  -0.47996853 -0.23359186 -0.10520406 -0.211513   -0.0546648  -0.3085058\n",
      "  -0.20649185 -0.20384052 -0.01350966 -0.51605301 -0.2269725  -0.21293875\n",
      "  -0.37223635  0.01290845 -0.36522221  0.01738083 -0.11135015 -0.15760671\n",
      "  -0.17419045 -0.35207465 -0.02993624 -0.37056164 -0.05689085 -0.45471116\n",
      "  -0.29347219 -0.22962666  0.02555401 -0.26219778 -0.32250188 -0.1128424\n",
      "  -0.36293997 -0.39099851 -0.04911421 -0.53510967 -0.17163791 -0.13177816\n",
      "  -0.00348421 -0.37163742 -0.32761294  0.03522747 -0.1237561  -0.41492792\n",
      "  -0.09039619 -0.15475962 -0.43508881 -0.44431841 -0.13700195 -0.3859397\n",
      "  -0.24006273 -0.35678073 -0.09986256 -0.21512305 -0.31980375 -0.24333224\n",
      "  -0.26729593 -0.15281131 -0.2824639  -0.44539175]]\n",
      "[[False False False False False False False False False False False False\n",
      "  False False False False False False False False False False False False\n",
      "  False False False False False False False False False False False False\n",
      "   True False False False False False False False False False False False\n",
      "  False False False False False False False  True False  True False False\n",
      "  False False False False False False False False  True False False False\n",
      "  False False False False False False False False False  True False False\n",
      "  False False False False False False False False False False False False\n",
      "  False False False False]]\n",
      "[[-0.25264105 -0.19763669 -0.37873896 -0.05593796 -0.00213117 -0.33249718\n",
      "  -0.24204265 -0.40362595 -0.25639444 -0.36442371 -0.29786548 -0.27191733\n",
      "  -0.04417751 -0.23209333 -0.32813379 -0.33958414 -0.34077551 -0.29191307\n",
      "   0.00562227  0.04954561 -0.08713839 -0.41167606 -0.19878111  0.01925324\n",
      "  -0.03495641  0.03424967 -0.17933725 -0.15397465 -0.0813602   0.0915476\n",
      "   0.01244916  0.09564412 -0.24016089 -0.05169448 -0.05386071 -0.29960492\n",
      "   0.05429863 -0.25573944 -0.03858935 -0.33868508 -0.39770825  0.08668274\n",
      "  -0.39945635 -0.03889969 -0.06761568  0.05566425  0.06054398 -0.18184724\n",
      "  -0.04064735  0.05425914  0.04551229 -0.41002498  0.0307921   0.01640648\n",
      "  -0.21201427  0.10840868 -0.17679441  0.10573451  0.00789818 -0.12972446\n",
      "  -0.00954176 -0.33510677 -0.01970578 -0.29900789  0.02737744 -0.34683432\n",
      "  -0.21798532  0.01225657  0.05290457 -0.30954389 -0.3412262   0.05179771\n",
      "  -0.35987829 -0.18330276  0.00376693 -0.38838531 -0.17742879 -0.05384552\n",
      "   0.05047679 -0.32143145 -0.17390932  0.08840083  0.0207287  -0.35016846\n",
      "  -0.10174189 -0.1432489  -0.28922396 -0.31640225 -0.07423855 -0.4034971\n",
      "  -0.00237079 -0.32416547 -0.0491748  -0.05461258 -0.21460144 -0.09767841\n",
      "  -0.13208234 -0.16559854 -0.28165898 -0.36334898]]\n",
      "[[False False False False False False False False False False False False\n",
      "  False False False False False False  True  True False False False  True\n",
      "  False  True False False False  True  True  True False False False False\n",
      "   True False False False False  True False False False  True  True False\n",
      "  False  True  True False  True  True False  True False  True  True False\n",
      "  False False False False  True False False  True  True False False  True\n",
      "  False False  True False False False  True False False  True  True False\n",
      "  False False False False False False False False False False False False\n",
      "  False False False False]]\n",
      "[[-0.23205324 -0.1869747  -0.45987594 -0.16644394 -0.05479339 -0.28365599\n",
      "  -0.31154953 -0.44851102 -0.30547709 -0.32521124 -0.39378075 -0.24498394\n",
      "  -0.14160107 -0.19809391 -0.3576794  -0.41488834 -0.30506128 -0.44359979\n",
      "  -0.04813718 -0.00445793 -0.17680903 -0.33226103 -0.348089   -0.19750616\n",
      "  -0.21369463 -0.09877383 -0.18706179 -0.25635732 -0.12675054 -0.0943923\n",
      "  -0.24146251 -0.01331407 -0.35188156 -0.26130697 -0.25827941 -0.36680795\n",
      "  -0.20066771 -0.23970223 -0.1772545  -0.34864258 -0.44100782 -0.01619369\n",
      "  -0.39503217 -0.12277471 -0.26809175 -0.01583628 -0.14038233 -0.2497309\n",
      "  -0.14772866 -0.02410816 -0.1946897  -0.37890344 -0.03590053 -0.06669667\n",
      "  -0.23649452 -0.13336344 -0.19565596 -0.14064488 -0.16283513 -0.30666874\n",
      "  -0.13346771 -0.4165423  -0.26744023 -0.35323703 -0.18249795 -0.34635894\n",
      "  -0.31020352 -0.0582595  -0.21751845 -0.45772339 -0.44935824 -0.10338286\n",
      "  -0.44031065 -0.18275422 -0.22029865 -0.33429358 -0.35819891 -0.22763662\n",
      "  -0.19648165 -0.38206951 -0.22324585 -0.17853475 -0.13546058 -0.38401076\n",
      "  -0.3257083  -0.32697879 -0.28636483 -0.31469061 -0.25031199 -0.47893244\n",
      "  -0.06893641 -0.39810436 -0.24810301 -0.15903529 -0.283722   -0.19257241\n",
      "  -0.21817112 -0.35823929 -0.4038228  -0.37604005]]\n",
      "[[False False False False False False False False False False False False\n",
      "  False False False False False False False False False False False False\n",
      "  False False False False False False False False False False False False\n",
      "  False False False False False False False False False False False False\n",
      "  False False False False False False False False False False False False\n",
      "  False False False False False False False False False False False False\n",
      "  False False False False False False False False False False False False\n",
      "  False False False False False False False False False False False False\n",
      "  False False False False]]\n",
      "[[-0.03916043  0.0338822  -0.43799032  0.04435602  0.24137459 -0.11947399\n",
      "  -0.18899655 -0.41200262 -0.17490492 -0.19047707 -0.33093746 -0.05942899\n",
      "   0.08823515  0.01994705 -0.25791895 -0.36201971 -0.15764385 -0.42470264\n",
      "   0.25223192  0.32483884  0.03118632 -0.19434782 -0.26536832 -0.02807392\n",
      "  -0.04757188  0.15251628  0.03014459 -0.10361562  0.12310439  0.14946444\n",
      "  -0.10844905  0.29936963 -0.26433214 -0.13280156 -0.12675075 -0.28046139\n",
      "  -0.04079841 -0.05277269  0.02087175 -0.23905987 -0.39921224  0.29576813\n",
      "  -0.31341257  0.1221977  -0.14230186  0.30249353  0.07003778 -0.0858523\n",
      "   0.07615558  0.28739259 -0.02796983 -0.28136788  0.2700588   0.21562687\n",
      "  -0.05535427  0.07373145  0.01367316  0.06071947  0.03859029 -0.20187141\n",
      "   0.09658531 -0.36596892 -0.1504525  -0.25535287 -0.00176462 -0.23322274\n",
      "  -0.19119545  0.23212052 -0.07184765 -0.44751005 -0.4257704   0.14052024\n",
      "  -0.40530839  0.03892623 -0.06741383 -0.20267691 -0.28833257 -0.06979586\n",
      "  -0.03227071 -0.30456417 -0.0381738  -0.00632199  0.08696614 -0.30255725\n",
      "  -0.24272937 -0.2369804  -0.13296472 -0.18030511 -0.1079593  -0.46857417\n",
      "   0.21513282 -0.33383501 -0.10875081  0.05786799 -0.14263366  0.00394539\n",
      "  -0.03691411 -0.29071928 -0.35277008 -0.28516605]]\n",
      "[[False  True False  True  True False False False False False False False\n",
      "   True  True False False False False  True  True  True False False False\n",
      "  False  True  True False  True  True False  True False False False False\n",
      "  False False  True False False  True False  True False  True  True False\n",
      "   True  True False False  True  True False  True  True  True  True False\n",
      "   True False False False False False False  True False False False  True\n",
      "  False  True False False False False False False False False  True False\n",
      "  False False False False False False  True False False  True False  True\n",
      "  False False False False]]\n",
      "[[-0.22554646 -0.16686385 -0.54946183 -0.16113288 -0.00095128 -0.28968195\n",
      "  -0.34840069 -0.52769163 -0.33657878 -0.34715803 -0.4634605  -0.24174978\n",
      "  -0.12545344 -0.17757878 -0.4030874  -0.48806478 -0.32075815 -0.54032718\n",
      "   0.00778     0.06632822 -0.17128659 -0.34937857 -0.41177904 -0.2219252\n",
      "  -0.23679716 -0.07441193 -0.17029011 -0.28028224 -0.09616705 -0.07805905\n",
      "  -0.28757621  0.04455699 -0.41010101 -0.30622241 -0.30122634 -0.42211068\n",
      "  -0.23304314 -0.23662603 -0.18070282 -0.38743952 -0.51734132  0.04178888\n",
      "  -0.44707878 -0.09776077 -0.31367914  0.04791576 -0.14244838 -0.26518384\n",
      "  -0.13541144  0.03558373 -0.22236665 -0.42063806  0.02186659 -0.02239771\n",
      "  -0.23961602 -0.14038506 -0.18382307 -0.15098181 -0.16713245 -0.36119148\n",
      "  -0.11931345 -0.49138702 -0.32131136 -0.40157119 -0.20055384 -0.38249836\n",
      "  -0.35068299 -0.00881434 -0.25842914 -0.55864156 -0.54021212 -0.08458269\n",
      "  -0.52308977 -0.16302276 -0.25381453 -0.35666309 -0.43100364 -0.25460876\n",
      "  -0.22598652 -0.44140118 -0.22631795 -0.20550795 -0.12779389 -0.43918216\n",
      "  -0.39519515 -0.38965713 -0.30159207 -0.33979535 -0.28543674 -0.57399833\n",
      "  -0.0224255  -0.46530469 -0.28658728 -0.15009984 -0.31100278 -0.19337205\n",
      "  -0.22612576 -0.43319444 -0.48165565 -0.42468302]]\n",
      "[[False False False False False False False False False False False False\n",
      "  False False False False False False  True  True False False False False\n",
      "  False False False False False False False  True False False False False\n",
      "  False False False False False  True False False False  True False False\n",
      "  False  True False False  True False False False False False False False\n",
      "  False False False False False False False False False False False False\n",
      "  False False False False False False False False False False False False\n",
      "  False False False False False False False False False False False False\n",
      "  False False False False]]\n",
      "[[-0.12401348 -0.05178692 -0.52535233 -0.046779    0.15181812 -0.2026552\n",
      "  -0.27710952 -0.4978779  -0.26217747 -0.27372611 -0.41950584 -0.14389518\n",
      "  -0.00253937 -0.06460851 -0.34389523 -0.44950882 -0.24121668 -0.51528384\n",
      "   0.16257105  0.23479659 -0.05895081 -0.2757813  -0.35665625 -0.12358561\n",
      "  -0.14128571  0.05982356 -0.05632677 -0.19363277  0.03447621  0.05442356\n",
      "  -0.20521019  0.20700257 -0.35394637 -0.22745964 -0.2212077  -0.36800476\n",
      "  -0.13795184 -0.13775956 -0.07140128 -0.32425739 -0.48508196  0.20369112\n",
      "  -0.3975883   0.03185508 -0.23650335  0.21178373 -0.02526726 -0.17441904\n",
      "  -0.01498872  0.1964531  -0.1245292  -0.36451457  0.17972926  0.12484202\n",
      "  -0.14213784 -0.02341698 -0.07321164 -0.03656837 -0.0552056  -0.29471781\n",
      "   0.00458434 -0.45371175 -0.24672339 -0.34244483 -0.09710304 -0.31798402\n",
      "  -0.2803117   0.14181377 -0.16953308 -0.53781822 -0.51440061  0.04689899\n",
      "  -0.49280569 -0.04722039 -0.16305114 -0.28519906 -0.38090871 -0.16317531\n",
      "  -0.12910994 -0.39169131 -0.12615534 -0.10418598 -0.00642692 -0.38849769\n",
      "  -0.33746773 -0.32995077 -0.21813108 -0.26528118 -0.20124598 -0.55552545\n",
      "   0.1250892  -0.42140694 -0.20305435 -0.03306423 -0.23096594 -0.08628607\n",
      "  -0.12654376 -0.38381349 -0.44239955 -0.37025042]]\n",
      "[[False False False False  True False False False False False False False\n",
      "  False False False False False False  True  True False False False False\n",
      "  False  True False False  True  True False  True False False False False\n",
      "  False False False False False  True False  True False  True False False\n",
      "  False  True False False  True  True False False False False False False\n",
      "   True False False False False False False  True False False False  True\n",
      "  False False False False False False False False False False False False\n",
      "  False False False False False False  True False False False False False\n",
      "  False False False False]]\n",
      "[[-0.13330618 -0.06224804 -0.5300562  -0.05878313  0.13763436 -0.210464\n",
      "  -0.28527415 -0.50254049 -0.27031091 -0.28062054 -0.42592482 -0.1528224\n",
      "  -0.01502665 -0.0746004  -0.3506059  -0.45524236 -0.24862526 -0.5209899\n",
      "   0.14821795  0.21939257 -0.0705255  -0.28215806 -0.36463506 -0.13576467\n",
      "  -0.15274658  0.04599942 -0.06694514 -0.20340755  0.02208327  0.04003565\n",
      "  -0.21665575  0.19133496 -0.36150839 -0.23804481 -0.23182056 -0.37482258\n",
      "  -0.15038609 -0.14690803 -0.08338986 -0.3310153  -0.48991098  0.18814536\n",
      "  -0.4031077   0.01903316 -0.24684644  0.19650129 -0.03868075 -0.18405396\n",
      "  -0.02741255  0.18130978 -0.13697904 -0.37018988  0.16497026  0.11068028\n",
      "  -0.15171446 -0.03735297 -0.08372016 -0.05036945 -0.06781831 -0.30393067\n",
      "  -0.0083279  -0.45945871 -0.25749165 -0.34947607 -0.10958282 -0.32470636\n",
      "  -0.28870546  0.12755851 -0.18169666 -0.54315475 -0.51959096  0.03299352\n",
      "  -0.49797324 -0.05787049 -0.17474624 -0.29174647 -0.38891741 -0.17425854\n",
      "  -0.14157531 -0.39808579 -0.13626548 -0.1172554  -0.01957089 -0.39461334\n",
      "  -0.34663092 -0.33873476 -0.22627331 -0.2727532  -0.21180451 -0.55972233\n",
      "   0.11112455 -0.42753166 -0.21386398 -0.04519354 -0.2397954  -0.09752752\n",
      "  -0.13709424 -0.39192409 -0.44880487 -0.37637417]]\n",
      "[[False False False False  True False False False False False False False\n",
      "  False False False False False False  True  True False False False False\n",
      "  False  True False False  True  True False  True False False False False\n",
      "  False False False False False  True False  True False  True False False\n",
      "  False  True False False  True  True False False False False False False\n",
      "  False False False False False False False  True False False False  True\n",
      "  False False False False False False False False False False False False\n",
      "  False False False False False False  True False False False False False\n",
      "  False False False False]]\n"
     ]
    },
    {
     "name": "stderr",
     "output_type": "stream",
     "text": [
      "BokehDeprecationWarning: 'circle() method with size value' was deprecated in Bokeh 3.4.0 and will be removed, use 'scatter(size=...) instead' instead.\n"
     ]
    },
    {
     "data": {
      "application/vnd.jupyter.widget-view+json": {
       "model_id": "32dd7f50cff047d58fba6ecc4726ed82",
       "version_major": 2,
       "version_minor": 0
      },
      "text/plain": [
       "BokehModel(combine_events=True, render_bundle={'docs_json': {'d24aab6d-ae65-4733-8e28-119f18bc044c': {'version…"
      ]
     },
     "execution_count": 6,
     "metadata": {},
     "output_type": "execute_result"
    }
   ],
   "source": [
    "verbose = False\n",
    "weights_history[0] = weights\n",
    "bias_history[0] = bias\n",
    "# Update loop\n",
    "for i in range(n_epochs):\n",
    "    \n",
    "    ######################\n",
    "    # YOUR CODE GOES HERE\n",
    "    ######################\n",
    "\n",
    "    ######################\n",
    "    # Solution  \n",
    "    y_real = np.dot(weights, x_inputs.T) + bias \n",
    "    print(y_real)\n",
    "    y_bar = y_real > 0\n",
    "    print(y_bar)\n",
    "    if np.sum(np.abs(y_bar - y_class)) == 0:\n",
    "        break\n",
    "    error = y_class - y_bar\n",
    "    weights = weights + eta * (np.dot(error, x_inputs))\n",
    "    bias = bias + eta * (np.sum(error))\n",
    "    ######################\n",
    "    \n",
    "    weights_history[i + 1] = weights\n",
    "    bias_history[i + 1] = bias\n",
    "    \n",
    "    if (verbose):\n",
    "        print('%2d. error = %f, weights = %f, %f, %f' % (i, np.sum(np.abs(error)) / n_observations, bias[0, 0], weights[0, 0], weights[0, 1]))\n",
    "plot = center_plot(scatter_boundary(x_inputs, y_class, weights_history, bias_history, i + 1))\n",
    "plot\n",
    "plot\n",
    "# fig, ax = plt.subplots(1, 1, figsize=(10, 10))\n",
    "# ax.scatter(x_inputs[y_class == 0, 0], x_inputs[y_class == 0, 1], color='red', label='Class 0')\n",
    "# ax.scatter(x_inputs[y_class == 1, 0], x_inputs[y_class == 1, 1], color='blue', label='Class 1')\n",
    "# ax.set_xlabel('x1')\n",
    "# ax.set_ylabel('x2')\n",
    "# ax.set_title('Decision boundary')\n",
    "# x_vals = np.linspace(-1, 1, 100)\n",
    "# y_vals = (-weights[0, 0] / weights[0, 1] * x_vals - bias / weights[0, 1]).flatten()\n",
    "# ax.plot(x_vals, y_vals, color='black', linestyle='--')\n",
    "# plt.legend()\n",
    "# plt.show()"
   ]
  },
  {
   "cell_type": "markdown",
   "metadata": {},
   "source": [
    "### Neuron implementation in `JAX`\n",
    "\n",
    "As seen in the previous course, the `NumPy` implementation requires us to perform manual differentiation of our loss function to understand how to update the parameters. However, the recent [`JAX`](https://github.com/google/jax) library provides **automatic differentiation** on top of the `NumPy` library. If you have not yet completed the set of [tutorials](https://jax.readthedocs.io/en/latest/), we strongly encourage you to do so. We will introduce a few more functions compared to last time, but we try to keep the implementation as simple as possible on purpose."
   ]
  },
  {
   "cell_type": "code",
   "execution_count": 7,
   "metadata": {},
   "outputs": [],
   "source": [
    "import jax.numpy as jnp\n",
    "from jax import grad, jit, random\n",
    "\n",
    "seed = np.random.randint(0, 1e9)\n",
    "np.random.seed(23)\n",
    "key = random.PRNGKey(42)"
   ]
  },
  {
   "cell_type": "markdown",
   "metadata": {},
   "source": [
    "We keep our previousmy generated dataset but we will rely on `jnp.ndarray` instead of `np.ndarray`, by simply casting the arrays to JAX-compliant ones."
   ]
  },
  {
   "cell_type": "code",
   "execution_count": 8,
   "metadata": {},
   "outputs": [],
   "source": [
    "x_jax = jnp.asarray(x_inputs)\n",
    "y_jax = jnp.asarray(y_class)"
   ]
  },
  {
   "cell_type": "markdown",
   "metadata": {},
   "source": [
    "We will also keep the same hyperparameters as previously (see `eta`, `lambda_r` and `n_epochs` above) and randomly initialize our parameters "
   ]
  },
  {
   "cell_type": "code",
   "execution_count": 9,
   "metadata": {},
   "outputs": [],
   "source": [
    "eta = 0.01\n",
    "# Perform key splitting\n",
    "key_w, key_b, key = random.split(key, 3)\n",
    "# Initialize the weights\n",
    "weights = random.normal(key_w, (1, 2));\n",
    "bias = random.normal(key_b, (1, 1));\n",
    "# Save the weight history for plotting\n",
    "weights_history = jnp.zeros((n_epochs + 1, 2));\n",
    "bias_history = jnp.zeros((n_epochs + 1, 1));\n",
    "# Record the first \n",
    "weights_history = weights_history.at[0].set(weights[0])\n",
    "bias_history = bias_history.at[0].set(bias[0])"
   ]
  },
  {
   "cell_type": "markdown",
   "metadata": {},
   "source": [
    "As we discussed earlier, the original model by McCulloch & Pitts has several issues regarding its use for numerical optimization (as it was originally observed from a neuroscience point of view)\n",
    "\n",
    "***\n",
    "\n",
    "<div class=\"alert alert-success\" markdown=\"1\" style=\"color:white; background-color: #410819; border-color: #cb2e47\">\n",
    "\n",
    "> **Changes from the `NumPy` implementation**\n",
    ">   1. (Smoothness) Our _activation function_ will change from _identity_ to sigmoid, i.e. $ \\phi(\\mathbf{x}) = \\frac{1}{1 + e^{-\\mathbf{x}}} $\n",
    ">   2. (Outliers) Our _loss function_ will change from $ L_{1} $ to $ L_{2} $ (MSE - Mean Squared Error)\n",
    "\n",
    "</div>\n",
    "\n",
    "***\n",
    "\n",
    "As discussed in the previous course, for using the very handy `grad` function provided by `JAX`, we need to define the whole forward function that we want to derive given our parameters. Hence this function also needs to **contain the forward pass**. This is summarized in the following function"
   ]
  },
  {
   "cell_type": "code",
   "execution_count": 10,
   "metadata": {},
   "outputs": [
    {
     "name": "stdout",
     "output_type": "stream",
     "text": [
      "Traced<ConcreteArray(28.971050262451172, dtype=float32)>with<JVPTrace(level=2/0)> with\n",
      "  primal = Array(28.97105, dtype=float32)\n",
      "  tangent = Traced<ShapedArray(float32[])>with<JaxprTrace(level=1/0)> with\n",
      "    pval = (ShapedArray(float32[]), None)\n",
      "    recipe = JaxprEqnRecipe(eqn_id=<object object at 0x0000021C1C8724F0>, in_tracers=(Traced<ShapedArray(float32[1,100]):JaxprTrace(level=1/0)>,), out_tracer_refs=[<weakref at 0x0000021C1DB8E4D0; to 'JaxprTracer' at 0x0000021C1DB8E610>], out_avals=[ShapedArray(float32[])], primitive=pjit, params={'jaxpr': { \u001b[34m\u001b[22m\u001b[1mlambda \u001b[39m\u001b[22m\u001b[22m; a\u001b[35m:f32[1,100]\u001b[39m. \u001b[34m\u001b[22m\u001b[1mlet\u001b[39m\u001b[22m\u001b[22m b\u001b[35m:f32[]\u001b[39m = reduce_sum[axes=(0, 1)] a \u001b[34m\u001b[22m\u001b[1min \u001b[39m\u001b[22m\u001b[22m(b,) }, 'in_shardings': (UnspecifiedValue,), 'out_shardings': (UnspecifiedValue,), 'resource_env': None, 'donated_invars': (False,), 'name': '_reduce_sum', 'keep_unused': False, 'inline': True}, effects=set(), source_info=SourceInfo(traceback=<jaxlib.xla_extension.Traceback object at 0x0000021C185E9C60>, name_stack=NameStack(stack=(Transform(name='jvp'),))))\n"
     ]
    }
   ],
   "source": [
    "import jax\n",
    "# Single neuron full function\n",
    "def loss_function(x, y, w, b):\n",
    "    # Forward pass\n",
    "    y_bar = jax.nn.sigmoid(jnp.dot(w, x.T) + b)\n",
    "    # Error computation\n",
    "    error = jnp.sum((y_bar - y) ** 2)\n",
    "    print(error)\n",
    "    return error\n",
    "\n",
    "grad_FUNCTION = grad(loss_function, argnums=[2, 3])\n",
    "dW, dB = grad_FUNCTION(x_jax, y_jax, weights, bias)\n",
    "# Gradient of the loss\n",
    "grad_loss_function = grad(loss_function, argnums=[2, 3])"
   ]
  },
  {
   "cell_type": "markdown",
   "metadata": {},
   "source": [
    "Finally, we can now define the main training loop, which is almost exactly similar to the previously defined one minus the gradient computation operations. "
   ]
  },
  {
   "cell_type": "code",
   "execution_count": 11,
   "metadata": {},
   "outputs": [
    {
     "name": "stdout",
     "output_type": "stream",
     "text": [
      "Traced<ConcreteArray(28.971050262451172, dtype=float32)>with<JVPTrace(level=2/0)> with\n",
      "  primal = Array(28.97105, dtype=float32)\n",
      "  tangent = Traced<ShapedArray(float32[])>with<JaxprTrace(level=1/0)> with\n",
      "    pval = (ShapedArray(float32[]), None)\n",
      "    recipe = JaxprEqnRecipe(eqn_id=<object object at 0x0000021C1C872B00>, in_tracers=(Traced<ShapedArray(float32[1,100]):JaxprTrace(level=1/0)>,), out_tracer_refs=[<weakref at 0x0000021C1ED60950; to 'JaxprTracer' at 0x0000021C1ED60900>], out_avals=[ShapedArray(float32[])], primitive=pjit, params={'jaxpr': { \u001b[34m\u001b[22m\u001b[1mlambda \u001b[39m\u001b[22m\u001b[22m; a\u001b[35m:f32[1,100]\u001b[39m. \u001b[34m\u001b[22m\u001b[1mlet\u001b[39m\u001b[22m\u001b[22m b\u001b[35m:f32[]\u001b[39m = reduce_sum[axes=(0, 1)] a \u001b[34m\u001b[22m\u001b[1min \u001b[39m\u001b[22m\u001b[22m(b,) }, 'in_shardings': (UnspecifiedValue,), 'out_shardings': (UnspecifiedValue,), 'resource_env': None, 'donated_invars': (False,), 'name': '_reduce_sum', 'keep_unused': False, 'inline': True}, effects=set(), source_info=SourceInfo(traceback=<jaxlib.xla_extension.Traceback object at 0x0000021C185EABB0>, name_stack=NameStack(stack=(Transform(name='jvp'),))))\n",
      "Traced<ConcreteArray(26.700870513916016, dtype=float32)>with<JVPTrace(level=2/0)> with\n",
      "  primal = Array(26.70087, dtype=float32)\n",
      "  tangent = Traced<ShapedArray(float32[])>with<JaxprTrace(level=1/0)> with\n",
      "    pval = (ShapedArray(float32[]), None)\n",
      "    recipe = JaxprEqnRecipe(eqn_id=<object object at 0x0000021C1C872DC0>, in_tracers=(Traced<ShapedArray(float32[1,100]):JaxprTrace(level=1/0)>,), out_tracer_refs=[<weakref at 0x0000021C1ED61990; to 'JaxprTracer' at 0x0000021C1ED61940>], out_avals=[ShapedArray(float32[])], primitive=pjit, params={'jaxpr': { \u001b[34m\u001b[22m\u001b[1mlambda \u001b[39m\u001b[22m\u001b[22m; a\u001b[35m:f32[1,100]\u001b[39m. \u001b[34m\u001b[22m\u001b[1mlet\u001b[39m\u001b[22m\u001b[22m b\u001b[35m:f32[]\u001b[39m = reduce_sum[axes=(0, 1)] a \u001b[34m\u001b[22m\u001b[1min \u001b[39m\u001b[22m\u001b[22m(b,) }, 'in_shardings': (UnspecifiedValue,), 'out_shardings': (UnspecifiedValue,), 'resource_env': None, 'donated_invars': (False,), 'name': '_reduce_sum', 'keep_unused': False, 'inline': True}, effects=set(), source_info=SourceInfo(traceback=<jaxlib.xla_extension.Traceback object at 0x0000021C185EF840>, name_stack=NameStack(stack=(Transform(name='jvp'),))))\n",
      "Traced<ConcreteArray(24.611745834350586, dtype=float32)>with<JVPTrace(level=2/0)> with\n",
      "  primal = Array(24.611746, dtype=float32)\n",
      "  tangent = Traced<ShapedArray(float32[])>with<JaxprTrace(level=1/0)> with\n",
      "    pval = (ShapedArray(float32[]), None)\n",
      "    recipe = JaxprEqnRecipe(eqn_id=<object object at 0x0000021C1C872D30>, in_tracers=(Traced<ShapedArray(float32[1,100]):JaxprTrace(level=1/0)>,), out_tracer_refs=[<weakref at 0x0000021C1ED61440; to 'JaxprTracer' at 0x0000021C1ED61760>], out_avals=[ShapedArray(float32[])], primitive=pjit, params={'jaxpr': { \u001b[34m\u001b[22m\u001b[1mlambda \u001b[39m\u001b[22m\u001b[22m; a\u001b[35m:f32[1,100]\u001b[39m. \u001b[34m\u001b[22m\u001b[1mlet\u001b[39m\u001b[22m\u001b[22m b\u001b[35m:f32[]\u001b[39m = reduce_sum[axes=(0, 1)] a \u001b[34m\u001b[22m\u001b[1min \u001b[39m\u001b[22m\u001b[22m(b,) }, 'in_shardings': (UnspecifiedValue,), 'out_shardings': (UnspecifiedValue,), 'resource_env': None, 'donated_invars': (False,), 'name': '_reduce_sum', 'keep_unused': False, 'inline': True}, effects=set(), source_info=SourceInfo(traceback=<jaxlib.xla_extension.Traceback object at 0x0000021C185EDBD0>, name_stack=NameStack(stack=(Transform(name='jvp'),))))\n",
      "Traced<ConcreteArray(22.702594757080078, dtype=float32)>with<JVPTrace(level=2/0)> with\n",
      "  primal = Array(22.702595, dtype=float32)\n",
      "  tangent = Traced<ShapedArray(float32[])>with<JaxprTrace(level=1/0)> with\n",
      "    pval = (ShapedArray(float32[]), None)\n",
      "    recipe = JaxprEqnRecipe(eqn_id=<object object at 0x0000021C1C872B40>, in_tracers=(Traced<ShapedArray(float32[1,100]):JaxprTrace(level=1/0)>,), out_tracer_refs=[<weakref at 0x0000021C1ED61C60; to 'JaxprTracer' at 0x0000021C1ED612B0>], out_avals=[ShapedArray(float32[])], primitive=pjit, params={'jaxpr': { \u001b[34m\u001b[22m\u001b[1mlambda \u001b[39m\u001b[22m\u001b[22m; a\u001b[35m:f32[1,100]\u001b[39m. \u001b[34m\u001b[22m\u001b[1mlet\u001b[39m\u001b[22m\u001b[22m b\u001b[35m:f32[]\u001b[39m = reduce_sum[axes=(0, 1)] a \u001b[34m\u001b[22m\u001b[1min \u001b[39m\u001b[22m\u001b[22m(b,) }, 'in_shardings': (UnspecifiedValue,), 'out_shardings': (UnspecifiedValue,), 'resource_env': None, 'donated_invars': (False,), 'name': '_reduce_sum', 'keep_unused': False, 'inline': True}, effects=set(), source_info=SourceInfo(traceback=<jaxlib.xla_extension.Traceback object at 0x0000021C185ED310>, name_stack=NameStack(stack=(Transform(name='jvp'),))))\n",
      "Traced<ConcreteArray(20.972347259521484, dtype=float32)>with<JVPTrace(level=2/0)> with\n",
      "  primal = Array(20.972347, dtype=float32)\n",
      "  tangent = Traced<ShapedArray(float32[])>with<JaxprTrace(level=1/0)> with\n",
      "    pval = (ShapedArray(float32[]), None)\n",
      "    recipe = JaxprEqnRecipe(eqn_id=<object object at 0x0000021C1C872DB0>, in_tracers=(Traced<ShapedArray(float32[1,100]):JaxprTrace(level=1/0)>,), out_tracer_refs=[<weakref at 0x0000021C1ED61C10; to 'JaxprTracer' at 0x0000021C1ED61D00>], out_avals=[ShapedArray(float32[])], primitive=pjit, params={'jaxpr': { \u001b[34m\u001b[22m\u001b[1mlambda \u001b[39m\u001b[22m\u001b[22m; a\u001b[35m:f32[1,100]\u001b[39m. \u001b[34m\u001b[22m\u001b[1mlet\u001b[39m\u001b[22m\u001b[22m b\u001b[35m:f32[]\u001b[39m = reduce_sum[axes=(0, 1)] a \u001b[34m\u001b[22m\u001b[1min \u001b[39m\u001b[22m\u001b[22m(b,) }, 'in_shardings': (UnspecifiedValue,), 'out_shardings': (UnspecifiedValue,), 'resource_env': None, 'donated_invars': (False,), 'name': '_reduce_sum', 'keep_unused': False, 'inline': True}, effects=set(), source_info=SourceInfo(traceback=<jaxlib.xla_extension.Traceback object at 0x0000021C185EA0C0>, name_stack=NameStack(stack=(Transform(name='jvp'),))))\n",
      "Traced<ConcreteArray(19.41895866394043, dtype=float32)>with<JVPTrace(level=2/0)> with\n",
      "  primal = Array(19.418959, dtype=float32)\n",
      "  tangent = Traced<ShapedArray(float32[])>with<JaxprTrace(level=1/0)> with\n",
      "    pval = (ShapedArray(float32[]), None)\n",
      "    recipe = JaxprEqnRecipe(eqn_id=<object object at 0x0000021C1C872CD0>, in_tracers=(Traced<ShapedArray(float32[1,100]):JaxprTrace(level=1/0)>,), out_tracer_refs=[<weakref at 0x0000021C1ED61BC0; to 'JaxprTracer' at 0x0000021C1ED619E0>], out_avals=[ShapedArray(float32[])], primitive=pjit, params={'jaxpr': { \u001b[34m\u001b[22m\u001b[1mlambda \u001b[39m\u001b[22m\u001b[22m; a\u001b[35m:f32[1,100]\u001b[39m. \u001b[34m\u001b[22m\u001b[1mlet\u001b[39m\u001b[22m\u001b[22m b\u001b[35m:f32[]\u001b[39m = reduce_sum[axes=(0, 1)] a \u001b[34m\u001b[22m\u001b[1min \u001b[39m\u001b[22m\u001b[22m(b,) }, 'in_shardings': (UnspecifiedValue,), 'out_shardings': (UnspecifiedValue,), 'resource_env': None, 'donated_invars': (False,), 'name': '_reduce_sum', 'keep_unused': False, 'inline': True}, effects=set(), source_info=SourceInfo(traceback=<jaxlib.xla_extension.Traceback object at 0x0000021C185ED310>, name_stack=NameStack(stack=(Transform(name='jvp'),))))\n",
      "Traced<ConcreteArray(18.038021087646484, dtype=float32)>with<JVPTrace(level=2/0)> with\n",
      "  primal = Array(18.038021, dtype=float32)\n",
      "  tangent = Traced<ShapedArray(float32[])>with<JaxprTrace(level=1/0)> with\n",
      "    pval = (ShapedArray(float32[]), None)\n",
      "    recipe = JaxprEqnRecipe(eqn_id=<object object at 0x0000021C1C872CF0>, in_tracers=(Traced<ShapedArray(float32[1,100]):JaxprTrace(level=1/0)>,), out_tracer_refs=[<weakref at 0x0000021C1ED61B20; to 'JaxprTracer' at 0x0000021C1ED611C0>], out_avals=[ShapedArray(float32[])], primitive=pjit, params={'jaxpr': { \u001b[34m\u001b[22m\u001b[1mlambda \u001b[39m\u001b[22m\u001b[22m; a\u001b[35m:f32[1,100]\u001b[39m. \u001b[34m\u001b[22m\u001b[1mlet\u001b[39m\u001b[22m\u001b[22m b\u001b[35m:f32[]\u001b[39m = reduce_sum[axes=(0, 1)] a \u001b[34m\u001b[22m\u001b[1min \u001b[39m\u001b[22m\u001b[22m(b,) }, 'in_shardings': (UnspecifiedValue,), 'out_shardings': (UnspecifiedValue,), 'resource_env': None, 'donated_invars': (False,), 'name': '_reduce_sum', 'keep_unused': False, 'inline': True}, effects=set(), source_info=SourceInfo(traceback=<jaxlib.xla_extension.Traceback object at 0x0000021C185EF840>, name_stack=NameStack(stack=(Transform(name='jvp'),))))\n",
      "Traced<ConcreteArray(16.82179832458496, dtype=float32)>with<JVPTrace(level=2/0)> with\n",
      "  primal = Array(16.821798, dtype=float32)\n",
      "  tangent = Traced<ShapedArray(float32[])>with<JaxprTrace(level=1/0)> with\n",
      "    pval = (ShapedArray(float32[]), None)\n",
      "    recipe = JaxprEqnRecipe(eqn_id=<object object at 0x0000021C1C872E10>, in_tracers=(Traced<ShapedArray(float32[1,100]):JaxprTrace(level=1/0)>,), out_tracer_refs=[<weakref at 0x0000021C1ED61B70; to 'JaxprTracer' at 0x0000021C1ED60310>], out_avals=[ShapedArray(float32[])], primitive=pjit, params={'jaxpr': { \u001b[34m\u001b[22m\u001b[1mlambda \u001b[39m\u001b[22m\u001b[22m; a\u001b[35m:f32[1,100]\u001b[39m. \u001b[34m\u001b[22m\u001b[1mlet\u001b[39m\u001b[22m\u001b[22m b\u001b[35m:f32[]\u001b[39m = reduce_sum[axes=(0, 1)] a \u001b[34m\u001b[22m\u001b[1min \u001b[39m\u001b[22m\u001b[22m(b,) }, 'in_shardings': (UnspecifiedValue,), 'out_shardings': (UnspecifiedValue,), 'resource_env': None, 'donated_invars': (False,), 'name': '_reduce_sum', 'keep_unused': False, 'inline': True}, effects=set(), source_info=SourceInfo(traceback=<jaxlib.xla_extension.Traceback object at 0x0000021C185EF840>, name_stack=NameStack(stack=(Transform(name='jvp'),))))\n",
      "Traced<ConcreteArray(15.759049415588379, dtype=float32)>with<JVPTrace(level=2/0)> with\n",
      "  primal = Array(15.759049, dtype=float32)\n",
      "  tangent = Traced<ShapedArray(float32[])>with<JaxprTrace(level=1/0)> with\n",
      "    pval = (ShapedArray(float32[]), None)\n",
      "    recipe = JaxprEqnRecipe(eqn_id=<object object at 0x0000021C1C872D20>, in_tracers=(Traced<ShapedArray(float32[1,100]):JaxprTrace(level=1/0)>,), out_tracer_refs=[<weakref at 0x0000021C1ED61210; to 'JaxprTracer' at 0x0000021C1ED61C10>], out_avals=[ShapedArray(float32[])], primitive=pjit, params={'jaxpr': { \u001b[34m\u001b[22m\u001b[1mlambda \u001b[39m\u001b[22m\u001b[22m; a\u001b[35m:f32[1,100]\u001b[39m. \u001b[34m\u001b[22m\u001b[1mlet\u001b[39m\u001b[22m\u001b[22m b\u001b[35m:f32[]\u001b[39m = reduce_sum[axes=(0, 1)] a \u001b[34m\u001b[22m\u001b[1min \u001b[39m\u001b[22m\u001b[22m(b,) }, 'in_shardings': (UnspecifiedValue,), 'out_shardings': (UnspecifiedValue,), 'resource_env': None, 'donated_invars': (False,), 'name': '_reduce_sum', 'keep_unused': False, 'inline': True}, effects=set(), source_info=SourceInfo(traceback=<jaxlib.xla_extension.Traceback object at 0x0000021C185E9E90>, name_stack=NameStack(stack=(Transform(name='jvp'),))))\n",
      "Traced<ConcreteArray(14.835664749145508, dtype=float32)>with<JVPTrace(level=2/0)> with\n",
      "  primal = Array(14.835665, dtype=float32)\n",
      "  tangent = Traced<ShapedArray(float32[])>with<JaxprTrace(level=1/0)> with\n",
      "    pval = (ShapedArray(float32[]), None)\n",
      "    recipe = JaxprEqnRecipe(eqn_id=<object object at 0x0000021C1C872E50>, in_tracers=(Traced<ShapedArray(float32[1,100]):JaxprTrace(level=1/0)>,), out_tracer_refs=[<weakref at 0x0000021C1ED61AD0; to 'JaxprTracer' at 0x0000021C1ED613A0>], out_avals=[ShapedArray(float32[])], primitive=pjit, params={'jaxpr': { \u001b[34m\u001b[22m\u001b[1mlambda \u001b[39m\u001b[22m\u001b[22m; a\u001b[35m:f32[1,100]\u001b[39m. \u001b[34m\u001b[22m\u001b[1mlet\u001b[39m\u001b[22m\u001b[22m b\u001b[35m:f32[]\u001b[39m = reduce_sum[axes=(0, 1)] a \u001b[34m\u001b[22m\u001b[1min \u001b[39m\u001b[22m\u001b[22m(b,) }, 'in_shardings': (UnspecifiedValue,), 'out_shardings': (UnspecifiedValue,), 'resource_env': None, 'donated_invars': (False,), 'name': '_reduce_sum', 'keep_unused': False, 'inline': True}, effects=set(), source_info=SourceInfo(traceback=<jaxlib.xla_extension.Traceback object at 0x0000021C185EE8F0>, name_stack=NameStack(stack=(Transform(name='jvp'),))))\n",
      "Traced<ConcreteArray(14.035804748535156, dtype=float32)>with<JVPTrace(level=2/0)> with\n",
      "  primal = Array(14.035805, dtype=float32)\n",
      "  tangent = Traced<ShapedArray(float32[])>with<JaxprTrace(level=1/0)> with\n",
      "    pval = (ShapedArray(float32[]), None)\n",
      "    recipe = JaxprEqnRecipe(eqn_id=<object object at 0x0000021C1C872D60>, in_tracers=(Traced<ShapedArray(float32[1,100]):JaxprTrace(level=1/0)>,), out_tracer_refs=[<weakref at 0x0000021C1ED61D50; to 'JaxprTracer' at 0x0000021C1ED612B0>], out_avals=[ShapedArray(float32[])], primitive=pjit, params={'jaxpr': { \u001b[34m\u001b[22m\u001b[1mlambda \u001b[39m\u001b[22m\u001b[22m; a\u001b[35m:f32[1,100]\u001b[39m. \u001b[34m\u001b[22m\u001b[1mlet\u001b[39m\u001b[22m\u001b[22m b\u001b[35m:f32[]\u001b[39m = reduce_sum[axes=(0, 1)] a \u001b[34m\u001b[22m\u001b[1min \u001b[39m\u001b[22m\u001b[22m(b,) }, 'in_shardings': (UnspecifiedValue,), 'out_shardings': (UnspecifiedValue,), 'resource_env': None, 'donated_invars': (False,), 'name': '_reduce_sum', 'keep_unused': False, 'inline': True}, effects=set(), source_info=SourceInfo(traceback=<jaxlib.xla_extension.Traceback object at 0x0000021C185EADE0>, name_stack=NameStack(stack=(Transform(name='jvp'),))))\n",
      "Traced<ConcreteArray(13.343185424804688, dtype=float32)>with<JVPTrace(level=2/0)> with\n",
      "  primal = Array(13.343185, dtype=float32)\n",
      "  tangent = Traced<ShapedArray(float32[])>with<JaxprTrace(level=1/0)> with\n",
      "    pval = (ShapedArray(float32[]), None)\n",
      "    recipe = JaxprEqnRecipe(eqn_id=<object object at 0x0000021C1C872CE0>, in_tracers=(Traced<ShapedArray(float32[1,100]):JaxprTrace(level=1/0)>,), out_tracer_refs=[<weakref at 0x0000021C1ED613F0; to 'JaxprTracer' at 0x0000021C1ED60E00>], out_avals=[ShapedArray(float32[])], primitive=pjit, params={'jaxpr': { \u001b[34m\u001b[22m\u001b[1mlambda \u001b[39m\u001b[22m\u001b[22m; a\u001b[35m:f32[1,100]\u001b[39m. \u001b[34m\u001b[22m\u001b[1mlet\u001b[39m\u001b[22m\u001b[22m b\u001b[35m:f32[]\u001b[39m = reduce_sum[axes=(0, 1)] a \u001b[34m\u001b[22m\u001b[1min \u001b[39m\u001b[22m\u001b[22m(b,) }, 'in_shardings': (UnspecifiedValue,), 'out_shardings': (UnspecifiedValue,), 'resource_env': None, 'donated_invars': (False,), 'name': '_reduce_sum', 'keep_unused': False, 'inline': True}, effects=set(), source_info=SourceInfo(traceback=<jaxlib.xla_extension.Traceback object at 0x0000021C185E9170>, name_stack=NameStack(stack=(Transform(name='jvp'),))))\n",
      "Traced<ConcreteArray(12.742120742797852, dtype=float32)>with<JVPTrace(level=2/0)> with\n",
      "  primal = Array(12.742121, dtype=float32)\n",
      "  tangent = Traced<ShapedArray(float32[])>with<JaxprTrace(level=1/0)> with\n",
      "    pval = (ShapedArray(float32[]), None)\n",
      "    recipe = JaxprEqnRecipe(eqn_id=<object object at 0x0000021C1C872D50>, in_tracers=(Traced<ShapedArray(float32[1,100]):JaxprTrace(level=1/0)>,), out_tracer_refs=[<weakref at 0x0000021C1ED60EA0; to 'JaxprTracer' at 0x0000021C1ED61B20>], out_avals=[ShapedArray(float32[])], primitive=pjit, params={'jaxpr': { \u001b[34m\u001b[22m\u001b[1mlambda \u001b[39m\u001b[22m\u001b[22m; a\u001b[35m:f32[1,100]\u001b[39m. \u001b[34m\u001b[22m\u001b[1mlet\u001b[39m\u001b[22m\u001b[22m b\u001b[35m:f32[]\u001b[39m = reduce_sum[axes=(0, 1)] a \u001b[34m\u001b[22m\u001b[1min \u001b[39m\u001b[22m\u001b[22m(b,) }, 'in_shardings': (UnspecifiedValue,), 'out_shardings': (UnspecifiedValue,), 'resource_env': None, 'donated_invars': (False,), 'name': '_reduce_sum', 'keep_unused': False, 'inline': True}, effects=set(), source_info=SourceInfo(traceback=<jaxlib.xla_extension.Traceback object at 0x0000021C185EED50>, name_stack=NameStack(stack=(Transform(name='jvp'),))))\n",
      "Traced<ConcreteArray(12.218265533447266, dtype=float32)>with<JVPTrace(level=2/0)> with\n",
      "  primal = Array(12.218266, dtype=float32)\n",
      "  tangent = Traced<ShapedArray(float32[])>with<JaxprTrace(level=1/0)> with\n",
      "    pval = (ShapedArray(float32[]), None)\n",
      "    recipe = JaxprEqnRecipe(eqn_id=<object object at 0x0000021C1C872E70>, in_tracers=(Traced<ShapedArray(float32[1,100]):JaxprTrace(level=1/0)>,), out_tracer_refs=[<weakref at 0x0000021C1ED61CB0; to 'JaxprTracer' at 0x0000021C1ED61300>], out_avals=[ShapedArray(float32[])], primitive=pjit, params={'jaxpr': { \u001b[34m\u001b[22m\u001b[1mlambda \u001b[39m\u001b[22m\u001b[22m; a\u001b[35m:f32[1,100]\u001b[39m. \u001b[34m\u001b[22m\u001b[1mlet\u001b[39m\u001b[22m\u001b[22m b\u001b[35m:f32[]\u001b[39m = reduce_sum[axes=(0, 1)] a \u001b[34m\u001b[22m\u001b[1min \u001b[39m\u001b[22m\u001b[22m(b,) }, 'in_shardings': (UnspecifiedValue,), 'out_shardings': (UnspecifiedValue,), 'resource_env': None, 'donated_invars': (False,), 'name': '_reduce_sum', 'keep_unused': False, 'inline': True}, effects=set(), source_info=SourceInfo(traceback=<jaxlib.xla_extension.Traceback object at 0x0000021C185ED0E0>, name_stack=NameStack(stack=(Transform(name='jvp'),))))\n",
      "Traced<ConcreteArray(11.758991241455078, dtype=float32)>with<JVPTrace(level=2/0)> with\n",
      "  primal = Array(11.758991, dtype=float32)\n",
      "  tangent = Traced<ShapedArray(float32[])>with<JaxprTrace(level=1/0)> with\n",
      "    pval = (ShapedArray(float32[]), None)\n",
      "    recipe = JaxprEqnRecipe(eqn_id=<object object at 0x0000021C1C872C40>, in_tracers=(Traced<ShapedArray(float32[1,100]):JaxprTrace(level=1/0)>,), out_tracer_refs=[<weakref at 0x0000021C1ED60310; to 'JaxprTracer' at 0x0000021C1ED61C60>], out_avals=[ShapedArray(float32[])], primitive=pjit, params={'jaxpr': { \u001b[34m\u001b[22m\u001b[1mlambda \u001b[39m\u001b[22m\u001b[22m; a\u001b[35m:f32[1,100]\u001b[39m. \u001b[34m\u001b[22m\u001b[1mlet\u001b[39m\u001b[22m\u001b[22m b\u001b[35m:f32[]\u001b[39m = reduce_sum[axes=(0, 1)] a \u001b[34m\u001b[22m\u001b[1min \u001b[39m\u001b[22m\u001b[22m(b,) }, 'in_shardings': (UnspecifiedValue,), 'out_shardings': (UnspecifiedValue,), 'resource_env': None, 'donated_invars': (False,), 'name': '_reduce_sum', 'keep_unused': False, 'inline': True}, effects=set(), source_info=SourceInfo(traceback=<jaxlib.xla_extension.Traceback object at 0x0000021C185EFED0>, name_stack=NameStack(stack=(Transform(name='jvp'),))))\n",
      "Traced<ConcreteArray(11.353494644165039, dtype=float32)>with<JVPTrace(level=2/0)> with\n",
      "  primal = Array(11.353495, dtype=float32)\n",
      "  tangent = Traced<ShapedArray(float32[])>with<JaxprTrace(level=1/0)> with\n",
      "    pval = (ShapedArray(float32[]), None)\n",
      "    recipe = JaxprEqnRecipe(eqn_id=<object object at 0x0000021C1C872C10>, in_tracers=(Traced<ShapedArray(float32[1,100]):JaxprTrace(level=1/0)>,), out_tracer_refs=[<weakref at 0x0000021C1ED61210; to 'JaxprTracer' at 0x0000021C1ED61E90>], out_avals=[ShapedArray(float32[])], primitive=pjit, params={'jaxpr': { \u001b[34m\u001b[22m\u001b[1mlambda \u001b[39m\u001b[22m\u001b[22m; a\u001b[35m:f32[1,100]\u001b[39m. \u001b[34m\u001b[22m\u001b[1mlet\u001b[39m\u001b[22m\u001b[22m b\u001b[35m:f32[]\u001b[39m = reduce_sum[axes=(0, 1)] a \u001b[34m\u001b[22m\u001b[1min \u001b[39m\u001b[22m\u001b[22m(b,) }, 'in_shardings': (UnspecifiedValue,), 'out_shardings': (UnspecifiedValue,), 'resource_env': None, 'donated_invars': (False,), 'name': '_reduce_sum', 'keep_unused': False, 'inline': True}, effects=set(), source_info=SourceInfo(traceback=<jaxlib.xla_extension.Traceback object at 0x0000021C185E88B0>, name_stack=NameStack(stack=(Transform(name='jvp'),))))\n",
      "Traced<ConcreteArray(10.992727279663086, dtype=float32)>with<JVPTrace(level=2/0)> with\n",
      "  primal = Array(10.992727, dtype=float32)\n",
      "  tangent = Traced<ShapedArray(float32[])>with<JaxprTrace(level=1/0)> with\n",
      "    pval = (ShapedArray(float32[]), None)\n",
      "    recipe = JaxprEqnRecipe(eqn_id=<object object at 0x0000021C1C872D20>, in_tracers=(Traced<ShapedArray(float32[1,100]):JaxprTrace(level=1/0)>,), out_tracer_refs=[<weakref at 0x0000021C1ED61C10; to 'JaxprTracer' at 0x0000021C1ED61530>], out_avals=[ShapedArray(float32[])], primitive=pjit, params={'jaxpr': { \u001b[34m\u001b[22m\u001b[1mlambda \u001b[39m\u001b[22m\u001b[22m; a\u001b[35m:f32[1,100]\u001b[39m. \u001b[34m\u001b[22m\u001b[1mlet\u001b[39m\u001b[22m\u001b[22m b\u001b[35m:f32[]\u001b[39m = reduce_sum[axes=(0, 1)] a \u001b[34m\u001b[22m\u001b[1min \u001b[39m\u001b[22m\u001b[22m(b,) }, 'in_shardings': (UnspecifiedValue,), 'out_shardings': (UnspecifiedValue,), 'resource_env': None, 'donated_invars': (False,), 'name': '_reduce_sum', 'keep_unused': False, 'inline': True}, effects=set(), source_info=SourceInfo(traceback=<jaxlib.xla_extension.Traceback object at 0x0000021C185EABB0>, name_stack=NameStack(stack=(Transform(name='jvp'),))))\n",
      "Traced<ConcreteArray(10.669212341308594, dtype=float32)>with<JVPTrace(level=2/0)> with\n",
      "  primal = Array(10.669212, dtype=float32)\n",
      "  tangent = Traced<ShapedArray(float32[])>with<JaxprTrace(level=1/0)> with\n",
      "    pval = (ShapedArray(float32[]), None)\n",
      "    recipe = JaxprEqnRecipe(eqn_id=<object object at 0x0000021C1C872D00>, in_tracers=(Traced<ShapedArray(float32[1,100]):JaxprTrace(level=1/0)>,), out_tracer_refs=[<weakref at 0x0000021C1ED620C0; to 'JaxprTracer' at 0x0000021C1ED60AE0>], out_avals=[ShapedArray(float32[])], primitive=pjit, params={'jaxpr': { \u001b[34m\u001b[22m\u001b[1mlambda \u001b[39m\u001b[22m\u001b[22m; a\u001b[35m:f32[1,100]\u001b[39m. \u001b[34m\u001b[22m\u001b[1mlet\u001b[39m\u001b[22m\u001b[22m b\u001b[35m:f32[]\u001b[39m = reduce_sum[axes=(0, 1)] a \u001b[34m\u001b[22m\u001b[1min \u001b[39m\u001b[22m\u001b[22m(b,) }, 'in_shardings': (UnspecifiedValue,), 'out_shardings': (UnspecifiedValue,), 'resource_env': None, 'donated_invars': (False,), 'name': '_reduce_sum', 'keep_unused': False, 'inline': True}, effects=set(), source_info=SourceInfo(traceback=<jaxlib.xla_extension.Traceback object at 0x0000021C185E9E90>, name_stack=NameStack(stack=(Transform(name='jvp'),))))\n",
      "Traced<ConcreteArray(10.376837730407715, dtype=float32)>with<JVPTrace(level=2/0)> with\n",
      "  primal = Array(10.376838, dtype=float32)\n",
      "  tangent = Traced<ShapedArray(float32[])>with<JaxprTrace(level=1/0)> with\n",
      "    pval = (ShapedArray(float32[]), None)\n",
      "    recipe = JaxprEqnRecipe(eqn_id=<object object at 0x0000021C1C872E40>, in_tracers=(Traced<ShapedArray(float32[1,100]):JaxprTrace(level=1/0)>,), out_tracer_refs=[<weakref at 0x0000021C1ED617B0; to 'JaxprTracer' at 0x0000021C1ED612B0>], out_avals=[ShapedArray(float32[])], primitive=pjit, params={'jaxpr': { \u001b[34m\u001b[22m\u001b[1mlambda \u001b[39m\u001b[22m\u001b[22m; a\u001b[35m:f32[1,100]\u001b[39m. \u001b[34m\u001b[22m\u001b[1mlet\u001b[39m\u001b[22m\u001b[22m b\u001b[35m:f32[]\u001b[39m = reduce_sum[axes=(0, 1)] a \u001b[34m\u001b[22m\u001b[1min \u001b[39m\u001b[22m\u001b[22m(b,) }, 'in_shardings': (UnspecifiedValue,), 'out_shardings': (UnspecifiedValue,), 'resource_env': None, 'donated_invars': (False,), 'name': '_reduce_sum', 'keep_unused': False, 'inline': True}, effects=set(), source_info=SourceInfo(traceback=<jaxlib.xla_extension.Traceback object at 0x0000021C185EF610>, name_stack=NameStack(stack=(Transform(name='jvp'),))))\n",
      "Traced<ConcreteArray(10.110639572143555, dtype=float32)>with<JVPTrace(level=2/0)> with\n",
      "  primal = Array(10.11064, dtype=float32)\n",
      "  tangent = Traced<ShapedArray(float32[])>with<JaxprTrace(level=1/0)> with\n",
      "    pval = (ShapedArray(float32[]), None)\n",
      "    recipe = JaxprEqnRecipe(eqn_id=<object object at 0x0000021C1C872BF0>, in_tracers=(Traced<ShapedArray(float32[1,100]):JaxprTrace(level=1/0)>,), out_tracer_refs=[<weakref at 0x0000021C1ED61990; to 'JaxprTracer' at 0x0000021C1ED61080>], out_avals=[ShapedArray(float32[])], primitive=pjit, params={'jaxpr': { \u001b[34m\u001b[22m\u001b[1mlambda \u001b[39m\u001b[22m\u001b[22m; a\u001b[35m:f32[1,100]\u001b[39m. \u001b[34m\u001b[22m\u001b[1mlet\u001b[39m\u001b[22m\u001b[22m b\u001b[35m:f32[]\u001b[39m = reduce_sum[axes=(0, 1)] a \u001b[34m\u001b[22m\u001b[1min \u001b[39m\u001b[22m\u001b[22m(b,) }, 'in_shardings': (UnspecifiedValue,), 'out_shardings': (UnspecifiedValue,), 'resource_env': None, 'donated_invars': (False,), 'name': '_reduce_sum', 'keep_unused': False, 'inline': True}, effects=set(), source_info=SourceInfo(traceback=<jaxlib.xla_extension.Traceback object at 0x0000021C185EA750>, name_stack=NameStack(stack=(Transform(name='jvp'),))))\n",
      "Traced<ConcreteArray(9.86659049987793, dtype=float32)>with<JVPTrace(level=2/0)> with\n",
      "  primal = Array(9.8665905, dtype=float32)\n",
      "  tangent = Traced<ShapedArray(float32[])>with<JaxprTrace(level=1/0)> with\n",
      "    pval = (ShapedArray(float32[]), None)\n",
      "    recipe = JaxprEqnRecipe(eqn_id=<object object at 0x0000021C1C872DC0>, in_tracers=(Traced<ShapedArray(float32[1,100]):JaxprTrace(level=1/0)>,), out_tracer_refs=[<weakref at 0x0000021C1ED61170; to 'JaxprTracer' at 0x0000021C1ED61DF0>], out_avals=[ShapedArray(float32[])], primitive=pjit, params={'jaxpr': { \u001b[34m\u001b[22m\u001b[1mlambda \u001b[39m\u001b[22m\u001b[22m; a\u001b[35m:f32[1,100]\u001b[39m. \u001b[34m\u001b[22m\u001b[1mlet\u001b[39m\u001b[22m\u001b[22m b\u001b[35m:f32[]\u001b[39m = reduce_sum[axes=(0, 1)] a \u001b[34m\u001b[22m\u001b[1min \u001b[39m\u001b[22m\u001b[22m(b,) }, 'in_shardings': (UnspecifiedValue,), 'out_shardings': (UnspecifiedValue,), 'resource_env': None, 'donated_invars': (False,), 'name': '_reduce_sum', 'keep_unused': False, 'inline': True}, effects=set(), source_info=SourceInfo(traceback=<jaxlib.xla_extension.Traceback object at 0x0000021C185EFED0>, name_stack=NameStack(stack=(Transform(name='jvp'),))))\n",
      "Traced<ConcreteArray(9.641437530517578, dtype=float32)>with<JVPTrace(level=2/0)> with\n",
      "  primal = Array(9.641438, dtype=float32)\n",
      "  tangent = Traced<ShapedArray(float32[])>with<JaxprTrace(level=1/0)> with\n",
      "    pval = (ShapedArray(float32[]), None)\n",
      "    recipe = JaxprEqnRecipe(eqn_id=<object object at 0x0000021C1C872D30>, in_tracers=(Traced<ShapedArray(float32[1,100]):JaxprTrace(level=1/0)>,), out_tracer_refs=[<weakref at 0x0000021C1ED61E40; to 'JaxprTracer' at 0x0000021C1ED60FE0>], out_avals=[ShapedArray(float32[])], primitive=pjit, params={'jaxpr': { \u001b[34m\u001b[22m\u001b[1mlambda \u001b[39m\u001b[22m\u001b[22m; a\u001b[35m:f32[1,100]\u001b[39m. \u001b[34m\u001b[22m\u001b[1mlet\u001b[39m\u001b[22m\u001b[22m b\u001b[35m:f32[]\u001b[39m = reduce_sum[axes=(0, 1)] a \u001b[34m\u001b[22m\u001b[1min \u001b[39m\u001b[22m\u001b[22m(b,) }, 'in_shardings': (UnspecifiedValue,), 'out_shardings': (UnspecifiedValue,), 'resource_env': None, 'donated_invars': (False,), 'name': '_reduce_sum', 'keep_unused': False, 'inline': True}, effects=set(), source_info=SourceInfo(traceback=<jaxlib.xla_extension.Traceback object at 0x0000021C185E9A30>, name_stack=NameStack(stack=(Transform(name='jvp'),))))\n",
      "Traced<ConcreteArray(9.43254280090332, dtype=float32)>with<JVPTrace(level=2/0)> with\n",
      "  primal = Array(9.432543, dtype=float32)\n",
      "  tangent = Traced<ShapedArray(float32[])>with<JaxprTrace(level=1/0)> with\n",
      "    pval = (ShapedArray(float32[]), None)\n",
      "    recipe = JaxprEqnRecipe(eqn_id=<object object at 0x0000021C1C872B40>, in_tracers=(Traced<ShapedArray(float32[1,100]):JaxprTrace(level=1/0)>,), out_tracer_refs=[<weakref at 0x0000021C1ED62110; to 'JaxprTracer' at 0x0000021C1ED62390>], out_avals=[ShapedArray(float32[])], primitive=pjit, params={'jaxpr': { \u001b[34m\u001b[22m\u001b[1mlambda \u001b[39m\u001b[22m\u001b[22m; a\u001b[35m:f32[1,100]\u001b[39m. \u001b[34m\u001b[22m\u001b[1mlet\u001b[39m\u001b[22m\u001b[22m b\u001b[35m:f32[]\u001b[39m = reduce_sum[axes=(0, 1)] a \u001b[34m\u001b[22m\u001b[1min \u001b[39m\u001b[22m\u001b[22m(b,) }, 'in_shardings': (UnspecifiedValue,), 'out_shardings': (UnspecifiedValue,), 'resource_env': None, 'donated_invars': (False,), 'name': '_reduce_sum', 'keep_unused': False, 'inline': True}, effects=set(), source_info=SourceInfo(traceback=<jaxlib.xla_extension.Traceback object at 0x0000021C185ED0E0>, name_stack=NameStack(stack=(Transform(name='jvp'),))))\n",
      "Traced<ConcreteArray(9.237762451171875, dtype=float32)>with<JVPTrace(level=2/0)> with\n",
      "  primal = Array(9.237762, dtype=float32)\n",
      "  tangent = Traced<ShapedArray(float32[])>with<JaxprTrace(level=1/0)> with\n",
      "    pval = (ShapedArray(float32[]), None)\n",
      "    recipe = JaxprEqnRecipe(eqn_id=<object object at 0x0000021C1C872DB0>, in_tracers=(Traced<ShapedArray(float32[1,100]):JaxprTrace(level=1/0)>,), out_tracer_refs=[<weakref at 0x0000021C1ED621B0; to 'JaxprTracer' at 0x0000021C1ED60A90>], out_avals=[ShapedArray(float32[])], primitive=pjit, params={'jaxpr': { \u001b[34m\u001b[22m\u001b[1mlambda \u001b[39m\u001b[22m\u001b[22m; a\u001b[35m:f32[1,100]\u001b[39m. \u001b[34m\u001b[22m\u001b[1mlet\u001b[39m\u001b[22m\u001b[22m b\u001b[35m:f32[]\u001b[39m = reduce_sum[axes=(0, 1)] a \u001b[34m\u001b[22m\u001b[1min \u001b[39m\u001b[22m\u001b[22m(b,) }, 'in_shardings': (UnspecifiedValue,), 'out_shardings': (UnspecifiedValue,), 'resource_env': None, 'donated_invars': (False,), 'name': '_reduce_sum', 'keep_unused': False, 'inline': True}, effects=set(), source_info=SourceInfo(traceback=<jaxlib.xla_extension.Traceback object at 0x0000021C185EADE0>, name_stack=NameStack(stack=(Transform(name='jvp'),))))\n",
      "Traced<ConcreteArray(9.055351257324219, dtype=float32)>with<JVPTrace(level=2/0)> with\n",
      "  primal = Array(9.055351, dtype=float32)\n",
      "  tangent = Traced<ShapedArray(float32[])>with<JaxprTrace(level=1/0)> with\n",
      "    pval = (ShapedArray(float32[]), None)\n",
      "    recipe = JaxprEqnRecipe(eqn_id=<object object at 0x0000021C1C872CD0>, in_tracers=(Traced<ShapedArray(float32[1,100]):JaxprTrace(level=1/0)>,), out_tracer_refs=[<weakref at 0x0000021C1ED611C0; to 'JaxprTracer' at 0x0000021C1ED62430>], out_avals=[ShapedArray(float32[])], primitive=pjit, params={'jaxpr': { \u001b[34m\u001b[22m\u001b[1mlambda \u001b[39m\u001b[22m\u001b[22m; a\u001b[35m:f32[1,100]\u001b[39m. \u001b[34m\u001b[22m\u001b[1mlet\u001b[39m\u001b[22m\u001b[22m b\u001b[35m:f32[]\u001b[39m = reduce_sum[axes=(0, 1)] a \u001b[34m\u001b[22m\u001b[1min \u001b[39m\u001b[22m\u001b[22m(b,) }, 'in_shardings': (UnspecifiedValue,), 'out_shardings': (UnspecifiedValue,), 'resource_env': None, 'donated_invars': (False,), 'name': '_reduce_sum', 'keep_unused': False, 'inline': True}, effects=set(), source_info=SourceInfo(traceback=<jaxlib.xla_extension.Traceback object at 0x0000021C185EDE00>, name_stack=NameStack(stack=(Transform(name='jvp'),))))\n",
      "Traced<ConcreteArray(8.883878707885742, dtype=float32)>with<JVPTrace(level=2/0)> with\n",
      "  primal = Array(8.883879, dtype=float32)\n",
      "  tangent = Traced<ShapedArray(float32[])>with<JaxprTrace(level=1/0)> with\n",
      "    pval = (ShapedArray(float32[]), None)\n",
      "    recipe = JaxprEqnRecipe(eqn_id=<object object at 0x0000021C1C872CF0>, in_tracers=(Traced<ShapedArray(float32[1,100]):JaxprTrace(level=1/0)>,), out_tracer_refs=[<weakref at 0x0000021C1ED61C10; to 'JaxprTracer' at 0x0000021C1ED61DF0>], out_avals=[ShapedArray(float32[])], primitive=pjit, params={'jaxpr': { \u001b[34m\u001b[22m\u001b[1mlambda \u001b[39m\u001b[22m\u001b[22m; a\u001b[35m:f32[1,100]\u001b[39m. \u001b[34m\u001b[22m\u001b[1mlet\u001b[39m\u001b[22m\u001b[22m b\u001b[35m:f32[]\u001b[39m = reduce_sum[axes=(0, 1)] a \u001b[34m\u001b[22m\u001b[1min \u001b[39m\u001b[22m\u001b[22m(b,) }, 'in_shardings': (UnspecifiedValue,), 'out_shardings': (UnspecifiedValue,), 'resource_env': None, 'donated_invars': (False,), 'name': '_reduce_sum', 'keep_unused': False, 'inline': True}, effects=set(), source_info=SourceInfo(traceback=<jaxlib.xla_extension.Traceback object at 0x0000021C185EA750>, name_stack=NameStack(stack=(Transform(name='jvp'),))))\n",
      "Traced<ConcreteArray(8.722160339355469, dtype=float32)>with<JVPTrace(level=2/0)> with\n",
      "  primal = Array(8.72216, dtype=float32)\n",
      "  tangent = Traced<ShapedArray(float32[])>with<JaxprTrace(level=1/0)> with\n",
      "    pval = (ShapedArray(float32[]), None)\n",
      "    recipe = JaxprEqnRecipe(eqn_id=<object object at 0x0000021C1C872E10>, in_tracers=(Traced<ShapedArray(float32[1,100]):JaxprTrace(level=1/0)>,), out_tracer_refs=[<weakref at 0x0000021C1ED62660; to 'JaxprTracer' at 0x0000021C1ED62160>], out_avals=[ShapedArray(float32[])], primitive=pjit, params={'jaxpr': { \u001b[34m\u001b[22m\u001b[1mlambda \u001b[39m\u001b[22m\u001b[22m; a\u001b[35m:f32[1,100]\u001b[39m. \u001b[34m\u001b[22m\u001b[1mlet\u001b[39m\u001b[22m\u001b[22m b\u001b[35m:f32[]\u001b[39m = reduce_sum[axes=(0, 1)] a \u001b[34m\u001b[22m\u001b[1min \u001b[39m\u001b[22m\u001b[22m(b,) }, 'in_shardings': (UnspecifiedValue,), 'out_shardings': (UnspecifiedValue,), 'resource_env': None, 'donated_invars': (False,), 'name': '_reduce_sum', 'keep_unused': False, 'inline': True}, effects=set(), source_info=SourceInfo(traceback=<jaxlib.xla_extension.Traceback object at 0x0000021C185EA750>, name_stack=NameStack(stack=(Transform(name='jvp'),))))\n",
      "Traced<ConcreteArray(8.5692138671875, dtype=float32)>with<JVPTrace(level=2/0)> with\n",
      "  primal = Array(8.569214, dtype=float32)\n",
      "  tangent = Traced<ShapedArray(float32[])>with<JaxprTrace(level=1/0)> with\n",
      "    pval = (ShapedArray(float32[]), None)\n",
      "    recipe = JaxprEqnRecipe(eqn_id=<object object at 0x0000021C1C872E60>, in_tracers=(Traced<ShapedArray(float32[1,100]):JaxprTrace(level=1/0)>,), out_tracer_refs=[<weakref at 0x0000021C1ED62070; to 'JaxprTracer' at 0x0000021C1ED62570>], out_avals=[ShapedArray(float32[])], primitive=pjit, params={'jaxpr': { \u001b[34m\u001b[22m\u001b[1mlambda \u001b[39m\u001b[22m\u001b[22m; a\u001b[35m:f32[1,100]\u001b[39m. \u001b[34m\u001b[22m\u001b[1mlet\u001b[39m\u001b[22m\u001b[22m b\u001b[35m:f32[]\u001b[39m = reduce_sum[axes=(0, 1)] a \u001b[34m\u001b[22m\u001b[1min \u001b[39m\u001b[22m\u001b[22m(b,) }, 'in_shardings': (UnspecifiedValue,), 'out_shardings': (UnspecifiedValue,), 'resource_env': None, 'donated_invars': (False,), 'name': '_reduce_sum', 'keep_unused': False, 'inline': True}, effects=set(), source_info=SourceInfo(traceback=<jaxlib.xla_extension.Traceback object at 0x0000021C185F0330>, name_stack=NameStack(stack=(Transform(name='jvp'),))))\n",
      "Traced<ConcreteArray(8.424219131469727, dtype=float32)>with<JVPTrace(level=2/0)> with\n",
      "  primal = Array(8.424219, dtype=float32)\n",
      "  tangent = Traced<ShapedArray(float32[])>with<JaxprTrace(level=1/0)> with\n",
      "    pval = (ShapedArray(float32[]), None)\n",
      "    recipe = JaxprEqnRecipe(eqn_id=<object object at 0x0000021C1C872E50>, in_tracers=(Traced<ShapedArray(float32[1,100]):JaxprTrace(level=1/0)>,), out_tracer_refs=[<weakref at 0x0000021C1ED62750; to 'JaxprTracer' at 0x0000021C1ED627A0>], out_avals=[ShapedArray(float32[])], primitive=pjit, params={'jaxpr': { \u001b[34m\u001b[22m\u001b[1mlambda \u001b[39m\u001b[22m\u001b[22m; a\u001b[35m:f32[1,100]\u001b[39m. \u001b[34m\u001b[22m\u001b[1mlet\u001b[39m\u001b[22m\u001b[22m b\u001b[35m:f32[]\u001b[39m = reduce_sum[axes=(0, 1)] a \u001b[34m\u001b[22m\u001b[1min \u001b[39m\u001b[22m\u001b[22m(b,) }, 'in_shardings': (UnspecifiedValue,), 'out_shardings': (UnspecifiedValue,), 'resource_env': None, 'donated_invars': (False,), 'name': '_reduce_sum', 'keep_unused': False, 'inline': True}, effects=set(), source_info=SourceInfo(traceback=<jaxlib.xla_extension.Traceback object at 0x0000021C185E9170>, name_stack=NameStack(stack=(Transform(name='jvp'),))))\n",
      "Traced<ConcreteArray(8.286474227905273, dtype=float32)>with<JVPTrace(level=2/0)> with\n",
      "  primal = Array(8.286474, dtype=float32)\n",
      "  tangent = Traced<ShapedArray(float32[])>with<JaxprTrace(level=1/0)> with\n",
      "    pval = (ShapedArray(float32[]), None)\n",
      "    recipe = JaxprEqnRecipe(eqn_id=<object object at 0x0000021C1C872D60>, in_tracers=(Traced<ShapedArray(float32[1,100]):JaxprTrace(level=1/0)>,), out_tracer_refs=[<weakref at 0x0000021C1ED613A0; to 'JaxprTracer' at 0x0000021C1ED61760>], out_avals=[ShapedArray(float32[])], primitive=pjit, params={'jaxpr': { \u001b[34m\u001b[22m\u001b[1mlambda \u001b[39m\u001b[22m\u001b[22m; a\u001b[35m:f32[1,100]\u001b[39m. \u001b[34m\u001b[22m\u001b[1mlet\u001b[39m\u001b[22m\u001b[22m b\u001b[35m:f32[]\u001b[39m = reduce_sum[axes=(0, 1)] a \u001b[34m\u001b[22m\u001b[1min \u001b[39m\u001b[22m\u001b[22m(b,) }, 'in_shardings': (UnspecifiedValue,), 'out_shardings': (UnspecifiedValue,), 'resource_env': None, 'donated_invars': (False,), 'name': '_reduce_sum', 'keep_unused': False, 'inline': True}, effects=set(), source_info=SourceInfo(traceback=<jaxlib.xla_extension.Traceback object at 0x0000021C185ED0E0>, name_stack=NameStack(stack=(Transform(name='jvp'),))))\n",
      "Traced<ConcreteArray(8.155385971069336, dtype=float32)>with<JVPTrace(level=2/0)> with\n",
      "  primal = Array(8.155386, dtype=float32)\n",
      "  tangent = Traced<ShapedArray(float32[])>with<JaxprTrace(level=1/0)> with\n",
      "    pval = (ShapedArray(float32[]), None)\n",
      "    recipe = JaxprEqnRecipe(eqn_id=<object object at 0x0000021C1C872CE0>, in_tracers=(Traced<ShapedArray(float32[1,100]):JaxprTrace(level=1/0)>,), out_tracer_refs=[<weakref at 0x0000021C1ED61CB0; to 'JaxprTracer' at 0x0000021C1ED61260>], out_avals=[ShapedArray(float32[])], primitive=pjit, params={'jaxpr': { \u001b[34m\u001b[22m\u001b[1mlambda \u001b[39m\u001b[22m\u001b[22m; a\u001b[35m:f32[1,100]\u001b[39m. \u001b[34m\u001b[22m\u001b[1mlet\u001b[39m\u001b[22m\u001b[22m b\u001b[35m:f32[]\u001b[39m = reduce_sum[axes=(0, 1)] a \u001b[34m\u001b[22m\u001b[1min \u001b[39m\u001b[22m\u001b[22m(b,) }, 'in_shardings': (UnspecifiedValue,), 'out_shardings': (UnspecifiedValue,), 'resource_env': None, 'donated_invars': (False,), 'name': '_reduce_sum', 'keep_unused': False, 'inline': True}, effects=set(), source_info=SourceInfo(traceback=<jaxlib.xla_extension.Traceback object at 0x0000021C185F0330>, name_stack=NameStack(stack=(Transform(name='jvp'),))))\n",
      "Traced<ConcreteArray(8.030437469482422, dtype=float32)>with<JVPTrace(level=2/0)> with\n",
      "  primal = Array(8.030437, dtype=float32)\n",
      "  tangent = Traced<ShapedArray(float32[])>with<JaxprTrace(level=1/0)> with\n",
      "    pval = (ShapedArray(float32[]), None)\n",
      "    recipe = JaxprEqnRecipe(eqn_id=<object object at 0x0000021C1C872D50>, in_tracers=(Traced<ShapedArray(float32[1,100]):JaxprTrace(level=1/0)>,), out_tracer_refs=[<weakref at 0x0000021C1ED60EA0; to 'JaxprTracer' at 0x0000021C1ED626B0>], out_avals=[ShapedArray(float32[])], primitive=pjit, params={'jaxpr': { \u001b[34m\u001b[22m\u001b[1mlambda \u001b[39m\u001b[22m\u001b[22m; a\u001b[35m:f32[1,100]\u001b[39m. \u001b[34m\u001b[22m\u001b[1mlet\u001b[39m\u001b[22m\u001b[22m b\u001b[35m:f32[]\u001b[39m = reduce_sum[axes=(0, 1)] a \u001b[34m\u001b[22m\u001b[1min \u001b[39m\u001b[22m\u001b[22m(b,) }, 'in_shardings': (UnspecifiedValue,), 'out_shardings': (UnspecifiedValue,), 'resource_env': None, 'donated_invars': (False,), 'name': '_reduce_sum', 'keep_unused': False, 'inline': True}, effects=set(), source_info=SourceInfo(traceback=<jaxlib.xla_extension.Traceback object at 0x0000021C185EEF80>, name_stack=NameStack(stack=(Transform(name='jvp'),))))\n",
      "Traced<ConcreteArray(7.911181449890137, dtype=float32)>with<JVPTrace(level=2/0)> with\n",
      "  primal = Array(7.9111814, dtype=float32)\n",
      "  tangent = Traced<ShapedArray(float32[])>with<JaxprTrace(level=1/0)> with\n",
      "    pval = (ShapedArray(float32[]), None)\n",
      "    recipe = JaxprEqnRecipe(eqn_id=<object object at 0x0000021C1C872E70>, in_tracers=(Traced<ShapedArray(float32[1,100]):JaxprTrace(level=1/0)>,), out_tracer_refs=[<weakref at 0x0000021C1ED622F0; to 'JaxprTracer' at 0x0000021C1ED62890>], out_avals=[ShapedArray(float32[])], primitive=pjit, params={'jaxpr': { \u001b[34m\u001b[22m\u001b[1mlambda \u001b[39m\u001b[22m\u001b[22m; a\u001b[35m:f32[1,100]\u001b[39m. \u001b[34m\u001b[22m\u001b[1mlet\u001b[39m\u001b[22m\u001b[22m b\u001b[35m:f32[]\u001b[39m = reduce_sum[axes=(0, 1)] a \u001b[34m\u001b[22m\u001b[1min \u001b[39m\u001b[22m\u001b[22m(b,) }, 'in_shardings': (UnspecifiedValue,), 'out_shardings': (UnspecifiedValue,), 'resource_env': None, 'donated_invars': (False,), 'name': '_reduce_sum', 'keep_unused': False, 'inline': True}, effects=set(), source_info=SourceInfo(traceback=<jaxlib.xla_extension.Traceback object at 0x0000021C185EA980>, name_stack=NameStack(stack=(Transform(name='jvp'),))))\n",
      "Traced<ConcreteArray(7.797219753265381, dtype=float32)>with<JVPTrace(level=2/0)> with\n",
      "  primal = Array(7.7972198, dtype=float32)\n",
      "  tangent = Traced<ShapedArray(float32[])>with<JaxprTrace(level=1/0)> with\n",
      "    pval = (ShapedArray(float32[]), None)\n",
      "    recipe = JaxprEqnRecipe(eqn_id=<object object at 0x0000021C1C872C40>, in_tracers=(Traced<ShapedArray(float32[1,100]):JaxprTrace(level=1/0)>,), out_tracer_refs=[<weakref at 0x0000021C1ED62750; to 'JaxprTracer' at 0x0000021C1ED62840>], out_avals=[ShapedArray(float32[])], primitive=pjit, params={'jaxpr': { \u001b[34m\u001b[22m\u001b[1mlambda \u001b[39m\u001b[22m\u001b[22m; a\u001b[35m:f32[1,100]\u001b[39m. \u001b[34m\u001b[22m\u001b[1mlet\u001b[39m\u001b[22m\u001b[22m b\u001b[35m:f32[]\u001b[39m = reduce_sum[axes=(0, 1)] a \u001b[34m\u001b[22m\u001b[1min \u001b[39m\u001b[22m\u001b[22m(b,) }, 'in_shardings': (UnspecifiedValue,), 'out_shardings': (UnspecifiedValue,), 'resource_env': None, 'donated_invars': (False,), 'name': '_reduce_sum', 'keep_unused': False, 'inline': True}, effects=set(), source_info=SourceInfo(traceback=<jaxlib.xla_extension.Traceback object at 0x0000021C185EDE00>, name_stack=NameStack(stack=(Transform(name='jvp'),))))\n",
      "Traced<ConcreteArray(7.688200950622559, dtype=float32)>with<JVPTrace(level=2/0)> with\n",
      "  primal = Array(7.688201, dtype=float32)\n",
      "  tangent = Traced<ShapedArray(float32[])>with<JaxprTrace(level=1/0)> with\n",
      "    pval = (ShapedArray(float32[]), None)\n",
      "    recipe = JaxprEqnRecipe(eqn_id=<object object at 0x0000021C1C872C10>, in_tracers=(Traced<ShapedArray(float32[1,100]):JaxprTrace(level=1/0)>,), out_tracer_refs=[<weakref at 0x0000021C1ED62930; to 'JaxprTracer' at 0x0000021C1ED613F0>], out_avals=[ShapedArray(float32[])], primitive=pjit, params={'jaxpr': { \u001b[34m\u001b[22m\u001b[1mlambda \u001b[39m\u001b[22m\u001b[22m; a\u001b[35m:f32[1,100]\u001b[39m. \u001b[34m\u001b[22m\u001b[1mlet\u001b[39m\u001b[22m\u001b[22m b\u001b[35m:f32[]\u001b[39m = reduce_sum[axes=(0, 1)] a \u001b[34m\u001b[22m\u001b[1min \u001b[39m\u001b[22m\u001b[22m(b,) }, 'in_shardings': (UnspecifiedValue,), 'out_shardings': (UnspecifiedValue,), 'resource_env': None, 'donated_invars': (False,), 'name': '_reduce_sum', 'keep_unused': False, 'inline': True}, effects=set(), source_info=SourceInfo(traceback=<jaxlib.xla_extension.Traceback object at 0x0000021C185EEF80>, name_stack=NameStack(stack=(Transform(name='jvp'),))))\n",
      "Traced<ConcreteArray(7.583806991577148, dtype=float32)>with<JVPTrace(level=2/0)> with\n",
      "  primal = Array(7.583807, dtype=float32)\n",
      "  tangent = Traced<ShapedArray(float32[])>with<JaxprTrace(level=1/0)> with\n",
      "    pval = (ShapedArray(float32[]), None)\n",
      "    recipe = JaxprEqnRecipe(eqn_id=<object object at 0x0000021C1C872D20>, in_tracers=(Traced<ShapedArray(float32[1,100]):JaxprTrace(level=1/0)>,), out_tracer_refs=[<weakref at 0x0000021C1ED61530; to 'JaxprTracer' at 0x0000021C1ED62AC0>], out_avals=[ShapedArray(float32[])], primitive=pjit, params={'jaxpr': { \u001b[34m\u001b[22m\u001b[1mlambda \u001b[39m\u001b[22m\u001b[22m; a\u001b[35m:f32[1,100]\u001b[39m. \u001b[34m\u001b[22m\u001b[1mlet\u001b[39m\u001b[22m\u001b[22m b\u001b[35m:f32[]\u001b[39m = reduce_sum[axes=(0, 1)] a \u001b[34m\u001b[22m\u001b[1min \u001b[39m\u001b[22m\u001b[22m(b,) }, 'in_shardings': (UnspecifiedValue,), 'out_shardings': (UnspecifiedValue,), 'resource_env': None, 'donated_invars': (False,), 'name': '_reduce_sum', 'keep_unused': False, 'inline': True}, effects=set(), source_info=SourceInfo(traceback=<jaxlib.xla_extension.Traceback object at 0x0000021C185EF610>, name_stack=NameStack(stack=(Transform(name='jvp'),))))\n",
      "Traced<ConcreteArray(7.483753204345703, dtype=float32)>with<JVPTrace(level=2/0)> with\n",
      "  primal = Array(7.483753, dtype=float32)\n",
      "  tangent = Traced<ShapedArray(float32[])>with<JaxprTrace(level=1/0)> with\n",
      "    pval = (ShapedArray(float32[]), None)\n",
      "    recipe = JaxprEqnRecipe(eqn_id=<object object at 0x0000021C1C872D00>, in_tracers=(Traced<ShapedArray(float32[1,100]):JaxprTrace(level=1/0)>,), out_tracer_refs=[<weakref at 0x0000021C1ED61260; to 'JaxprTracer' at 0x0000021C1ED62D90>], out_avals=[ShapedArray(float32[])], primitive=pjit, params={'jaxpr': { \u001b[34m\u001b[22m\u001b[1mlambda \u001b[39m\u001b[22m\u001b[22m; a\u001b[35m:f32[1,100]\u001b[39m. \u001b[34m\u001b[22m\u001b[1mlet\u001b[39m\u001b[22m\u001b[22m b\u001b[35m:f32[]\u001b[39m = reduce_sum[axes=(0, 1)] a \u001b[34m\u001b[22m\u001b[1min \u001b[39m\u001b[22m\u001b[22m(b,) }, 'in_shardings': (UnspecifiedValue,), 'out_shardings': (UnspecifiedValue,), 'resource_env': None, 'donated_invars': (False,), 'name': '_reduce_sum', 'keep_unused': False, 'inline': True}, effects=set(), source_info=SourceInfo(traceback=<jaxlib.xla_extension.Traceback object at 0x0000021C185EABB0>, name_stack=NameStack(stack=(Transform(name='jvp'),))))\n",
      "Traced<ConcreteArray(7.387775897979736, dtype=float32)>with<JVPTrace(level=2/0)> with\n",
      "  primal = Array(7.387776, dtype=float32)\n",
      "  tangent = Traced<ShapedArray(float32[])>with<JaxprTrace(level=1/0)> with\n",
      "    pval = (ShapedArray(float32[]), None)\n",
      "    recipe = JaxprEqnRecipe(eqn_id=<object object at 0x0000021C1C872E40>, in_tracers=(Traced<ShapedArray(float32[1,100]):JaxprTrace(level=1/0)>,), out_tracer_refs=[<weakref at 0x0000021C1ED616C0; to 'JaxprTracer' at 0x0000021C1ED60EA0>], out_avals=[ShapedArray(float32[])], primitive=pjit, params={'jaxpr': { \u001b[34m\u001b[22m\u001b[1mlambda \u001b[39m\u001b[22m\u001b[22m; a\u001b[35m:f32[1,100]\u001b[39m. \u001b[34m\u001b[22m\u001b[1mlet\u001b[39m\u001b[22m\u001b[22m b\u001b[35m:f32[]\u001b[39m = reduce_sum[axes=(0, 1)] a \u001b[34m\u001b[22m\u001b[1min \u001b[39m\u001b[22m\u001b[22m(b,) }, 'in_shardings': (UnspecifiedValue,), 'out_shardings': (UnspecifiedValue,), 'resource_env': None, 'donated_invars': (False,), 'name': '_reduce_sum', 'keep_unused': False, 'inline': True}, effects=set(), source_info=SourceInfo(traceback=<jaxlib.xla_extension.Traceback object at 0x0000021C185EFA70>, name_stack=NameStack(stack=(Transform(name='jvp'),))))\n",
      "Traced<ConcreteArray(7.295638084411621, dtype=float32)>with<JVPTrace(level=2/0)> with\n",
      "  primal = Array(7.295638, dtype=float32)\n",
      "  tangent = Traced<ShapedArray(float32[])>with<JaxprTrace(level=1/0)> with\n",
      "    pval = (ShapedArray(float32[]), None)\n",
      "    recipe = JaxprEqnRecipe(eqn_id=<object object at 0x0000021C1C872BF0>, in_tracers=(Traced<ShapedArray(float32[1,100]):JaxprTrace(level=1/0)>,), out_tracer_refs=[<weakref at 0x0000021C1ED62CF0; to 'JaxprTracer' at 0x0000021C1ED62F70>], out_avals=[ShapedArray(float32[])], primitive=pjit, params={'jaxpr': { \u001b[34m\u001b[22m\u001b[1mlambda \u001b[39m\u001b[22m\u001b[22m; a\u001b[35m:f32[1,100]\u001b[39m. \u001b[34m\u001b[22m\u001b[1mlet\u001b[39m\u001b[22m\u001b[22m b\u001b[35m:f32[]\u001b[39m = reduce_sum[axes=(0, 1)] a \u001b[34m\u001b[22m\u001b[1min \u001b[39m\u001b[22m\u001b[22m(b,) }, 'in_shardings': (UnspecifiedValue,), 'out_shardings': (UnspecifiedValue,), 'resource_env': None, 'donated_invars': (False,), 'name': '_reduce_sum', 'keep_unused': False, 'inline': True}, effects=set(), source_info=SourceInfo(traceback=<jaxlib.xla_extension.Traceback object at 0x0000021C185EDBD0>, name_stack=NameStack(stack=(Transform(name='jvp'),))))\n",
      "Traced<ConcreteArray(7.207116603851318, dtype=float32)>with<JVPTrace(level=2/0)> with\n",
      "  primal = Array(7.2071166, dtype=float32)\n",
      "  tangent = Traced<ShapedArray(float32[])>with<JaxprTrace(level=1/0)> with\n",
      "    pval = (ShapedArray(float32[]), None)\n",
      "    recipe = JaxprEqnRecipe(eqn_id=<object object at 0x0000021C1C872DC0>, in_tracers=(Traced<ShapedArray(float32[1,100]):JaxprTrace(level=1/0)>,), out_tracer_refs=[<weakref at 0x0000021C1ED62FC0; to 'JaxprTracer' at 0x0000021C1ED62AC0>], out_avals=[ShapedArray(float32[])], primitive=pjit, params={'jaxpr': { \u001b[34m\u001b[22m\u001b[1mlambda \u001b[39m\u001b[22m\u001b[22m; a\u001b[35m:f32[1,100]\u001b[39m. \u001b[34m\u001b[22m\u001b[1mlet\u001b[39m\u001b[22m\u001b[22m b\u001b[35m:f32[]\u001b[39m = reduce_sum[axes=(0, 1)] a \u001b[34m\u001b[22m\u001b[1min \u001b[39m\u001b[22m\u001b[22m(b,) }, 'in_shardings': (UnspecifiedValue,), 'out_shardings': (UnspecifiedValue,), 'resource_env': None, 'donated_invars': (False,), 'name': '_reduce_sum', 'keep_unused': False, 'inline': True}, effects=set(), source_info=SourceInfo(traceback=<jaxlib.xla_extension.Traceback object at 0x0000021C185EC5F0>, name_stack=NameStack(stack=(Transform(name='jvp'),))))\n",
      "Traced<ConcreteArray(7.122008323669434, dtype=float32)>with<JVPTrace(level=2/0)> with\n",
      "  primal = Array(7.1220083, dtype=float32)\n",
      "  tangent = Traced<ShapedArray(float32[])>with<JaxprTrace(level=1/0)> with\n",
      "    pval = (ShapedArray(float32[]), None)\n",
      "    recipe = JaxprEqnRecipe(eqn_id=<object object at 0x0000021C1C872D30>, in_tracers=(Traced<ShapedArray(float32[1,100]):JaxprTrace(level=1/0)>,), out_tracer_refs=[<weakref at 0x0000021C1ED62980; to 'JaxprTracer' at 0x0000021C1ED62BB0>], out_avals=[ShapedArray(float32[])], primitive=pjit, params={'jaxpr': { \u001b[34m\u001b[22m\u001b[1mlambda \u001b[39m\u001b[22m\u001b[22m; a\u001b[35m:f32[1,100]\u001b[39m. \u001b[34m\u001b[22m\u001b[1mlet\u001b[39m\u001b[22m\u001b[22m b\u001b[35m:f32[]\u001b[39m = reduce_sum[axes=(0, 1)] a \u001b[34m\u001b[22m\u001b[1min \u001b[39m\u001b[22m\u001b[22m(b,) }, 'in_shardings': (UnspecifiedValue,), 'out_shardings': (UnspecifiedValue,), 'resource_env': None, 'donated_invars': (False,), 'name': '_reduce_sum', 'keep_unused': False, 'inline': True}, effects=set(), source_info=SourceInfo(traceback=<jaxlib.xla_extension.Traceback object at 0x0000021C185EADE0>, name_stack=NameStack(stack=(Transform(name='jvp'),))))\n",
      "Traced<ConcreteArray(7.040123462677002, dtype=float32)>with<JVPTrace(level=2/0)> with\n",
      "  primal = Array(7.0401235, dtype=float32)\n",
      "  tangent = Traced<ShapedArray(float32[])>with<JaxprTrace(level=1/0)> with\n",
      "    pval = (ShapedArray(float32[]), None)\n",
      "    recipe = JaxprEqnRecipe(eqn_id=<object object at 0x0000021C1C872E00>, in_tracers=(Traced<ShapedArray(float32[1,100]):JaxprTrace(level=1/0)>,), out_tracer_refs=[<weakref at 0x0000021C1ED62CF0; to 'JaxprTracer' at 0x0000021C1ED62520>], out_avals=[ShapedArray(float32[])], primitive=pjit, params={'jaxpr': { \u001b[34m\u001b[22m\u001b[1mlambda \u001b[39m\u001b[22m\u001b[22m; a\u001b[35m:f32[1,100]\u001b[39m. \u001b[34m\u001b[22m\u001b[1mlet\u001b[39m\u001b[22m\u001b[22m b\u001b[35m:f32[]\u001b[39m = reduce_sum[axes=(0, 1)] a \u001b[34m\u001b[22m\u001b[1min \u001b[39m\u001b[22m\u001b[22m(b,) }, 'in_shardings': (UnspecifiedValue,), 'out_shardings': (UnspecifiedValue,), 'resource_env': None, 'donated_invars': (False,), 'name': '_reduce_sum', 'keep_unused': False, 'inline': True}, effects=set(), source_info=SourceInfo(traceback=<jaxlib.xla_extension.Traceback object at 0x0000021C185EA750>, name_stack=NameStack(stack=(Transform(name='jvp'),))))\n",
      "Traced<ConcreteArray(6.961285591125488, dtype=float32)>with<JVPTrace(level=2/0)> with\n",
      "  primal = Array(6.9612856, dtype=float32)\n",
      "  tangent = Traced<ShapedArray(float32[])>with<JaxprTrace(level=1/0)> with\n",
      "    pval = (ShapedArray(float32[]), None)\n",
      "    recipe = JaxprEqnRecipe(eqn_id=<object object at 0x0000021C1C872DB0>, in_tracers=(Traced<ShapedArray(float32[1,100]):JaxprTrace(level=1/0)>,), out_tracer_refs=[<weakref at 0x0000021C1ED612B0; to 'JaxprTracer' at 0x0000021C1ED62F20>], out_avals=[ShapedArray(float32[])], primitive=pjit, params={'jaxpr': { \u001b[34m\u001b[22m\u001b[1mlambda \u001b[39m\u001b[22m\u001b[22m; a\u001b[35m:f32[1,100]\u001b[39m. \u001b[34m\u001b[22m\u001b[1mlet\u001b[39m\u001b[22m\u001b[22m b\u001b[35m:f32[]\u001b[39m = reduce_sum[axes=(0, 1)] a \u001b[34m\u001b[22m\u001b[1min \u001b[39m\u001b[22m\u001b[22m(b,) }, 'in_shardings': (UnspecifiedValue,), 'out_shardings': (UnspecifiedValue,), 'resource_env': None, 'donated_invars': (False,), 'name': '_reduce_sum', 'keep_unused': False, 'inline': True}, effects=set(), source_info=SourceInfo(traceback=<jaxlib.xla_extension.Traceback object at 0x0000021C185EF1B0>, name_stack=NameStack(stack=(Transform(name='jvp'),))))\n",
      "Traced<ConcreteArray(6.885328769683838, dtype=float32)>with<JVPTrace(level=2/0)> with\n",
      "  primal = Array(6.885329, dtype=float32)\n",
      "  tangent = Traced<ShapedArray(float32[])>with<JaxprTrace(level=1/0)> with\n",
      "    pval = (ShapedArray(float32[]), None)\n",
      "    recipe = JaxprEqnRecipe(eqn_id=<object object at 0x0000021C1C872CD0>, in_tracers=(Traced<ShapedArray(float32[1,100]):JaxprTrace(level=1/0)>,), out_tracer_refs=[<weakref at 0x0000021C1ED62750; to 'JaxprTracer' at 0x0000021C1ED61C10>], out_avals=[ShapedArray(float32[])], primitive=pjit, params={'jaxpr': { \u001b[34m\u001b[22m\u001b[1mlambda \u001b[39m\u001b[22m\u001b[22m; a\u001b[35m:f32[1,100]\u001b[39m. \u001b[34m\u001b[22m\u001b[1mlet\u001b[39m\u001b[22m\u001b[22m b\u001b[35m:f32[]\u001b[39m = reduce_sum[axes=(0, 1)] a \u001b[34m\u001b[22m\u001b[1min \u001b[39m\u001b[22m\u001b[22m(b,) }, 'in_shardings': (UnspecifiedValue,), 'out_shardings': (UnspecifiedValue,), 'resource_env': None, 'donated_invars': (False,), 'name': '_reduce_sum', 'keep_unused': False, 'inline': True}, effects=set(), source_info=SourceInfo(traceback=<jaxlib.xla_extension.Traceback object at 0x0000021C185EABB0>, name_stack=NameStack(stack=(Transform(name='jvp'),))))\n",
      "Traced<ConcreteArray(6.812098979949951, dtype=float32)>with<JVPTrace(level=2/0)> with\n",
      "  primal = Array(6.812099, dtype=float32)\n",
      "  tangent = Traced<ShapedArray(float32[])>with<JaxprTrace(level=1/0)> with\n",
      "    pval = (ShapedArray(float32[]), None)\n",
      "    recipe = JaxprEqnRecipe(eqn_id=<object object at 0x0000021C1C872CF0>, in_tracers=(Traced<ShapedArray(float32[1,100]):JaxprTrace(level=1/0)>,), out_tracer_refs=[<weakref at 0x0000021C1ED63290; to 'JaxprTracer' at 0x0000021C1ED62CA0>], out_avals=[ShapedArray(float32[])], primitive=pjit, params={'jaxpr': { \u001b[34m\u001b[22m\u001b[1mlambda \u001b[39m\u001b[22m\u001b[22m; a\u001b[35m:f32[1,100]\u001b[39m. \u001b[34m\u001b[22m\u001b[1mlet\u001b[39m\u001b[22m\u001b[22m b\u001b[35m:f32[]\u001b[39m = reduce_sum[axes=(0, 1)] a \u001b[34m\u001b[22m\u001b[1min \u001b[39m\u001b[22m\u001b[22m(b,) }, 'in_shardings': (UnspecifiedValue,), 'out_shardings': (UnspecifiedValue,), 'resource_env': None, 'donated_invars': (False,), 'name': '_reduce_sum', 'keep_unused': False, 'inline': True}, effects=set(), source_info=SourceInfo(traceback=<jaxlib.xla_extension.Traceback object at 0x0000021C185EC3C0>, name_stack=NameStack(stack=(Transform(name='jvp'),))))\n",
      "Traced<ConcreteArray(6.741451740264893, dtype=float32)>with<JVPTrace(level=2/0)> with\n",
      "  primal = Array(6.7414517, dtype=float32)\n",
      "  tangent = Traced<ShapedArray(float32[])>with<JaxprTrace(level=1/0)> with\n",
      "    pval = (ShapedArray(float32[]), None)\n",
      "    recipe = JaxprEqnRecipe(eqn_id=<object object at 0x0000021C1C872E10>, in_tracers=(Traced<ShapedArray(float32[1,100]):JaxprTrace(level=1/0)>,), out_tracer_refs=[<weakref at 0x0000021C1ED629D0; to 'JaxprTracer' at 0x0000021C1ED62E80>], out_avals=[ShapedArray(float32[])], primitive=pjit, params={'jaxpr': { \u001b[34m\u001b[22m\u001b[1mlambda \u001b[39m\u001b[22m\u001b[22m; a\u001b[35m:f32[1,100]\u001b[39m. \u001b[34m\u001b[22m\u001b[1mlet\u001b[39m\u001b[22m\u001b[22m b\u001b[35m:f32[]\u001b[39m = reduce_sum[axes=(0, 1)] a \u001b[34m\u001b[22m\u001b[1min \u001b[39m\u001b[22m\u001b[22m(b,) }, 'in_shardings': (UnspecifiedValue,), 'out_shardings': (UnspecifiedValue,), 'resource_env': None, 'donated_invars': (False,), 'name': '_reduce_sum', 'keep_unused': False, 'inline': True}, effects=set(), source_info=SourceInfo(traceback=<jaxlib.xla_extension.Traceback object at 0x0000021C185F0560>, name_stack=NameStack(stack=(Transform(name='jvp'),))))\n",
      "Traced<ConcreteArray(6.673253059387207, dtype=float32)>with<JVPTrace(level=2/0)> with\n",
      "  primal = Array(6.673253, dtype=float32)\n",
      "  tangent = Traced<ShapedArray(float32[])>with<JaxprTrace(level=1/0)> with\n",
      "    pval = (ShapedArray(float32[]), None)\n",
      "    recipe = JaxprEqnRecipe(eqn_id=<object object at 0x0000021C1C872E60>, in_tracers=(Traced<ShapedArray(float32[1,100]):JaxprTrace(level=1/0)>,), out_tracer_refs=[<weakref at 0x0000021C1ED63060; to 'JaxprTracer' at 0x0000021C1ED61EE0>], out_avals=[ShapedArray(float32[])], primitive=pjit, params={'jaxpr': { \u001b[34m\u001b[22m\u001b[1mlambda \u001b[39m\u001b[22m\u001b[22m; a\u001b[35m:f32[1,100]\u001b[39m. \u001b[34m\u001b[22m\u001b[1mlet\u001b[39m\u001b[22m\u001b[22m b\u001b[35m:f32[]\u001b[39m = reduce_sum[axes=(0, 1)] a \u001b[34m\u001b[22m\u001b[1min \u001b[39m\u001b[22m\u001b[22m(b,) }, 'in_shardings': (UnspecifiedValue,), 'out_shardings': (UnspecifiedValue,), 'resource_env': None, 'donated_invars': (False,), 'name': '_reduce_sum', 'keep_unused': False, 'inline': True}, effects=set(), source_info=SourceInfo(traceback=<jaxlib.xla_extension.Traceback object at 0x0000021C185EDE00>, name_stack=NameStack(stack=(Transform(name='jvp'),))))\n",
      "Traced<ConcreteArray(6.607372760772705, dtype=float32)>with<JVPTrace(level=2/0)> with\n",
      "  primal = Array(6.6073728, dtype=float32)\n",
      "  tangent = Traced<ShapedArray(float32[])>with<JaxprTrace(level=1/0)> with\n",
      "    pval = (ShapedArray(float32[]), None)\n",
      "    recipe = JaxprEqnRecipe(eqn_id=<object object at 0x0000021C1C872E50>, in_tracers=(Traced<ShapedArray(float32[1,100]):JaxprTrace(level=1/0)>,), out_tracer_refs=[<weakref at 0x0000021C1ED631A0; to 'JaxprTracer' at 0x0000021C1ED633D0>], out_avals=[ShapedArray(float32[])], primitive=pjit, params={'jaxpr': { \u001b[34m\u001b[22m\u001b[1mlambda \u001b[39m\u001b[22m\u001b[22m; a\u001b[35m:f32[1,100]\u001b[39m. \u001b[34m\u001b[22m\u001b[1mlet\u001b[39m\u001b[22m\u001b[22m b\u001b[35m:f32[]\u001b[39m = reduce_sum[axes=(0, 1)] a \u001b[34m\u001b[22m\u001b[1min \u001b[39m\u001b[22m\u001b[22m(b,) }, 'in_shardings': (UnspecifiedValue,), 'out_shardings': (UnspecifiedValue,), 'resource_env': None, 'donated_invars': (False,), 'name': '_reduce_sum', 'keep_unused': False, 'inline': True}, effects=set(), source_info=SourceInfo(traceback=<jaxlib.xla_extension.Traceback object at 0x0000021C185EE490>, name_stack=NameStack(stack=(Transform(name='jvp'),))))\n",
      "Traced<ConcreteArray(6.543694972991943, dtype=float32)>with<JVPTrace(level=2/0)> with\n",
      "  primal = Array(6.543695, dtype=float32)\n",
      "  tangent = Traced<ShapedArray(float32[])>with<JaxprTrace(level=1/0)> with\n",
      "    pval = (ShapedArray(float32[]), None)\n",
      "    recipe = JaxprEqnRecipe(eqn_id=<object object at 0x0000021C1C872D60>, in_tracers=(Traced<ShapedArray(float32[1,100]):JaxprTrace(level=1/0)>,), out_tracer_refs=[<weakref at 0x0000021C1ED63380; to 'JaxprTracer' at 0x0000021C1ED63510>], out_avals=[ShapedArray(float32[])], primitive=pjit, params={'jaxpr': { \u001b[34m\u001b[22m\u001b[1mlambda \u001b[39m\u001b[22m\u001b[22m; a\u001b[35m:f32[1,100]\u001b[39m. \u001b[34m\u001b[22m\u001b[1mlet\u001b[39m\u001b[22m\u001b[22m b\u001b[35m:f32[]\u001b[39m = reduce_sum[axes=(0, 1)] a \u001b[34m\u001b[22m\u001b[1min \u001b[39m\u001b[22m\u001b[22m(b,) }, 'in_shardings': (UnspecifiedValue,), 'out_shardings': (UnspecifiedValue,), 'resource_env': None, 'donated_invars': (False,), 'name': '_reduce_sum', 'keep_unused': False, 'inline': True}, effects=set(), source_info=SourceInfo(traceback=<jaxlib.xla_extension.Traceback object at 0x0000021C185EA980>, name_stack=NameStack(stack=(Transform(name='jvp'),))))\n",
      "Traced<ConcreteArray(6.482105255126953, dtype=float32)>with<JVPTrace(level=2/0)> with\n",
      "  primal = Array(6.4821053, dtype=float32)\n",
      "  tangent = Traced<ShapedArray(float32[])>with<JaxprTrace(level=1/0)> with\n",
      "    pval = (ShapedArray(float32[]), None)\n",
      "    recipe = JaxprEqnRecipe(eqn_id=<object object at 0x0000021C1C872CE0>, in_tracers=(Traced<ShapedArray(float32[1,100]):JaxprTrace(level=1/0)>,), out_tracer_refs=[<weakref at 0x0000021C1ED634C0; to 'JaxprTracer' at 0x0000021C1ED63650>], out_avals=[ShapedArray(float32[])], primitive=pjit, params={'jaxpr': { \u001b[34m\u001b[22m\u001b[1mlambda \u001b[39m\u001b[22m\u001b[22m; a\u001b[35m:f32[1,100]\u001b[39m. \u001b[34m\u001b[22m\u001b[1mlet\u001b[39m\u001b[22m\u001b[22m b\u001b[35m:f32[]\u001b[39m = reduce_sum[axes=(0, 1)] a \u001b[34m\u001b[22m\u001b[1min \u001b[39m\u001b[22m\u001b[22m(b,) }, 'in_shardings': (UnspecifiedValue,), 'out_shardings': (UnspecifiedValue,), 'resource_env': None, 'donated_invars': (False,), 'name': '_reduce_sum', 'keep_unused': False, 'inline': True}, effects=set(), source_info=SourceInfo(traceback=<jaxlib.xla_extension.Traceback object at 0x0000021C185ED0E0>, name_stack=NameStack(stack=(Transform(name='jvp'),))))\n"
     ]
    },
    {
     "name": "stderr",
     "output_type": "stream",
     "text": [
      "BokehDeprecationWarning: 'circle() method with size value' was deprecated in Bokeh 3.4.0 and will be removed, use 'scatter(size=...) instead' instead.\n"
     ]
    },
    {
     "data": {
      "application/vnd.jupyter.widget-view+json": {
       "model_id": "48b5f4349b794d00982cd1558b6e9ab7",
       "version_major": 2,
       "version_minor": 0
      },
      "text/plain": [
       "BokehModel(combine_events=True, render_bundle={'docs_json': {'d80e3516-2929-4a5f-912a-4a385e7925f3': {'version…"
      ]
     },
     "execution_count": 11,
     "metadata": {},
     "output_type": "execute_result"
    }
   ],
   "source": [
    "# Update loop\n",
    "for i in range(n_epochs):\n",
    "    \n",
    "    ######################\n",
    "    # YOUR CODE GOES HERE\n",
    "    ######################\n",
    "    \n",
    "    ######################\n",
    "    # Solution \n",
    "    gradients = grad_loss_function(x_jax, y_jax, weights, bias)\n",
    "    weights = weights - eta * gradients[0]\n",
    "    bias = bias - eta * gradients[1]\n",
    "    ######################\n",
    "    weights_history = weights_history.at[i + 1].set(weights[0])\n",
    "    bias_history = bias_history.at[i + 1].set(bias[0])\n",
    "    \n",
    "    if (verbose):\n",
    "        print('%2d. error = %f, weights = %f, %f, %f' % (i, np.sum(np.abs(error)) / n_observations, bias[0, 0], weights[0, 0], weights[0, 1]))\n",
    "plot = center_plot(\n",
    "    scatter_boundary(\n",
    "        np.array(x_inputs), \n",
    "        np.array(y_class), \n",
    "        np.array(weights_history), \n",
    "        np.array(bias_history), \n",
    "        i + 1)\n",
    "    )\n",
    "plot"
   ]
  },
  {
   "cell_type": "markdown",
   "metadata": {
    "tags": []
   },
   "source": [
    "## Multi-layer networks\n",
    "\n",
    "In the following, we define the overall architecture of the exercise to fill. The goal is to define a more advanced problem \n",
    "\n",
    "### 2-layer XOR problem\n",
    "\n",
    "In most cases, classification problems are far from being linear. Therefore, we need more advanced methods to be able to compute non-linear class boundaries. The advantage of neural networks is that the same principle can be applied in a *layer-wise* fashion. This allows to further discriminate the space in sub-regions (as seen in the course). We will try to implement the 2-layer *perceptron* that can provide a solution to the infamous XOR problem. The idea is now to have the output of the first neurons to be connected to a set of other neurons. Therefore, if we take back our previous formulation, we have the same output for the first neuron(s) $y$, that we will now term as $y^{(1)}$. Then, we feed these outputs to a second layer of neurons, which gives\n",
    "\n",
    "\n",
    "$$\n",
    "\\begin{equation}\n",
    "y^{(2)}=\\sigma\\left(\\sum_{i = 1}^{n}w_{i}.y^{(1)}_{i} + b\\right)\n",
    "\\end{equation}\n",
    "$$  \n",
    "\n",
    "Finally, we will rely on the same loss $\\mathcal{L_{D}}$ as in the previous exercise, but the outputs used are $y^{(2)}$ instead of $y$. As in the previous case, we now need to compute the derivatives of the weights and biases for several layers . However, you should see that some form of generalization might be possible for any number of layer.  "
   ]
  },
  {
   "cell_type": "markdown",
   "metadata": {},
   "source": [
    "***\n",
    "\n",
    "<div class=\"alert alert-success\" markdown=\"1\" style=\"color:white; background-color: #192841; border-color: #779ecb\">\n",
    "\n",
    "> ### Exercise (course)\n",
    ">   1. Perform the derivatives for the last layer specifically\n",
    ">   2. Define a generalized derivative for any previous layer\n",
    "\n",
    "</div>\n",
    "\n",
    "***"
   ]
  },
  {
   "cell_type": "markdown",
   "metadata": {},
   "source": [
    "We can construct the prototypical set of XOR values by using the following code (note that this is the most simple case, but still this is typically a problem that cannot be solved by a _linear classifier_"
   ]
  },
  {
   "cell_type": "code",
   "execution_count": 12,
   "metadata": {},
   "outputs": [
    {
     "name": "stderr",
     "output_type": "stream",
     "text": [
      "BokehDeprecationWarning: 'circle() method with size value' was deprecated in Bokeh 3.4.0 and will be removed, use 'scatter(size=...) instead' instead.\n"
     ]
    },
    {
     "data": {
      "application/vnd.jupyter.widget-view+json": {
       "model_id": "f581a4b118d5436b8032e2d6a71f9c9f",
       "version_major": 2,
       "version_minor": 0
      },
      "text/plain": [
       "BokehModel(combine_events=True, render_bundle={'docs_json': {'45418033-830d-4ee9-9e5c-54ffd9e72182': {'version…"
      ]
     },
     "execution_count": 12,
     "metadata": {},
     "output_type": "execute_result"
    }
   ],
   "source": [
    "import numpy as np\n",
    "from cml.plot import center_plot, scatter_classes\n",
    "# Input patterns\n",
    "n_augment = 1000\n",
    "x_inputs = np.array([[-1, -1],[-1,  1],[1, -1],[1,  1]])\n",
    "y_class = np.array([0, 1, 1, 0])\n",
    "augmented_x = []\n",
    "augmented_y = []\n",
    "for x, y in zip(x_inputs, y_class):\n",
    "    augmented_x.append(x + (np.random.randn(n_augment, 2) * 0.2))\n",
    "    augmented_y.append(np.repeat(y, n_augment))\n",
    "augmented_x = np.concatenate(augmented_x)\n",
    "augmented_y = np.concatenate(augmented_y)\n",
    "# Corresponding classes\n",
    "# Initialize based on their sizes\n",
    "n_inputs = x_inputs.shape[0]\n",
    "n_outputs = 1\n",
    "# Plot the XOR problem\n",
    "plot = center_plot(scatter_classes(augmented_x, augmented_y, title = \"XOR classification\"))\n",
    "plot"
   ]
  },
  {
   "cell_type": "markdown",
   "metadata": {
    "tags": []
   },
   "source": [
    "## Observing the problem interactively"
   ]
  },
  {
   "cell_type": "code",
   "execution_count": 13,
   "metadata": {},
   "outputs": [
    {
     "name": "stdout",
     "output_type": "stream",
     "text": [
      "Creating the object\n"
     ]
    },
    {
     "name": "stderr",
     "output_type": "stream",
     "text": [
      "BokehDeprecationWarning: 'circle() method with size value' was deprecated in Bokeh 3.4.0 and will be removed, use 'scatter(size=...) instead' instead.\n"
     ]
    },
    {
     "data": {
      "application/vnd.jupyter.widget-view+json": {
       "model_id": "942755e4c5694ba690c09aca78c018b1",
       "version_major": 2,
       "version_minor": 0
      },
      "text/plain": [
       "BokehModel(combine_events=True, render_bundle={'docs_json': {'e225693a-9748-412f-ad51-6f2c3aec0c00': {'version…"
      ]
     },
     "execution_count": 13,
     "metadata": {},
     "output_type": "execute_result"
    }
   ],
   "source": [
    "from cml.tasks import ClassificationLinear, ClassificationXOR\n",
    "explorer = ClassificationXOR()\n",
    "explorer.render()"
   ]
  },
  {
   "cell_type": "markdown",
   "metadata": {},
   "source": [
    "## Solving the problem with the `scikit-learn` library\n",
    "\n",
    "As a side note, and as discussed in the previous course, there is obviously a lot of libraries that can perform the training of such networks for you directly, without understanding what is exactly going on behind the scene. A quite extensive library is `scikit-learn`, which contains already coded models and learning procedure, that will allow us to _learn_ the parameters of this unknown function.\n",
    "\n",
    "Here we will use a `MLPClassifier` model to perfom classification on standardized features that we rescale through the `LinearRegression` and that this polynomial should be of degree 2. "
   ]
  },
  {
   "cell_type": "code",
   "execution_count": 14,
   "metadata": {},
   "outputs": [],
   "source": [
    "from sklearn.neural_network import MLPClassifier\n",
    "from sklearn.preprocessing import StandardScaler\n",
    "from sklearn.pipeline import make_pipeline\n",
    "# Create the MLP classifier\n",
    "classifier = MLPClassifier(alpha=1, max_iter=1000)\n",
    "# Standardize the input features\n",
    "clf = make_pipeline(StandardScaler(), classifier)"
   ]
  },
  {
   "cell_type": "markdown",
   "metadata": {},
   "source": [
    "Now based on this model definition, training it can be performed with a single line of code"
   ]
  },
  {
   "cell_type": "code",
   "execution_count": 15,
   "metadata": {},
   "outputs": [],
   "source": [
    "from cml.data import xor_separation\n",
    "# Generate a XOR dataset\n",
    "x_inputs, y_classes = xor_separation(500, 0.1)\n",
    "# Train the MLP model\n",
    "clf.fit(x_inputs, y_classes);"
   ]
  },
  {
   "cell_type": "markdown",
   "metadata": {
    "tags": []
   },
   "source": [
    "## Multi-layer implementation\n",
    "\n",
    "In this exercise, we will implement the XOR classification resolution using NumPy and JAX. This classification problem cannot be solved with a simple linear classifier. Hence, we will need to use at least a 2-layer network. The minimal set of variables that will be used by your code should be the following.\n",
    "\n",
    "```Python\n",
    "x_inputs          # 2 x n matrix of random points\n",
    "y_class           # classes of the patterns \n",
    "n_hidden          # Number of hidden units\n",
    "eta               # Learning rate parameter\n",
    "momentum          # Momentum parameter (bonus)\n",
    "weights1          # 1st layer weights\n",
    "weights2          # 2nd layer weights\n",
    "mse_limit         # Sum-squared error limit\n",
    "```"
   ]
  },
  {
   "cell_type": "code",
   "execution_count": 16,
   "metadata": {},
   "outputs": [],
   "source": [
    "# Number of hidden units\n",
    "n_hidden = 2\n",
    "# Learning rate parameter\n",
    "eta = 0.005\n",
    "# Momentum parameter\n",
    "momentum = 0.1\n",
    "# Sum-squared error limit\n",
    "mse_limit = 0.002"
   ]
  },
  {
   "cell_type": "markdown",
   "metadata": {
    "tags": []
   },
   "source": [
    "## Exercise 1 - 2-layers XOR classification\n",
    "\n",
    "<div class=\"alert alert-success\" markdown=\"1\" style=\"color:white; background-color: #013220; border-color: #03C03C\">\n",
    "\n",
    "> To complete this exercise, you will need to have a basic understanding of NumPy and JAX. You can use the resources provided in the previous exercises to learn more about these libraries.\n",
    "\n",
    "We help you out by first defining the XOR classification problem to solve (and outlining some basic properties)\n",
    "\n",
    "</div>"
   ]
  },
  {
   "cell_type": "code",
   "execution_count": 17,
   "metadata": {},
   "outputs": [
    {
     "data": {
      "image/png": "[encoded data removed]",
      "text/plain": [
       "<Figure size 1000x1000 with 1 Axes>"
      ]
     },
     "metadata": {},
     "output_type": "display_data"
    }
   ],
   "source": [
    "from cml.data import xor_separation\n",
    "# Definition of our data properties\n",
    "n_observations = 500\n",
    "noise_factor = 0.1\n",
    "# Properties of our problem\n",
    "n_input = 2\n",
    "n_output = 1\n",
    "# Generate a XOR dataset\n",
    "x_inputs, y_classes = xor_separation(n_observations, noise_factor)\n",
    "\n",
    "# plot\n",
    "fig, ax = plt.subplots(1, 1, figsize=(10, 10))\n",
    "ax.scatter(x_inputs[y_classes == 0, 0], x_inputs[y_classes == 0, 1], color='red', label='Class 0')\n",
    "ax.scatter(x_inputs[y_classes == 1, 0], x_inputs[y_classes == 1, 1], color='blue', label='Class 1')\n",
    "ax.set_xlabel('x1')\n",
    "ax.set_ylabel('x2')\n",
    "ax.set_title('XOR problem')\n",
    "plt.legend()\n",
    "plt.show()\n"
   ]
  },
  {
   "cell_type": "markdown",
   "metadata": {},
   "source": [
    "We also show some potential implementation of the **initialization scheme**. Note that you can later try to replace this naive implementation by some more refined functions"
   ]
  },
  {
   "cell_type": "code",
   "execution_count": 18,
   "metadata": {},
   "outputs": [],
   "source": [
    "def initialization(n_input, n_hidden, n_output, weight_scale=0.01):\n",
    "    weights1 = np.random.randn(n_input, n_hidden) * weight_scale\n",
    "    weights2 = np.random.randn(n_hidden, n_output) * weight_scale\n",
    "    bias1 = np.random.randn(n_hidden, 1) * weight_scale\n",
    "    bias2 = np.random.randn(n_output, 1) * weight_scale\n",
    "    return weights1, weights2, bias1, bias2\n",
    "\n",
    "weights1, weights2, bias1, bias2 = initialization(n_input, n_hidden, n_output)"
   ]
  },
  {
   "cell_type": "markdown",
   "metadata": {},
   "source": [
    "***\n",
    "\n",
    "<div class=\"alert alert-success\" markdown=\"1\" style=\"color:white; background-color: #013220; border-color: #03C03C\">\n",
    "\n",
    "> ### Question 1.1 - Implement 2-layer XOR classification with NumPy\n",
    "\n",
    "> 1. Update the forward propagation and error computation\n",
    "> 2. Update the back-propagation part to learn the weights of both layers.\n",
    "> 3. Run the learning and check your network results\n",
    "  \n",
    "*For optional questions, please look at the end of this exercise's code boxes for more information*\n",
    "\n",
    "</div>\n",
    "\n",
    "***"
   ]
  },
  {
   "cell_type": "code",
   "execution_count": 19,
   "metadata": {},
   "outputs": [
    {
     "name": "stdout",
     "output_type": "stream",
     "text": [
      "Epoch 0, Loss: 0.25693178176879883\n",
      "Epoch 100, Loss: 0.24999205768108368\n",
      "Epoch 200, Loss: 0.24999003112316132\n",
      "Epoch 300, Loss: 0.24998731911182404\n",
      "Epoch 400, Loss: 0.24998347461223602\n",
      "Epoch 500, Loss: 0.24997767806053162\n",
      "Epoch 600, Loss: 0.24996817111968994\n",
      "Epoch 700, Loss: 0.24995079636573792\n",
      "Epoch 800, Loss: 0.2499137669801712\n",
      "Epoch 900, Loss: 0.24981193244457245\n"
     ]
    },
    {
     "data": {
      "image/png": "[encoded data removed]",
      "text/plain": [
       "<Figure size 1000x1000 with 1 Axes>"
      ]
     },
     "metadata": {},
     "output_type": "display_data"
    }
   ],
   "source": [
    "def sigmoid(z):\n",
    "    return 1 / (1 + np.exp(-z))\n",
    "\n",
    "def mean_squared_error(y_true, y_pred):\n",
    "    return np.mean((y_true - y_pred) ** 2)\n",
    "\n",
    "def forward(X, weights1, bias1, weights2, bias2):\n",
    "    z1 = np.dot(weights1.T, X) + bias1\n",
    "    a1 = sigmoid(z1)\n",
    "    \n",
    "    z2 = np.dot(weights2.T, a1) + bias2\n",
    "    a2 = sigmoid(z2)\n",
    "    \n",
    "    return a1, a2\n",
    "\n",
    "def backward(X, y, a1, a2, weights1, weights2, bias1, bias2, momentum, prev_dW1, prev_dW2, prev_db1, prev_db2, eta):\n",
    "    dz2 = (a2 - y) * a2 * (1 - a2)\n",
    "    dW2 = np.dot(a1, dz2.T)\n",
    "    db2 = np.sum(dz2, axis=1, keepdims=True)\n",
    "    \n",
    "    dz1 = np.dot(weights2, dz2) * a1 * (1 - a1)\n",
    "    dW1 = np.dot(X, dz1.T)\n",
    "    db1 = np.sum(dz1, axis=1, keepdims=True)\n",
    "    \n",
    "    weights2_update = momentum * prev_dW2 - eta * dW2\n",
    "    weights1_update = momentum * prev_dW1 - eta * dW1\n",
    "    bias2_update = momentum * prev_db2 - eta * db2\n",
    "    bias1_update = momentum * prev_db1 - eta * db1\n",
    "\n",
    "    weights2 += weights2_update\n",
    "    weights1 += weights1_update\n",
    "    bias2 += bias2_update\n",
    "    bias1 += bias1_update\n",
    "\n",
    "    return weights1, weights2, bias1, bias2, weights1_update, weights2_update, bias1_update, bias2_update\n",
    "\n",
    "def train(X, y, weights1, weights2, bias1, bias2, n_hidden, n_input, n_output, w, momentum=0.1, mse_limit=0.002, eta=0.005, epochs=1000):\n",
    "\n",
    "    loss_history = []\n",
    "\n",
    "    # weights1 = np.random.randn(n_input, n_hidden) * 0.01\n",
    "    # weights2 = np.random.randn(n_hidden, n_output) * 0.01\n",
    "    # bias1 = np.random.randn(n_hidden, 1) * 0.01\n",
    "    # bias2 = np.random.randn(n_output, 1) * 0.01\n",
    "    weights1, weights2, bias1, bias2 = initialization(n_input, n_hidden, n_output, w)\n",
    "    \n",
    "    prev_dW1 = np.zeros_like(weights1)\n",
    "    prev_dW2 = np.zeros_like(weights2)\n",
    "    prev_db1 = np.zeros_like(bias1)\n",
    "    prev_db2 = np.zeros_like(bias2)\n",
    "\n",
    "    for epoch in range(epochs):\n",
    "\n",
    "        a1, a2 = forward(X, weights1, bias1, weights2, bias2)\n",
    "        \n",
    "        loss = mean_squared_error(y, a2)\n",
    "        loss_history.append(loss)\n",
    "\n",
    "        if loss < mse_limit:\n",
    "            print(f'Early stopping at epoch {epoch} with loss: {loss}')\n",
    "            break\n",
    "\n",
    "        weights1, weights2, bias1, bias2, prev_dW1, prev_dW2, prev_db1, prev_db2 = backward(\n",
    "            X, y, a1, a2, weights1, weights2, bias1, bias2, momentum, prev_dW1, prev_dW2, prev_db1, prev_db2, eta\n",
    "        )\n",
    "\n",
    "        if epoch % 100 == 0:\n",
    "            print(f'Epoch {epoch}, Loss: {loss}')\n",
    "    \n",
    "    return weights1, weights2, bias1, bias2, loss_history\n",
    "\n",
    "loss_history = []\n",
    "weights1, weights2, bias1, bias2, loss_history = train(x_inputs.T, y_classes, weights1, weights2, bias1, bias2, n_hidden, n_input, n_output, 0.1, momentum, mse_limit, eta, 1000)\n",
    "\n",
    "fig, ax = plt.subplots(1, 1, figsize=(10, 10))\n",
    "ax.plot(loss_history)\n",
    "ax.set_xlabel('Epoch')\n",
    "ax.set_ylabel('MSE')\n",
    "ax.set_title('Training loss')\n",
    "plt.show()\n"
   ]
  },
  {
   "cell_type": "markdown",
   "metadata": {},
   "source": [
    "***\n",
    "\n",
    "<div class=\"alert alert-success\" markdown=\"1\" style=\"color:white; background-color: #013220; border-color: #03C03C\">\n",
    "\n",
    "> ### Question 1.2 - Implement XOR classification with JAX\n",
    "\n",
    "> 1. Perform the same implementation as previously with JAX\n",
    "> 2. Implement gradient descent to optimize the weights and bias.\n",
    "\n",
    "</div>\n",
    "\n",
    "***"
   ]
  },
  {
   "cell_type": "code",
   "execution_count": 20,
   "metadata": {},
   "outputs": [
    {
     "name": "stdout",
     "output_type": "stream",
     "text": [
      "Epoch 0, Loss: 0.25056979060173035\n",
      "Epoch 100, Loss: 0.2504596412181854\n",
      "Epoch 200, Loss: 0.25037091970443726\n",
      "Epoch 300, Loss: 0.25029945373535156\n",
      "Epoch 400, Loss: 0.2502419352531433\n",
      "Epoch 500, Loss: 0.2501956522464752\n",
      "Epoch 600, Loss: 0.2501583993434906\n",
      "Epoch 700, Loss: 0.2501284182071686\n",
      "Epoch 800, Loss: 0.25010430812835693\n",
      "Epoch 900, Loss: 0.25008490681648254\n"
     ]
    },
    {
     "data": {
      "image/png": "[encoded data removed]",
      "text/plain": [
       "<Figure size 1000x1000 with 1 Axes>"
      ]
     },
     "metadata": {},
     "output_type": "display_data"
    }
   ],
   "source": [
    "import jax.numpy as jnp\n",
    "from jax import grad\n",
    "from jax import random\n",
    "\n",
    "def sigmoid(z):\n",
    "    return 1 / (1 + jnp.exp(-z))\n",
    "\n",
    "def mean_squared_error(y_true, y_pred):\n",
    "    return jnp.mean((y_true - y_pred) ** 2)\n",
    "\n",
    "def forward(X, weights1, bias1, weights2, bias2):\n",
    "    z1 = jnp.dot(weights1.T, X) + bias1\n",
    "    a1 = sigmoid(z1)\n",
    "    \n",
    "    z2 = jnp.dot(weights2.T, a1) + bias2\n",
    "    a2 = sigmoid(z2)\n",
    "    \n",
    "    return a1, a2\n",
    "\n",
    "def loss_fn(weights1, weights2, bias1, bias2, X, y):\n",
    "    _, a2 = forward(X, weights1, bias1, weights2, bias2)\n",
    "    return mean_squared_error(y, a2)\n",
    "\n",
    "def train(X, y, weights1, weights2, bias1, bias2, n_hidden, n_input, n_output, w, momentum=0.1, mse_limit=0.002, eta=0.005, epochs=1000):\n",
    "    loss_history = []\n",
    "\n",
    "    # weights1 = random.normal(key, (n_input, n_hidden)) * 0.01\n",
    "    # weights2 = random.normal(key, (n_hidden, n_output)) * 0.01\n",
    "    # bias1 = random.normal(key, (n_hidden, 1)) * 0.01\n",
    "    # bias2 = random.normal(key, (n_output, 1)) * 0.01\n",
    "    weights1, weights2, bias1, bias2 = initialization(n_input, n_hidden, n_output, w)\n",
    "    \n",
    "    prev_dW1 = jnp.zeros_like(weights1)\n",
    "    prev_dW2 = jnp.zeros_like(weights2)\n",
    "    prev_db1 = jnp.zeros_like(bias1)\n",
    "    prev_db2 = jnp.zeros_like(bias2)\n",
    "\n",
    "    loss_grad = grad(loss_fn, argnums=(0, 1, 2, 3))\n",
    "\n",
    "    for epoch in range(epochs):\n",
    "        gradients = loss_grad(weights1, weights2, bias1, bias2, X, y)\n",
    "        dW1, dW2, db1, db2 = gradients\n",
    "\n",
    "        weights2_update = momentum * prev_dW2 - eta * dW2\n",
    "        weights1_update = momentum * prev_dW1 - eta * dW1\n",
    "        bias2_update = momentum * prev_db2 - eta * db2\n",
    "        bias1_update = momentum * prev_db1 - eta * db1\n",
    "\n",
    "        weights2 += weights2_update\n",
    "        weights1 += weights1_update\n",
    "        bias2 += bias2_update\n",
    "        bias1 += bias1_update\n",
    "\n",
    "        prev_dW2 = weights2_update\n",
    "        prev_dW1 = weights1_update\n",
    "        prev_db2 = bias2_update\n",
    "        prev_db1 = bias1_update\n",
    "\n",
    "        loss = loss_fn(weights1, weights2, bias1, bias2, X, y)\n",
    "        loss_history.append(loss)\n",
    "\n",
    "        if loss < mse_limit:\n",
    "            print(f'Early stopping at epoch {epoch} with loss: {loss}')\n",
    "            break\n",
    "\n",
    "        if epoch % 100 == 0:\n",
    "            print(f'Epoch {epoch}, Loss: {loss}')\n",
    "    \n",
    "    return weights1, weights2, bias1, bias2, loss_history\n",
    "\n",
    "key = random.PRNGKey(42)\n",
    "\n",
    "x_inputs = jnp.asarray(x_inputs)\n",
    "y_classes = jnp.asarray(y_classes)\n",
    "\n",
    "weights1, weights2, bias1, bias2, loss_history = train(x_inputs.T, y_classes, weights1, weights2, bias1, bias2, n_hidden, n_input, n_output, 0.1, momentum, mse_limit, eta, 1000)\n",
    "\n",
    "fig, ax = plt.subplots(1, 1, figsize=(10, 10))\n",
    "ax.plot(loss_history)\n",
    "ax.set_xlabel('Epoch')\n",
    "ax.set_ylabel('MSE')\n",
    "ax.set_title('Training loss')\n",
    "plt.show()"
   ]
  },
  {
   "cell_type": "markdown",
   "metadata": {},
   "source": [
    "***\n",
    "\n",
    "<div class=\"alert alert-success\" markdown=\"1\" style=\"color:white; background-color: #013220; border-color: #03C03C\">\n",
    "\n",
    "> ### Question 1.3 - Understanding properties of our implementation\n",
    "\n",
    "> 4. Perform multiple re-runs of the learning procedure (re-launching with different initializations)\n",
    ">     1. What observations can you make on the learning process?\n",
    ">     2. What happens if you initialize all weights to zeros?\n",
    ">     3. Change your initialization and regularization scheme\n",
    "\n",
    "</div>\n",
    "\n",
    "***"
   ]
  },
  {
   "cell_type": "code",
   "execution_count": 21,
   "metadata": {},
   "outputs": [
    {
     "name": "stdout",
     "output_type": "stream",
     "text": [
      "Epoch 0, Loss: 0.25\n",
      "Epoch 100, Loss: 0.25\n",
      "Epoch 200, Loss: 0.25\n",
      "Epoch 300, Loss: 0.25\n",
      "Epoch 400, Loss: 0.25\n",
      "Epoch 500, Loss: 0.25\n",
      "Epoch 600, Loss: 0.25\n",
      "Epoch 700, Loss: 0.25\n",
      "Epoch 800, Loss: 0.25\n",
      "Epoch 900, Loss: 0.25\n",
      "Epoch 0, Loss: 0.2500001788139343\n",
      "Epoch 100, Loss: 0.25000011920928955\n",
      "Epoch 200, Loss: 0.25000011920928955\n",
      "Epoch 300, Loss: 0.25000008940696716\n",
      "Epoch 400, Loss: 0.2500000596046448\n",
      "Epoch 500, Loss: 0.2500000596046448\n",
      "Epoch 600, Loss: 0.2500000298023224\n",
      "Epoch 700, Loss: 0.2500000298023224\n",
      "Epoch 800, Loss: 0.25\n",
      "Epoch 900, Loss: 0.25\n",
      "Epoch 0, Loss: 0.25052541494369507\n",
      "Epoch 100, Loss: 0.25042229890823364\n",
      "Epoch 200, Loss: 0.25033921003341675\n",
      "Epoch 300, Loss: 0.25027233362197876\n",
      "Epoch 400, Loss: 0.2502185106277466\n",
      "Epoch 500, Loss: 0.2501751780509949\n",
      "Epoch 600, Loss: 0.25014033913612366\n",
      "Epoch 700, Loss: 0.25011226534843445\n",
      "Epoch 800, Loss: 0.25008970499038696\n",
      "Epoch 900, Loss: 0.25007155537605286\n",
      "Epoch 0, Loss: 0.2880662679672241\n",
      "Epoch 100, Loss: 0.2844133675098419\n",
      "Epoch 200, Loss: 0.28114721179008484\n",
      "Epoch 300, Loss: 0.2782345414161682\n",
      "Epoch 400, Loss: 0.27564021944999695\n",
      "Epoch 500, Loss: 0.27332958579063416\n",
      "Epoch 600, Loss: 0.27126941084861755\n",
      "Epoch 700, Loss: 0.26942917704582214\n",
      "Epoch 800, Loss: 0.2677808403968811\n",
      "Epoch 900, Loss: 0.26629960536956787\n",
      "Epoch 0, Loss: 0.4999982714653015\n",
      "Epoch 100, Loss: 0.4999982714653015\n",
      "Epoch 200, Loss: 0.4999982714653015\n",
      "Epoch 300, Loss: 0.4999982714653015\n",
      "Epoch 400, Loss: 0.4999982714653015\n",
      "Epoch 500, Loss: 0.4999982714653015\n",
      "Epoch 600, Loss: 0.4999982714653015\n",
      "Epoch 700, Loss: 0.4999982714653015\n",
      "Epoch 800, Loss: 0.4999982714653015\n",
      "Epoch 900, Loss: 0.4999982714653015\n"
     ]
    },
    {
     "data": {
      "image/png": "[encoded data removed]",
      "text/plain": [
       "<Figure size 1000x1000 with 1 Axes>"
      ]
     },
     "metadata": {},
     "output_type": "display_data"
    }
   ],
   "source": [
    "loss_dir = {}\n",
    "\n",
    "for w in [0, 0.01, 0.1, 1, 10]:\n",
    "    weights1, weights2, bias1, bias2, loss_history = train(x_inputs.T, y_classes, weights1, weights2, bias1, bias2, n_hidden, n_input, n_output, w, momentum, mse_limit, eta, 1000)\n",
    "    loss_dir[w] = loss_history\n",
    "\n",
    "fig, ax = plt.subplots(1, 1, figsize=(10, 10))\n",
    "for w, loss in loss_dir.items():\n",
    "    ax.plot(loss, label=f'Weight scale: {w}')\n",
    "ax.set_xlabel('Epoch')\n",
    "ax.set_ylabel('MSE')\n",
    "ax.set_title('Training loss')\n",
    "plt.legend()\n",
    "plt.show()\n"
   ]
  },
  {
   "cell_type": "markdown",
   "metadata": {},
   "source": [
    "***\n",
    "\n",
    "<div class=\"alert alert-success\" markdown=\"1\" style=\"color:white; background-color: #192841; border-color: #779ecb\">\n",
    "\n",
    "> ### Going further\n",
    "\n",
    "> The following set of questions are optionnal addendum to your previous code that allow to understand more in-depth properties about _regularization_ both for neural networks and optimization in general.\n",
    "\n",
    "> 1. (Optional) Implement the *weight decay* constraint in your network.\n",
    "> 2. (Optional) Add the *momentum* to the learning procedure.\n",
    "\n",
    "> *Weight decay* constraint\n",
    "> As nothing constrains the weights in the network, we can note that usually all weights vector given a multiplicative factor might be equivalent, which can stall the learning (and lead to exploding weights). The *weight decay* allows to regularize the learning by penalizing weights with a too wide amplitude. The idea is to add this constraint as a term to the final loss (which leads to an indirect \"pressure\" on the learning process. Therefore, the final loss will be defined as\n",
    "> $$\n",
    "\\begin{equation}\n",
    "\\mathcal{L}_{final}=\\mathcal{L_D} + \\lambda \\sum_{l} \\sum_{i} \\sum_{j} \\left( W_{ij}^{l} \\right)^{2}\n",
    "\\end{equation}\n",
    "$$\n",
    "> where the parameter $\\lambda$ controls the relative importance of the two terms.\n",
    "\n",
    "> *Momentum* in learning\n",
    "> Usually, in complex problems, the gradient can be very noisy and, therefore, the learning might oscillate widely. In order to reduce this problem, we can *smooth* the different gradient updates by retaining the values of the gradient at each iteration and then performing an update based on the latest gradient $\\delta_{i}^{t}$ and the gradient at the previous iteration $\\delta_{i}^{t-1}$. Therefore, a gradient update is applied as\n",
    "> $$\n",
    "\\begin{equation}\n",
    "\\delta_{final}^{t} = \\delta_{i}^{t} + m.\\delta_{i}^{t-1}\n",
    "\\end{equation}\n",
    "$$\n",
    "> with $m$ the momentum parameter, which control the amount of gradient smoothing.\n",
    "\n",
    "</div>\n",
    "\n",
    "***"
   ]
  },
  {
   "cell_type": "code",
   "execution_count": 22,
   "metadata": {},
   "outputs": [],
   "source": [
    "\n",
    "######################\n",
    "# YOUR CODE GOES HERE\n",
    "######################\n"
   ]
  },
  {
   "cell_type": "markdown",
   "metadata": {},
   "source": [
    "## (Optional) 3-layer audio classification\n",
    "\n",
    "Once again, note that the following paragraph and subsequent questions are _optional_ but should be a quite simple extension of our previous work on 2-layer networks. If you struggle with the data import mechanisms, you can look down at the PyTorch section (with a **mandatory exercise**) that will provide base code for this aspect. \n",
    "\n",
    "Finally, we will attack a complete audio classification problem and try to perform neural network learning on a set of audio files. The data structure will be the same as the one used for parts 1 and 2. As discussed during the courses, even though a 2-layer neural network can provide non-linear boundaries, it can not perform \"holes\" inside those regions. In order to obtain an improved classification, we will now rely on a 3-layer neural network. The modification to the code of section 3.2 should be minimal, as the back-propagation will be similar for the new layer as one of the two others. We do not develop the math here as it is simply a re-application of the previous rules with an additional layer (which derivatives you should have generalized in the previous exercise).  \n",
    "\n",
    "However, up until now, we only performed *binary classification* problems, but this time we need to obtain a decision rule for multiple classes. Therefore, we cannot rely on simply computing the distance between desired patterns and the obtained binary value. The idea here is to rely on the *softmax regression*, by considering classes as a vector of probabilities. The desired answers will therefore be considered as a set of *probabilities*, where the desired class is $1$ and the others are $0$ (called *one-hot* representation). Then, the cost function will rely on the softmax formulation\n",
    "\n",
    "$$\n",
    "\\begin{equation}\n",
    "\\mathcal{L_D}(\\theta) = - \\frac{1}{m} \\left[ \\sum_{i=1}^{m} \\sum_{j=1}^{k} 1\\left\\{y^{(i)} = j\\right\\} \\log \\frac{e^{\\theta_{j}^{T} x^{(i)}}}{\\sum_{l=1}^{k} e^{ \\theta_{l}^{T} x^{(i)} }}  \\right]\n",
    "\\end{equation}\n",
    "$$\n",
    "\n",
    "Therefore, we compute the output of the softmax by taking \n",
    "\n",
    "$$\n",
    "\\begin{equation}\n",
    "p(y^{(i)} = j | x^{(i)}; \\theta) = \\frac{e^{\\theta_{j}^{T} x^{(i)}}}{\\sum_{l=1}^{k} e^{ \\theta_{l}^{T} x^{(i)}} }\n",
    "\\end{equation}\n",
    "$$\n",
    "\n",
    "By taking derivatives, we can show that the gradient of the softmax layer is\n",
    "\n",
    "$$\n",
    "\\begin{equation}\n",
    "\\nabla_{\\theta_{j}} \\mathcal{L_D}(\\theta) = - \\frac{1}{m} \\sum_{i=1}^{m}{ \\left[ x^{(i)} \\left( 1\\{ y^{(i)} = j\\}  - p(y^{(i)} = j \\mid x^{(i)}, \\theta) \\right) \\right]}\n",
    "\\end{equation}\n",
    "$$"
   ]
  },
  {
   "cell_type": "markdown",
   "metadata": {},
   "source": [
    "### Sweet activation functions\n",
    "\n",
    "As discussed in the course, the interest of stacking layers is that there is an _activation function_, which allows non-linear interactions between the dimensions (and avoids to only compute a single huge affine transform). Although the `sigmoid` function has been historically the most used, there has been some large developments since. Notably the `ReLU` (Rectified Linear Unit) is one of the major difference in modern networks (we will see more about that in a later course)"
   ]
  },
  {
   "cell_type": "code",
   "execution_count": 23,
   "metadata": {},
   "outputs": [],
   "source": [
    "# Function for computing the Sigmoid activation\n",
    "def sigmoid(x):\n",
    "    return 1 / (1 + np.exp(-x))\n",
    "# Derivative\n",
    "def dsigmoid(a):\n",
    "    return a * (1.0 - a)\n",
    "# Function for computing the ReLU activation\n",
    "def relu(x):\n",
    "    return np.maximum(0, x)\n",
    "# Derivative\n",
    "def drelu(x):\n",
    "    if (x < 0):\n",
    "        return 0\n",
    "    return 1\n",
    "# Function for computing the Tanh activation\n",
    "def tanh(x):\n",
    "    return np.tanh(x);\n",
    "# Derivative\n",
    "def dtanh(x): \n",
    "    return np.cosh(x) ^ -2"
   ]
  },
  {
   "cell_type": "markdown",
   "metadata": {},
   "source": [
    "Here, we plot some simple examples of what these activation functions look like. You can try to rely on these functions in your previous training code and witness the differences in training.\n"
   ]
  },
  {
   "cell_type": "code",
   "execution_count": 24,
   "metadata": {},
   "outputs": [
    {
     "data": {
      "application/vnd.jupyter.widget-view+json": {
       "model_id": "d1708e052e15404881e8bc2ffb62f4fe",
       "version_major": 2,
       "version_minor": 0
      },
      "text/plain": [
       "BokehModel(combine_events=True, render_bundle={'docs_json': {'8b2fe19d-60d5-422b-996f-cf38d7b671c0': {'version…"
      ]
     },
     "execution_count": 24,
     "metadata": {},
     "output_type": "execute_result"
    }
   ],
   "source": [
    "from bokeh.models import Div\n",
    "from bokeh.layouts import column, row\n",
    "from cml.plot import cml_figure\n",
    "# Functions to\n",
    "funcs = [('Sigmoid',sigmoid,'red'), ('Tanh',tanh,'orange'), ('ReLU',relu,'yellow')]\n",
    "# Generating the x axis\n",
    "x = np.linspace(-5, 5, 100)\n",
    "plots = []\n",
    "for (name, func, color) in funcs:\n",
    "    cur_plot = cml_figure(plot_width=400, plot_height=250, title=name)\n",
    "    cur_plot.line(x, func(x), color=color, line_width=4)\n",
    "    plots.append(cur_plot)\n",
    "plot = center_plot(column(Div(text = \"Different activation functions\", styles={'font-size': '250%'}), row(*plots)))\n",
    "plot"
   ]
  },
  {
   "cell_type": "markdown",
   "metadata": {},
   "source": [
    "## Coding the whole network from scratch\n",
    "\n",
    "You should now have all the tools necessary to apply neural networks from scratch to a more complex problem. In the following exercise, we simply removed any guideline code, and you need to code all the procedure for training a NN and **apply it to audio data**. You will use the spectral features discussed in the previous exercise as an input.\n",
    "\n",
    "***\n",
    "\n",
    "<div class=\"alert alert-success\" markdown=\"1\" style=\"color:white; background-color: #192841; border-color: #779ecb\">\n",
    "\n",
    "> ### Going further **(optional exercise) **\n",
    "\n",
    ">  1. Based on the previous neural network, upgrade the code to a 3-layer neural network\n",
    ">  2. Implement the *softmax regression* on top of your 3-layer network\n",
    ">  3. Use the provided code to perform classification on a pre-defined set of features\n",
    ">  4. As previously, change the set of features to assess their different accuracies\n",
    ">  5. Evaluate the neural network accuracy for all features combinations\n",
    ">  6. What happens if the learning rate is too large ? What is this phenomenon ?\n",
    ">  7. Perform a more advanced visualization of the learning process.\n",
    "  \n",
    "\n",
    "</div>\n",
    "\n",
    "***"
   ]
  },
  {
   "cell_type": "code",
   "execution_count": 25,
   "metadata": {},
   "outputs": [],
   "source": [
    "\n",
    "######################\n",
    "# YOUR CODE GOES HERE\n",
    "######################\n"
   ]
  },
  {
   "cell_type": "markdown",
   "metadata": {},
   "source": [
    "# Using `Pytorch` to enjoy life\n",
    "\n",
    "Up to now, we have been writing every operations by ourselves (in order to better understand the mathematics behind NN). However, there exists of course some simplifying libraries that provide large simplifications to this question.\n",
    "\n",
    "One of the most powerful and complete library of this sort is `Pytorch`, which has been developed for several years (even prior to the recent boom of deep learning). `Pytorch` provides a large set of pre-coded layers, but also **computational graphs** and **autograd**, which are very powerful paradigms allowing to define complex operators and automatically taking derivatives.\n",
    "\n",
    "## An (extremely) fast and dirty introduction to `Pytorch`\n",
    "\n",
    "PyTorch is a popular open-source deep learning framework based on the Torch library. It is primarily developed by Facebook AI research team, and it provides a simple and efficient way to build deep learning models. In this extremely short crash course, we will cover the basics of PyTorch, including:\n",
    "\n",
    "* Tensors\n",
    "* Automatic differentiation\n",
    "* Neural networks\n",
    "* Training a neural network on a dataset\n",
    "\n",
    "For a complete tutorial on PyTorch, please check out the [official PyTorch documentation](https://pytorch.org/tutorials/). This tutorial covers a wide range of topics, including the basics of PyTorch, building and training neural networks, working with data and dataloaders, and deploying models to production."
   ]
  },
  {
   "cell_type": "markdown",
   "metadata": {},
   "source": []
  },
  {
   "cell_type": "code",
   "execution_count": 26,
   "metadata": {},
   "outputs": [
    {
     "name": "stdout",
     "output_type": "stream",
     "text": [
      "tensor([[0.4915],\n",
      "        [0.5150],\n",
      "        [0.5148],\n",
      "        [0.5093],\n",
      "        [0.4912],\n",
      "        [0.4981],\n",
      "        [0.4984],\n",
      "        [0.4965],\n",
      "        [0.5035],\n",
      "        [0.4972]], grad_fn=<ToCopyBackward0>)\n"
     ]
    }
   ],
   "source": [
    "import torch \n",
    "a = torch.rand(10, 2)\n",
    "b = torch.rand(10, 2)\n",
    "import torch.nn as nn\n",
    "\n",
    "if torch.cuda.is_available():\n",
    "    device = \"cuda\"\n",
    "else:\n",
    "    device = \"cpu\"\n",
    "\n",
    "a = a.to(device)\n",
    "b = b.to(device)\n",
    "model = nn.Sequential(\n",
    "    nn.Linear(2, 5),\n",
    "    nn.ReLU(),\n",
    "    nn.Linear(5, 1),\n",
    "    nn.Sigmoid()\n",
    ")\n",
    "model = model.to(device)\n",
    "out = model(a)\n",
    "out = out.to(\"cpu\")\n",
    "print(out)\n"
   ]
  },
  {
   "cell_type": "code",
   "execution_count": 27,
   "metadata": {},
   "outputs": [
    {
     "name": "stdout",
     "output_type": "stream",
     "text": [
      "torch.Size([100, 1])\n"
     ]
    }
   ],
   "source": [
    "import torch\n",
    "import torch.nn\n",
    "x = torch.ones((100, 3))\n",
    "net = nn.Sequential(\n",
    "  nn.Linear(3, 20),\n",
    "  nn.ReLU(),\n",
    "  nn.Linear(20, 1),\n",
    "  nn.Sigmoid()\n",
    ")\n",
    "l1 = nn.Linear(3, 20)\n",
    "o1 = l1(x)\n",
    "r1 = nn.ReLU()\n",
    "o2 = r1(o1)\n",
    "l2 = nn.Linear(20, 1)\n",
    "s2 = nn.Sigmoid()\n",
    "y = s2(l2(o2))\n",
    "print(y.shape)\n"
   ]
  },
  {
   "cell_type": "markdown",
   "metadata": {},
   "source": [
    "### Tensors\n",
    "At its core, PyTorch is all about tensors. A tensor is a generalization of vectors and matrices to an arbitrary number of dimensions. A scalar is a 0-dimensional tensor, a vector is a 1-dimensional tensor, and a matrix is a 2-dimensional tensor.\n",
    "\n",
    "#### Creating Tensors\n",
    "We can create a PyTorch tensor from a Python list or a NumPy array using the `torch.tensor()` function, but also tensors of a specific size and/or with all zeros or all ones using the `torch.zeros()` and `torch.ones()` functions"
   ]
  },
  {
   "cell_type": "code",
   "execution_count": 28,
   "metadata": {},
   "outputs": [
    {
     "name": "stdout",
     "output_type": "stream",
     "text": [
      "tensor([1, 2, 3, 4])\n",
      "tensor([[1, 2],\n",
      "        [3, 4]], dtype=torch.int32)\n",
      "tensor([[0., 0., 0.],\n",
      "        [0., 0., 0.]])\n",
      "tensor([[1., 1.],\n",
      "        [1., 1.],\n",
      "        [1., 1.]])\n"
     ]
    }
   ],
   "source": [
    "import torch\n",
    "import numpy as np\n",
    "# create a tensor from a Python list\n",
    "x = torch.tensor([1, 2, 3, 4])\n",
    "print(x)\n",
    "# create a tensor from a NumPy array\n",
    "y = torch.tensor(np.array([[1, 2], [3, 4]]))\n",
    "print(y)\n",
    "# create a 2x3 tensor of zeros\n",
    "z = torch.zeros((2, 3))\n",
    "print(z)\n",
    "# create a 3x2 tensor of ones\n",
    "w = torch.ones((3, 2))\n",
    "print(w)"
   ]
  },
  {
   "cell_type": "markdown",
   "metadata": {},
   "source": [
    "#### Tensor operations\n",
    "\n",
    "PyTorch tensors support a wide range of operations, including arithmetic operations like addition, subtraction, multiplication, and division, as well as more advanced operations like matrix multiplication, element-wise multiplication, and concatenation."
   ]
  },
  {
   "cell_type": "code",
   "execution_count": 29,
   "metadata": {},
   "outputs": [
    {
     "name": "stdout",
     "output_type": "stream",
     "text": [
      "tensor([ 6,  8, 10, 12])\n",
      "tensor([ 5, 12, 21, 32])\n",
      "tensor([[19, 22],\n",
      "        [43, 50]])\n",
      "tensor([[1, 2, 5, 6],\n",
      "        [3, 4, 7, 8]])\n"
     ]
    }
   ],
   "source": [
    "# create two tensors\n",
    "x = torch.tensor([1, 2, 3, 4])\n",
    "y = torch.tensor([5, 6, 7, 8])\n",
    "# add the two tensors\n",
    "z = x + y\n",
    "print(z)\n",
    "# element-wise multiplication\n",
    "w = x * y\n",
    "print(w)\n",
    "# matrix multiplication\n",
    "a = torch.tensor([[1, 2], [3, 4]])\n",
    "b = torch.tensor([[5, 6], [7, 8]])\n",
    "c = torch.matmul(a, b)\n",
    "print(c)\n",
    "# concatenation\n",
    "d = torch.cat((a, b), dim=1)\n",
    "print(d)"
   ]
  },
  {
   "cell_type": "markdown",
   "metadata": {},
   "source": [
    "### Automatic differentiation\n",
    "\n",
    "The core of PyTorch is the autograd package. It provides automatic differentiation for all operations on Tensors.\n",
    "\n",
    "PyTorch's autograd package provides automatic differentiation for all operations on Tensors. It is a define-by-run framework, which means that your backpropagation is defined by how your code is run, and that every single iteration can be different.\n",
    "\n",
    "To compute gradients, the `requires_grad` property of Tensors needs to `True` (which is the case by default). This tells PyTorch to track all operations on the Tensor. You can then call `.backward()` on a Tensor to compute the gradients with respect to that Tensor."
   ]
  },
  {
   "cell_type": "code",
   "execution_count": 30,
   "metadata": {},
   "outputs": [
    {
     "name": "stdout",
     "output_type": "stream",
     "text": [
      "tensor(11.)\n"
     ]
    },
    {
     "data": {
      "text/plain": [
       "tensor(11.)"
      ]
     },
     "execution_count": 30,
     "metadata": {},
     "output_type": "execute_result"
    }
   ],
   "source": [
    "import torch\n",
    "\n",
    "x = torch.tensor(2.0, requires_grad=True)\n",
    "y = 2*x**2 + 3*x - 1\n",
    "y.backward()\n",
    "\n",
    "print(x.grad)\n",
    "x.grad"
   ]
  },
  {
   "cell_type": "markdown",
   "metadata": {},
   "source": [
    "## Defining our network\n",
    "\n",
    "When building neural networks we frequently think of arranging the computation into layers, some of which have learnable parameters which will be optimized during learning. In `PyTorch`, the `nn` package provides higher-level abstractions over raw computational graphs that are useful for building neural networks. The `nn` package defines a set of `Modules`, which are roughly equivalent to neural network layers. A `Module` receives input `Tensors` and computes output `Tensors`, but may also hold internal state such as `Tensors` containing learnable parameters. The nn package also defines a set of useful loss functions that are commonly used when training neural networks.\n",
    "\n",
    "In the following example, we use the `nn` package to show how easy it is to instantiate our previous three-layers network"
   ]
  },
  {
   "cell_type": "code",
   "execution_count": 31,
   "metadata": {},
   "outputs": [],
   "source": [
    "import torch\n",
    "# Define the input dimensions\n",
    "in_size = 1000\n",
    "# Number of neurons in a layer\n",
    "hidden_size = 100\n",
    "# Output (target) dimension\n",
    "output_size = 10\n",
    "# Use the nn package to define our model and loss function.\n",
    "model = torch.nn.Sequential(\n",
    "    torch.nn.Linear(in_size, hidden_size),\n",
    "    torch.nn.Sigmoid(),\n",
    "    torch.nn.Linear(hidden_size, hidden_size),\n",
    "    torch.nn.Tanh(),\n",
    "    torch.nn.Linear(hidden_size, output_size),\n",
    "    torch.nn.Softmax(dim=1)\n",
    ")"
   ]
  },
  {
   "cell_type": "markdown",
   "metadata": {},
   "source": [
    "### Optimizing the network\n",
    "\n",
    "Up to this point we have updated the weights of our models by manually performing the gradient descent algorithm (changing the parameters vectors). Although this is not a huge burden for simple optimization algorithms like stochastic gradient descent, in practice we often train neural networks using more sophisticated optimizers like AdaGrad, RMSProp or Adam (that we will see later in this course)\n",
    "\n",
    "The `optim` package in PyTorch abstracts the idea of an optimization algorithm and provides implementations of commonly used optimization algorithms, and greatly simplfies the training loop associated with training a neural network.\n",
    "\n",
    "For the sake of presentation we will use random inputs $\\mathbf{x}$ that should be matched with random outputs $\\mathbf{y}$"
   ]
  },
  {
   "cell_type": "code",
   "execution_count": 32,
   "metadata": {},
   "outputs": [],
   "source": [
    "batch_size = 64\n",
    "# Create random Tensors to hold inputs and outputs\n",
    "x = torch.randn(batch_size, in_size)\n",
    "y = torch.randn(batch_size, output_size)\n",
    "\n",
    "class MyLayer(nn.Module):\n",
    "\n",
    "    def forward():\n",
    "        pass"
   ]
  },
  {
   "cell_type": "markdown",
   "metadata": {},
   "source": [
    "In the following example we optimize the model using the Adam algorithm provided by the `optim` package, based on a `MSE` loss."
   ]
  },
  {
   "cell_type": "code",
   "execution_count": 33,
   "metadata": {},
   "outputs": [
    {
     "name": "stdout",
     "output_type": "stream",
     "text": [
      "tensor(499.9225, grad_fn=<MseLossBackward0>)\n"
     ]
    }
   ],
   "source": [
    "# Learning rate\n",
    "learning_rate = 1e-4\n",
    "# Loss function that we will use\n",
    "loss_fn = torch.nn.MSELoss(reduction='sum')\n",
    "# Optimizer to fit the weights of the network\n",
    "optimizer = torch.optim.RMSprop(model.parameters(), lr=learning_rate)\n",
    "for t in range(500):\n",
    "    # Forward pass: compute predicted y by passing x to the model.\n",
    "    y_pred = model(x)\n",
    "    # Compute the loss.\n",
    "    loss = loss_fn(y_pred, y)\n",
    "    # Before the backward pass, zero all of the network gradients\n",
    "    optimizer.zero_grad()\n",
    "    # Backward pass: compute gradient of the loss with respect to parameters\n",
    "    loss.backward()\n",
    "    # Calling the step function to update the parameters\n",
    "    optimizer.step()\n",
    "print(loss)\n",
    "    "
   ]
  },
  {
   "cell_type": "markdown",
   "metadata": {},
   "source": [
    "## Exercise 2 - Pytorch to classify audio\n",
    "\n",
    "Now that we know the main components of `Pytorch` to define and optimize networks, your assignement is to define a complete classification problem from audio data, by relying on this toolbox\n",
    "\n",
    "***\n",
    "\n",
    "<div class=\"alert alert-success\" markdown=\"1\" style=\"color:white; background-color: #013220; border-color: #03C03C\">\n",
    "\n",
    "> ### Question 1.1 - Model and definition\n",
    "\n",
    ">   1. Use `Pytorch` to define a model for audio classification\n",
    ">   2. Import the audio features dataset and check that your model produces an output\n",
    "\n",
    "</div>\n",
    "\n",
    "***\n"
   ]
  },
  {
   "cell_type": "code",
   "execution_count": 34,
   "metadata": {},
   "outputs": [
    {
     "name": "stdout",
     "output_type": "stream",
     "text": [
      "Number of samples: 60\n",
      "Waveform shape: torch.Size([1, 50800])\n",
      "Sample rate: 8000\n",
      "Labels: [0, 0, 0, 0, 1, 1, 1, 1]\n"
     ]
    }
   ],
   "source": [
    "import torch\n",
    "import torchaudio\n",
    "from torch.utils.data import DataLoader\n",
    "import torch.nn as nn\n",
    "import torch.nn.functional as F\n",
    "import torch.optim as optim\n",
    "import torchaudio.transforms as transforms\n",
    "\n",
    "\n",
    "yesno_data = torchaudio.datasets.YESNO(\"./data\", download=True)\n",
    "print(f\"Number of samples: {len(yesno_data)}\")\n",
    "\n",
    "waveform, sample_rate, labels = yesno_data[0]\n",
    "print(f\"Waveform shape: {waveform.shape}\")\n",
    "print(f\"Sample rate: {sample_rate}\")\n",
    "print(f\"Labels: {labels}\")\n",
    "\n",
    "\n",
    "preprocessing = transforms.MelSpectrogram(\n",
    "    sample_rate=sample_rate,\n",
    "    n_fft=1024,\n",
    "    hop_length=512,\n",
    "    n_mels=64\n",
    ")"
   ]
  },
  {
   "cell_type": "code",
   "execution_count": 35,
   "metadata": {},
   "outputs": [],
   "source": [
    "class YesNoClassifier(nn.Module):\n",
    "    def __init__(self):\n",
    "        super(YesNoClassifier, self).__init__()\n",
    "        self.conv1 = nn.Conv2d(1, 16, kernel_size=(3, 3))\n",
    "        self.conv2 = nn.Conv2d(16, 32, kernel_size=(3, 3))\n",
    "        self.fc1 = nn.Linear(16576, 128)  # Adjusted input size\n",
    "        self.fc2 = nn.Linear(128, 8)\n",
    "\n",
    "    def forward(self, x):\n",
    "        x = F.relu(F.max_pool2d(self.conv1(x), 2))\n",
    "        x = F.relu(F.max_pool2d(self.conv2(x), 2))\n",
    "        x = x.view(-1, 16576)  # Adjusted input size\n",
    "        x = F.relu(self.fc1(x))\n",
    "        x = torch.sigmoid(self.fc2(x))\n",
    "        return x\n",
    "\n",
    "class YesNoDataset(torch.utils.data.Dataset):\n",
    "    def __init__(self, dataset, transform=None):\n",
    "        self.dataset = dataset\n",
    "        self.transform = transform\n",
    "\n",
    "    def __len__(self):\n",
    "        return len(self.dataset)\n",
    "\n",
    "    def __getitem__(self, index):\n",
    "        waveform, sample_rate, label = self.dataset[index]\n",
    "        waveform = waveform.squeeze(0)\n",
    "        padding = torch.zeros((80000 - waveform.shape[0]))\n",
    "        waveform = torch.cat((waveform, padding), dim=0)\n",
    "        spec = self.transform(waveform)\n",
    "        return spec, label\n",
    "\n",
    "yesno_mel_dataset = YesNoDataset(yesno_data, transform=preprocessing)\n",
    "train_loader = DataLoader(yesno_mel_dataset, batch_size=1, shuffle=True)\n",
    "\n",
    "model = YesNoClassifier()\n",
    "criterion = nn.BCELoss()\n",
    "optimizer = optim.Adam(model.parameters(), lr=0.001)\n"
   ]
  },
  {
   "cell_type": "markdown",
   "metadata": {},
   "source": [
    "\n",
    "***\n",
    "\n",
    "<div class=\"alert alert-success\" markdown=\"1\" style=\"color:white; background-color: #013220; border-color: #03C03C\">\n",
    "\n",
    "> ### Question 1.2 - Training the model\n",
    "\n",
    ">   3. Write the optimization loop (think carefully about the _loss function_\n",
    ">   4. As previously, change the set of features to assess their different accuracies\n",
    ">   5. (Optional) Think of how you could use more complex features (time series, audio, STFT) to classify your data\n",
    "\n",
    "</div>\n",
    "\n",
    "***"
   ]
  },
  {
   "cell_type": "code",
   "execution_count": 38,
   "metadata": {},
   "outputs": [
    {
     "name": "stdout",
     "output_type": "stream",
     "text": [
      "Epoch [1/30], Step [10], Loss: 53.7500\n",
      "Epoch [1/30], Step [20], Loss: 50.4470\n",
      "Epoch [1/30], Step [30], Loss: 51.2500\n",
      "Epoch [1/30], Step [40], Loss: 51.2500\n",
      "Epoch [1/30], Step [50], Loss: 40.6712\n",
      "Epoch [1/30], Step [60], Loss: 51.9770\n",
      "Epoch [2/30], Step [10], Loss: 54.6535\n",
      "Epoch [2/30], Step [20], Loss: 43.7500\n",
      "Epoch [2/30], Step [30], Loss: 47.3047\n",
      "Epoch [2/30], Step [40], Loss: 56.0419\n",
      "Epoch [2/30], Step [50], Loss: 51.7447\n",
      "Epoch [2/30], Step [60], Loss: 45.8504\n",
      "Epoch [3/30], Step [10], Loss: 47.3047\n",
      "Epoch [3/30], Step [20], Loss: 50.0000\n",
      "Epoch [3/30], Step [30], Loss: 46.9455\n",
      "Epoch [3/30], Step [40], Loss: 54.4411\n",
      "Epoch [3/30], Step [50], Loss: 54.8235\n",
      "Epoch [3/30], Step [60], Loss: 45.8306\n",
      "Epoch [4/30], Step [10], Loss: 42.5000\n",
      "Epoch [4/30], Step [20], Loss: 55.0591\n",
      "Epoch [4/30], Step [30], Loss: 49.2861\n",
      "Epoch [4/30], Step [40], Loss: 47.5000\n",
      "Epoch [4/30], Step [50], Loss: 51.2500\n",
      "Epoch [4/30], Step [60], Loss: 53.7500\n",
      "Epoch [5/30], Step [10], Loss: 41.0419\n",
      "Epoch [5/30], Step [20], Loss: 48.1712\n",
      "Epoch [5/30], Step [30], Loss: 63.3782\n",
      "Epoch [5/30], Step [40], Loss: 53.4035\n",
      "Epoch [5/30], Step [50], Loss: 45.8504\n",
      "Epoch [5/30], Step [60], Loss: 47.5000\n",
      "Epoch [6/30], Step [10], Loss: 45.5039\n",
      "Epoch [6/30], Step [20], Loss: 54.8235\n",
      "Epoch [6/30], Step [30], Loss: 53.5906\n",
      "Epoch [6/30], Step [40], Loss: 42.2919\n",
      "Epoch [6/30], Step [50], Loss: 56.2500\n",
      "Epoch [6/30], Step [60], Loss: 46.8852\n",
      "Epoch [7/30], Step [10], Loss: 48.1551\n",
      "Epoch [7/30], Step [20], Loss: 59.4770\n",
      "Epoch [7/30], Step [30], Loss: 53.3826\n",
      "Epoch [7/30], Step [40], Loss: 50.0000\n",
      "Epoch [7/30], Step [50], Loss: 44.5806\n",
      "Epoch [7/30], Step [60], Loss: 43.7500\n",
      "Epoch [8/30], Step [10], Loss: 44.8047\n",
      "Epoch [8/30], Step [20], Loss: 51.0906\n",
      "Epoch [8/30], Step [30], Loss: 57.9841\n",
      "Epoch [8/30], Step [40], Loss: 49.6154\n",
      "Epoch [8/30], Step [50], Loss: 50.8504\n",
      "Epoch [8/30], Step [60], Loss: 45.0000\n",
      "Epoch [9/30], Step [10], Loss: 47.5000\n",
      "Epoch [9/30], Step [20], Loss: 55.9035\n",
      "Epoch [9/30], Step [30], Loss: 48.3306\n",
      "Epoch [9/30], Step [40], Loss: 44.1970\n",
      "Epoch [9/30], Step [50], Loss: 51.2500\n",
      "Epoch [9/30], Step [60], Loss: 52.1641\n",
      "Epoch [10/30], Step [10], Loss: 54.8235\n",
      "Epoch [10/30], Step [20], Loss: 50.4310\n",
      "Epoch [10/30], Step [30], Loss: 57.3047\n",
      "Epoch [10/30], Step [40], Loss: 47.5000\n",
      "Epoch [10/30], Step [50], Loss: 48.2442\n",
      "Epoch [10/30], Step [60], Loss: 41.0419\n",
      "Epoch [11/30], Step [10], Loss: 48.7500\n",
      "Epoch [11/30], Step [20], Loss: 48.0190\n",
      "Epoch [11/30], Step [30], Loss: 57.3047\n",
      "Epoch [11/30], Step [40], Loss: 45.8306\n",
      "Epoch [11/30], Step [50], Loss: 43.3504\n",
      "Epoch [11/30], Step [60], Loss: 56.0906\n",
      "Epoch [12/30], Step [10], Loss: 52.3235\n",
      "Epoch [12/30], Step [20], Loss: 57.3047\n",
      "Epoch [12/30], Step [30], Loss: 50.9035\n",
      "Epoch [12/30], Step [40], Loss: 45.6911\n",
      "Epoch [12/30], Step [50], Loss: 44.7919\n",
      "Epoch [12/30], Step [60], Loss: 48.3306\n",
      "Epoch [13/30], Step [10], Loss: 57.1535\n",
      "Epoch [13/30], Step [20], Loss: 49.8047\n",
      "Epoch [13/30], Step [30], Loss: 38.1423\n",
      "Epoch [13/30], Step [40], Loss: 47.0806\n",
      "Epoch [13/30], Step [50], Loss: 52.5000\n",
      "Epoch [13/30], Step [60], Loss: 54.6641\n",
      "Epoch [14/30], Step [10], Loss: 43.7500\n",
      "Epoch [14/30], Step [20], Loss: 51.3992\n",
      "Epoch [14/30], Step [30], Loss: 46.2500\n",
      "Epoch [14/30], Step [40], Loss: 52.5000\n",
      "Epoch [14/30], Step [50], Loss: 45.6225\n",
      "Epoch [14/30], Step [60], Loss: 59.8235\n",
      "Epoch [15/30], Step [10], Loss: 56.9582\n",
      "Epoch [15/30], Step [20], Loss: 43.7500\n",
      "Epoch [15/30], Step [30], Loss: 42.0806\n",
      "Epoch [15/30], Step [40], Loss: 52.1641\n",
      "Epoch [15/30], Step [50], Loss: 49.3923\n",
      "Epoch [15/30], Step [60], Loss: 55.0000\n",
      "Epoch [16/30], Step [10], Loss: 48.7500\n",
      "Epoch [16/30], Step [20], Loss: 57.3047\n",
      "Epoch [16/30], Step [30], Loss: 45.8504\n",
      "Epoch [16/30], Step [40], Loss: 42.2919\n",
      "Epoch [16/30], Step [50], Loss: 55.7270\n",
      "Epoch [16/30], Step [60], Loss: 49.4212\n",
      "Epoch [17/30], Step [10], Loss: 42.1004\n",
      "Epoch [17/30], Step [20], Loss: 50.9141\n",
      "Epoch [17/30], Step [30], Loss: 55.8466\n",
      "Epoch [17/30], Step [40], Loss: 55.0000\n",
      "Epoch [17/30], Step [50], Loss: 53.4035\n",
      "Epoch [17/30], Step [60], Loss: 42.0806\n",
      "Epoch [18/30], Step [10], Loss: 49.4201\n",
      "Epoch [18/30], Step [20], Loss: 44.8406\n",
      "Epoch [18/30], Step [30], Loss: 55.9035\n",
      "Epoch [18/30], Step [40], Loss: 53.3306\n",
      "Epoch [18/30], Step [50], Loss: 49.6004\n",
      "Epoch [18/30], Step [60], Loss: 46.2500\n",
      "Epoch [19/30], Step [10], Loss: 48.7500\n",
      "Epoch [19/30], Step [20], Loss: 48.7500\n",
      "Epoch [19/30], Step [30], Loss: 43.3306\n",
      "Epoch [19/30], Step [40], Loss: 51.3865\n",
      "Epoch [19/30], Step [50], Loss: 49.6282\n",
      "Epoch [19/30], Step [60], Loss: 57.5000\n",
      "Epoch [20/30], Step [10], Loss: 46.2500\n",
      "Epoch [20/30], Step [20], Loss: 52.7705\n",
      "Epoch [20/30], Step [30], Loss: 49.5806\n",
      "Epoch [20/30], Step [40], Loss: 47.3406\n",
      "Epoch [20/30], Step [50], Loss: 49.6535\n",
      "Epoch [20/30], Step [60], Loss: 53.7500\n",
      "Epoch [21/30], Step [10], Loss: 50.9141\n",
      "Epoch [21/30], Step [20], Loss: 48.3306\n",
      "Epoch [21/30], Step [30], Loss: 56.0547\n",
      "Epoch [21/30], Step [40], Loss: 46.0419\n",
      "Epoch [21/30], Step [50], Loss: 49.2539\n",
      "Epoch [21/30], Step [60], Loss: 48.7500\n",
      "Epoch [22/30], Step [10], Loss: 50.6352\n",
      "Epoch [22/30], Step [20], Loss: 50.0000\n",
      "Epoch [22/30], Step [30], Loss: 50.8826\n",
      "Epoch [22/30], Step [40], Loss: 51.9239\n",
      "Epoch [22/30], Step [50], Loss: 43.4035\n",
      "Epoch [22/30], Step [60], Loss: 52.5000\n",
      "Epoch [23/30], Step [10], Loss: 55.5488\n",
      "Epoch [23/30], Step [20], Loss: 48.7500\n",
      "Epoch [23/30], Step [30], Loss: 48.1225\n",
      "Epoch [23/30], Step [40], Loss: 47.1004\n",
      "Epoch [23/30], Step [50], Loss: 46.2500\n",
      "Epoch [23/30], Step [60], Loss: 53.5735\n",
      "Epoch [24/30], Step [10], Loss: 55.2888\n",
      "Epoch [24/30], Step [20], Loss: 43.5906\n",
      "Epoch [24/30], Step [30], Loss: 58.3504\n",
      "Epoch [24/30], Step [40], Loss: 42.2919\n",
      "Epoch [24/30], Step [50], Loss: 47.5000\n",
      "Epoch [24/30], Step [60], Loss: 52.3235\n",
      "Epoch [25/30], Step [10], Loss: 43.5547\n",
      "Epoch [25/30], Step [20], Loss: 50.6225\n",
      "Epoch [25/30], Step [30], Loss: 53.5735\n",
      "Epoch [25/30], Step [40], Loss: 54.4411\n",
      "Epoch [25/30], Step [50], Loss: 53.4035\n",
      "Epoch [25/30], Step [60], Loss: 43.7500\n",
      "Epoch [26/30], Step [10], Loss: 48.7500\n",
      "Epoch [26/30], Step [20], Loss: 47.5000\n",
      "Epoch [26/30], Step [30], Loss: 58.2188\n",
      "Epoch [26/30], Step [40], Loss: 42.0806\n",
      "Epoch [26/30], Step [50], Loss: 53.7500\n",
      "Epoch [26/30], Step [60], Loss: 49.0459\n",
      "Epoch [27/30], Step [10], Loss: 46.0419\n",
      "Epoch [27/30], Step [20], Loss: 50.5039\n",
      "Epoch [27/30], Step [30], Loss: 48.5547\n",
      "Epoch [27/30], Step [40], Loss: 45.8306\n",
      "Epoch [27/30], Step [50], Loss: 51.0735\n",
      "Epoch [27/30], Step [60], Loss: 57.3406\n",
      "Epoch [28/30], Step [10], Loss: 40.8504\n",
      "Epoch [28/30], Step [20], Loss: 49.8047\n",
      "Epoch [28/30], Step [30], Loss: 55.7442\n",
      "Epoch [28/30], Step [40], Loss: 49.3725\n",
      "Epoch [28/30], Step [50], Loss: 54.8235\n",
      "Epoch [28/30], Step [60], Loss: 48.7500\n",
      "Epoch [29/30], Step [10], Loss: 54.0045\n",
      "Epoch [29/30], Step [20], Loss: 54.4455\n",
      "Epoch [29/30], Step [30], Loss: 49.6453\n",
      "Epoch [29/30], Step [40], Loss: 38.7500\n",
      "Epoch [29/30], Step [50], Loss: 53.7500\n",
      "Epoch [29/30], Step [60], Loss: 48.7500\n",
      "Epoch [30/30], Step [10], Loss: 53.4035\n",
      "Epoch [30/30], Step [20], Loss: 48.5547\n",
      "Epoch [30/30], Step [30], Loss: 46.0906\n",
      "Epoch [30/30], Step [40], Loss: 47.7229\n",
      "Epoch [30/30], Step [50], Loss: 51.2500\n",
      "Epoch [30/30], Step [60], Loss: 52.3235\n",
      "Finished Training\n"
     ]
    }
   ],
   "source": [
    "num_epochs = 30\n",
    "\n",
    "loss_history = []\n",
    "for epoch in range(num_epochs):\n",
    "    running_loss = 0\n",
    "    for i, batch in enumerate(train_loader):\n",
    "        inputs, labels = batch\n",
    "        labels = torch.unsqueeze(torch.tensor(labels, dtype=torch.float), dim=0)\n",
    "        optimizer.zero_grad()\n",
    "        outputs = model(inputs)\n",
    "        loss = criterion(outputs, labels)\n",
    "        loss.backward()\n",
    "        optimizer.step()\n",
    "        running_loss += loss.item()\n",
    "        if i % 10 == 9:\n",
    "            print(f'Epoch [{epoch + 1}/{num_epochs}], Step [{i + 1}], Loss: {running_loss / 10:.4f}')\n",
    "            loss_history.append(running_loss/10)            \n",
    "            running_loss = 0.0\n",
    "\n",
    "print('Finished Training')\n",
    "\n"
   ]
  },
  {
   "cell_type": "code",
   "execution_count": null,
   "metadata": {},
   "outputs": [],
   "source": []
  }
 ],
 "metadata": {
  "kernelspec": {
   "display_name": "ml_win",
   "language": "python",
   "name": "python3"
  },
  "language_info": {
   "codemirror_mode": {
    "name": "ipython",
    "version": 3
   },
   "file_extension": ".py",
   "mimetype": "text/x-python",
   "name": "python",
   "nbconvert_exporter": "python",
   "pygments_lexer": "ipython3",
   "version": "3.11.10"
  }
 },
 "nbformat": 4,
 "nbformat_minor": 4
}

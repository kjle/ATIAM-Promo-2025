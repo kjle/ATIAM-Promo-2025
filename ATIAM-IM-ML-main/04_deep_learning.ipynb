{
 "cells": [
  {
   "cell_type": "markdown",
   "metadata": {
    "colab_type": "text",
    "id": "GTY-Msjal7zU"
   },
   "source": [
    "# Creative Machine Learning - Deep learning\n",
    "\n",
    "### Author: Philippe Esling (esling@ircam.fr)"
   ]
  },
  {
   "cell_type": "markdown",
   "metadata": {
    "colab_type": "text",
    "id": "Z3M5ezRyrjA3"
   },
   "source": [
    "In this course we will cover\n",
    "1. A brief introduction to [deep learning](#learning) and problems that we face\n",
    "2. A formal presentation of [Auto-Encoders](#ae) (AEs)\n",
    "3. An explanation of how to [implement AEs](#implement) and [layer-wise pretraining](#implement)\n",
    "4. An [more modern application](#application) of AEs as generative models\n",
    "4. An practical exemple of [convolutional denoising AEs](#denoising) for image data **(exercise)**"
   ]
  },
  {
   "cell_type": "markdown",
   "metadata": {},
   "source": [
    "## Deep learning\n",
    "\n",
    "Deep learning is currently the most successful subfield of machine learning that deals with algorithms inspired by the structure and function of the brain through artificial neural networks. It enables computers to learn from vast amounts of data and has revolutionized various fields such as computer vision, natural language processing and speech recognition.\n",
    "\n",
    "## Why deep architectures?\n",
    "Deep architectures are essential because they allow models to learn hierarchical representations from raw input data. These hierarchical representations can capture increasingly complex and abstract features as the network depth increases. This capability enables deep learning models to achieve state-of-the-art results in many tasks, as they can automatically learn to extract relevant features from the input data without relying on hand-engineered features.\n",
    "\n",
    "**References:** \n",
    "- Goodfellow, I., Bengio, Y., & Courville, A. (2016). [Deep Learning](http://www.deeplearningbook.org). MIT Press.\n",
    "\n",
    "## Challenges in deep architectures\n",
    "\n",
    "As seen in the course, there are several impediments in learning deep architectures, namely\n",
    "1. Vanishing gradient\n",
    "2. Overfitting issues\n",
    "3. Multiple local minima\n",
    "4. Instability in the training\n",
    "Here, we briefly discuss the two major problems, namely _vanishing gradient_ and _overfitting_.\n",
    "\n",
    "#### Vanishing gradient\n",
    "One of the main challenges in training deep architectures is the vanishing gradient problem. It occurs when gradients of the loss function with respect to the model parameters become too small as they backpropagate through the layers. This issue leads to slow convergence and poor performance, as the weights in the earlier layers do not get updated significantly during training.\n",
    "\n",
    "#### Overfitting\n",
    "Another challenge in deep learning is overfitting, where the model learns to perform well on the training data but fails to generalize to unseen data. Regularization techniques, such as L1 and L2 regularization, dropout, and weight decay, are used to prevent overfitting by adding constraints to the model or by making the training process more robust.\n",
    "\n",
    "**References:**\n",
    "- Pascanu, R., Mikolov, T., & Bengio, Y. (2013). [On the difficulty of training recurrent neural networks](https://proceedings.mlr.press/v28/pascanu13.html). In International conference on machine learning (pp. 1310-1318).\n",
    "- Srivastava, N., Hinton, G., Krizhevsky, A., Sutskever, I., & Salakhutdinov, R. (2014). [Dropout: A simple way to prevent neural networks from overfitting](http://jmlr.org/papers/v15/srivastava14a.html). Journal of Machine Learning Research, 15(1), 1929-1958.\n",
    "\n",
    "### Layer-wise Pretraining\n",
    "To address the vanishing gradient problem and improve the training of deep architectures, layer-wise pretraining was proposed. In this approach, each layer of the deep architecture is pretrained independently, usually with unsupervised learning methods like autoencoders, before fine-tuning the entire network using supervised learning.\n",
    "\n",
    "**References:**\n",
    "- Hinton, G. E., Osindero, S., & Teh, Y. W. (2006). [A fast learning algorithm for deep belief nets](https://www.cs.toronto.edu/~hinton/absps/fastnc.pdf). Neural computation, 18(7), 1527-1554.\n",
    "- Vincent, P., Larochelle, H., Bengio, Y., & Manzagol, P. A. (2008). [Extracting and composing robust features with denoising autoencoders](https://dl.acm.org/doi/10.1145/1390156.1390294). In Proceedings of the 25th international conference on Machine learning (pp. 1096-1103).\n",
    "\n",
    "\n",
    "#### Autoencoders\n",
    "_Autoencoders_ are unsupervised learning models that learn to reconstruct their input data. They consist of an encoder that maps the input data to a lower-dimensional representation and a decoder that reconstructs the input data from the lower-dimensional representation. Autoencoders can be used to learn useful features from the data and initialize the weights of a deep architecture during layer-wise pretraining. As we have seen, an interesting variant of autoencoders are _denoising autoencoders_ that learn to reconstruct the input data from a corrupted version of it. By learning to recover the original data from the corrupted version, denoising autoencoders can capture more robust and meaningful features. They can be used in layer-wise pretraining to improve the training of deep architectures further."
   ]
  },
  {
   "cell_type": "markdown",
   "metadata": {},
   "source": []
  },
  {
   "cell_type": "markdown",
   "metadata": {},
   "source": [
    "## A brief refresher in Pytorch\n",
    "\n",
    "As we have seen previously, `Pytorch` is a Python-based scientific computing package targeted at deep learning, which provides a very large flexibility and easeness of use for GPU calculation. `Pytorch` is constructed around the concept of `Tensor`, which is very similar to `numpy.ndarray`, but can be seamlessly run on GPU. Here, we provide a more detailed refresher on concepts of `Pytorch`.\n",
    "\n",
    "Here are some examples of different `Tensor` creation"
   ]
  },
  {
   "cell_type": "code",
   "execution_count": 1,
   "metadata": {
    "collapsed": false,
    "jupyter": {
     "outputs_hidden": false
    }
   },
   "outputs": [],
   "source": [
    "import torch\n",
    "# Create a 5 x 3 Tensor of zeros\n",
    "x = torch.empty(5, 3)\n",
    "# Create a 64 x 3 x 32 x 32 random Tensor\n",
    "x = torch.rand(64, 3, 32, 32)\n",
    "# Create a Tensor of zeros with _long_ type\n",
    "x = torch.zeros(10, 10, dtype=torch.long)\n",
    "# Construct a Tensor from the data\n",
    "x = torch.tensor([5.5, 3])"
   ]
  },
  {
   "cell_type": "markdown",
   "metadata": {},
   "source": [
    "or create a tensor based on an existing tensor. These methods\n",
    "will reuse properties of the input tensor, e.g. dtype, unless\n",
    "new values are provided by user\n",
    "\n"
   ]
  },
  {
   "cell_type": "code",
   "execution_count": 2,
   "metadata": {
    "collapsed": false,
    "jupyter": {
     "outputs_hidden": false
    }
   },
   "outputs": [
    {
     "name": "stdout",
     "output_type": "stream",
     "text": [
      "torch.Size([8, 2])\n",
      "8\n",
      "torch.Size([8, 2])\n"
     ]
    }
   ],
   "source": [
    "x = x.new_ones(8, 2, dtype=torch.double)      # new_* methods take in sizes\n",
    "y = torch.randn_like(x, dtype=torch.float)    # override dtype!\n",
    "print(x.size())\n",
    "print(x.shape[0])\n",
    "print(y.shape)"
   ]
  },
  {
   "cell_type": "markdown",
   "metadata": {},
   "source": [
    "#### Arithmetic operations\n",
    "\n",
    "Tensors provide access to a transparent library of arithmetic operations"
   ]
  },
  {
   "cell_type": "code",
   "execution_count": 3,
   "metadata": {
    "collapsed": false,
    "jupyter": {
     "outputs_hidden": false
    }
   },
   "outputs": [
    {
     "name": "stdout",
     "output_type": "stream",
     "text": [
      "tensor([[0.1453, 0.0164],\n",
      "        [0.3382, 0.4834],\n",
      "        [0.0690, 0.1116],\n",
      "        [0.8042, 0.6343],\n",
      "        [0.0045, 0.7089],\n",
      "        [1.2630, 0.8574],\n",
      "        [0.4513, 0.4196],\n",
      "        [0.0199, 0.0786]])\n",
      "tensor([[0.6493, 0.5252, 1.0392, 0.6050],\n",
      "        [1.0383, 0.7245, 1.6167, 1.0892],\n",
      "        [0.4494, 0.3237, 0.7037, 0.4608],\n",
      "        [1.2339, 1.0934, 2.0120, 1.0492],\n",
      "        [0.4360, 0.5537, 0.7762, 0.1942],\n",
      "        [1.2805, 0.9187, 2.0037, 1.3167],\n",
      "        [0.7680, 0.6245, 1.2304, 0.7123],\n",
      "        [0.7408, 0.6224, 1.1946, 0.6657]])\n"
     ]
    }
   ],
   "source": [
    "x = torch.rand(8, 2)\n",
    "y = torch.rand(8, 2)\n",
    "z = torch.rand(2, 4)\n",
    "# Equivalent additions\n",
    "a = (x + y)\n",
    "b = (torch.add(x, y))\n",
    "# Add in place\n",
    "x.add_(y)\n",
    "# Put in target Tensor\n",
    "result = torch.empty(8, 2)\n",
    "torch.add(x, y, out=result)\n",
    "# Element_wise multiplication\n",
    "print(x * y)\n",
    "# Matrix product\n",
    "print(x @ z)"
   ]
  },
  {
   "cell_type": "markdown",
   "metadata": {},
   "source": [
    "#### Slicing and resizing\n",
    "\n",
    "You can slice tensors using the usual Python operators. For resizing and reshaping tensor, you can use ``torch.view`` or ``torch.reshape``"
   ]
  },
  {
   "cell_type": "code",
   "execution_count": 4,
   "metadata": {
    "collapsed": false,
    "jupyter": {
     "outputs_hidden": false
    }
   },
   "outputs": [
    {
     "name": "stdout",
     "output_type": "stream",
     "text": [
      "torch.Size([16, 32, 32])\n",
      "torch.Size([64, 32, 32])\n",
      "torch.Size([4, 4]) torch.Size([16]) torch.Size([2, 8])\n",
      "torch.Size([2, 2, 2, 2])\n"
     ]
    }
   ],
   "source": [
    "#print(x[:, 1])\n",
    "import torch\n",
    "x = torch.zeros(16, 32, 32)\n",
    "x2 = torch.zeros(64, 32, 32)\n",
    "y = x.view(-1, 32, 32)\n",
    "y2 = x2.view(-1, 32, 32)\n",
    "print(y.size())\n",
    "print(y2.size())\n",
    "x = torch.randn(4, 4)\n",
    "y = x.view(16)\n",
    "z = x.view(-1, 8)  # the size -1 is inferred from other dimensions\n",
    "print(x.size(), y.size(), z.size())\n",
    "\n",
    "z = torch.rand(4, 4)\n",
    "z = z.view(-1, 2, 2, 2)\n",
    "print(z.shape)"
   ]
  },
  {
   "cell_type": "markdown",
   "metadata": {},
   "source": [
    "If you have a one element tensor, use ``.item()`` to get the value as a\n",
    "Python number\n",
    "\n"
   ]
  },
  {
   "cell_type": "code",
   "execution_count": 5,
   "metadata": {
    "collapsed": false,
    "jupyter": {
     "outputs_hidden": false
    }
   },
   "outputs": [
    {
     "name": "stdout",
     "output_type": "stream",
     "text": [
      "tensor([0.1945])\n",
      "0.19450917840003967\n"
     ]
    }
   ],
   "source": [
    "x = torch.randn(1)\n",
    "print(x)\n",
    "print(x.item())"
   ]
  },
  {
   "cell_type": "markdown",
   "metadata": {},
   "source": [
    "Tensors have more than **100 operations**, including _transposing, indexing, slicing, mathematical operations, linear algebra, random numbers_, which are all described at [https://pytorch.org/docs/torch](https://pytorch.org/docs/torch)"
   ]
  },
  {
   "cell_type": "markdown",
   "metadata": {},
   "source": [
    "#### Numpy bridge\n",
    "\n",
    "Converting a Torch Tensor to a Numpy array and vice versa is extremely simple. Note that the Pytorch Tensor and Numpy array **will share their underlying memory locations** (if the Tensor is on CPU), and changing one will change the other."
   ]
  },
  {
   "cell_type": "code",
   "execution_count": 6,
   "metadata": {
    "collapsed": false,
    "jupyter": {
     "outputs_hidden": false
    }
   },
   "outputs": [
    {
     "name": "stdout",
     "output_type": "stream",
     "text": [
      "tensor([2., 2., 2., 2., 2.])\n",
      "[2. 2. 2. 2. 2.]\n"
     ]
    }
   ],
   "source": [
    "a = torch.ones(5)\n",
    "b = a.numpy()\n",
    "a.add_(1)\n",
    "print(a)\n",
    "print(b)"
   ]
  },
  {
   "cell_type": "markdown",
   "metadata": {},
   "source": [
    "#### Going GPU\n",
    "\n",
    "Tensors can be moved onto any device using the ``.to`` method."
   ]
  },
  {
   "cell_type": "code",
   "execution_count": 7,
   "metadata": {
    "collapsed": false,
    "jupyter": {
     "outputs_hidden": false
    }
   },
   "outputs": [
    {
     "name": "stdout",
     "output_type": "stream",
     "text": [
      "tensor([1.1945], device='cuda:0')\n",
      "tensor([1.1945], dtype=torch.float64)\n"
     ]
    }
   ],
   "source": [
    "# let us run this cell only if CUDA is available\n",
    "# We will use ``torch.device`` objects to move tensors in and out of GPU\n",
    "if torch.cuda.is_available():\n",
    "    device = torch.device(\"cuda\")          # a CUDA device object\n",
    "    y = torch.ones_like(x, device=device)  # directly create a tensor on GPU\n",
    "    x = x.to(device)                       # or just use strings ``.to(\"cuda\")``\n",
    "    z = x + y\n",
    "    print(z)\n",
    "    print(z.to(\"cpu\", torch.double))       # ``.to`` can also change dtype together!"
   ]
  },
  {
   "cell_type": "markdown",
   "metadata": {},
   "source": [
    "## Computation Graphs\n",
    "\n",
    "The concept of a computation graph is essential to efficient deep learning programming, because it allows you to not have to write the back propagation gradients yourself. A computation graph is simply a specification of how your data is combined to give you the output (the forward pass). Since the graph totally specifies what parameters were involved with which operations, it contains enough information to compute derivatives. \n",
    "\n",
    "The fundamental flag ``requires_grad`` allows to specify which variables are going to need differentiation in all these operations. If ``requires_grad=True``, the Tensor object keeps track of how it was created."
   ]
  },
  {
   "cell_type": "code",
   "execution_count": 8,
   "metadata": {
    "collapsed": false,
    "jupyter": {
     "outputs_hidden": false
    }
   },
   "outputs": [
    {
     "name": "stdout",
     "output_type": "stream",
     "text": [
      "tensor([1., 2., 3.], requires_grad=True)\n",
      "<AddBackward0 object at 0x7f05a022b940>\n",
      "tensor([0.3333, 0.3333, 0.3333])\n"
     ]
    }
   ],
   "source": [
    "# Tensor factory methods have a ``requires_grad`` flag\n",
    "x = torch.tensor([1., 2., 3], requires_grad=True)\n",
    "# With requires_grad=True, we can still do all the operations \n",
    "y = torch.tensor([4., 5., 6], requires_grad=True)\n",
    "print(x)\n",
    "z = x + y\n",
    "out = z.mean(-1)\n",
    "#print(z)\n",
    "# But z now knows something extra.\n",
    "print(z.grad_fn)\n",
    "out.backward()\n",
    "print(y.grad)"
   ]
  },
  {
   "cell_type": "markdown",
   "metadata": {},
   "source": [
    "Therefore, `z` knows that it is the direct result of an addition. Furthermore, if we keep following z.grad_fn, we can even find back both `x` and `y`. But how does that help us compute a gradient?"
   ]
  },
  {
   "cell_type": "code",
   "execution_count": 9,
   "metadata": {
    "collapsed": false,
    "jupyter": {
     "outputs_hidden": false
    }
   },
   "outputs": [
    {
     "name": "stdout",
     "output_type": "stream",
     "text": [
      "tensor(21., grad_fn=<SumBackward0>)\n",
      "<SumBackward0 object at 0x7f05a022b0d0>\n",
      "<AddBackward0 object at 0x7f05a022b400>\n",
      "None\n"
     ]
    }
   ],
   "source": [
    "# Lets sum up all the entries in z\n",
    "s = z.sum()\n",
    "print(s)\n",
    "print(s.grad_fn)\n",
    "print(z.grad_fn)\n",
    "print(x.grad_fn)"
   ]
  },
  {
   "cell_type": "markdown",
   "metadata": {},
   "source": [
    "So now, what is the derivative of this sum with respect to the first\n",
    "component of x? In math, we want\n",
    "\n",
    "\\begin{align}\\frac{\\partial s}{\\partial x_0}\\end{align}\n",
    "\n",
    "\n",
    "\n",
    "Well, s knows that it was created as a sum of the tensor z. z knows\n",
    "that it was the sum x + y. So\n",
    "\n",
    "\\begin{align}s = \\overbrace{x_0 + y_0}^\\text{$z_0$} + \\overbrace{x_1 + y_1}^\\text{$z_1$} + \\overbrace{x_2 + y_2}^\\text{$z_2$}\\end{align}\n",
    "\n",
    "And so s contains enough information to determine that the derivative we want is 1. We can have Pytorch compute the gradient, and see that we were right:\n",
    "\n",
    "**Note** : If you run this block multiple times, the gradient will increment. That is because Pytorch *accumulates* the gradient into the .grad property, since for many models this is very convenient."
   ]
  },
  {
   "cell_type": "code",
   "execution_count": 10,
   "metadata": {
    "collapsed": false,
    "jupyter": {
     "outputs_hidden": false
    }
   },
   "outputs": [
    {
     "name": "stdout",
     "output_type": "stream",
     "text": [
      "tensor([1.3333, 1.3333, 1.3333])\n"
     ]
    }
   ],
   "source": [
    "# calling .backward() on any variable will run backprop, starting from it.\n",
    "s.backward()\n",
    "print(x.grad)"
   ]
  },
  {
   "cell_type": "markdown",
   "metadata": {},
   "source": [
    "Understanding what is going on in the block below is crucial for being a\n",
    "successful programmer in deep learning.\n",
    "\n",
    "\n"
   ]
  },
  {
   "cell_type": "code",
   "execution_count": 11,
   "metadata": {
    "collapsed": false,
    "jupyter": {
     "outputs_hidden": false
    }
   },
   "outputs": [
    {
     "name": "stdout",
     "output_type": "stream",
     "text": [
      "False False\n",
      "None\n",
      "<AddBackward0 object at 0x7f0509817550>\n",
      "True\n",
      "None\n"
     ]
    }
   ],
   "source": [
    "x = torch.randn(2, 2)\n",
    "y = torch.randn(2, 2)\n",
    "# By default, user created Tensors have ``requires_grad=False``\n",
    "print(x.requires_grad, y.requires_grad)\n",
    "z = x + y\n",
    "# So you can't backprop through z\n",
    "print(z.grad_fn)\n",
    "# ``.requires_grad_( ... )`` changes an existing Tensor's ``requires_grad``\n",
    "x = x.requires_grad_()\n",
    "y = y.requires_grad_()\n",
    "# z contains enough information to compute gradients, as we saw above\n",
    "z = x + y\n",
    "print(z.grad_fn)\n",
    "# If any input to an operation has ``requires_grad=True``, so will the output\n",
    "print(z.requires_grad)\n",
    "# Now z has the computation history, which we can **detach**\n",
    "new_z = z.detach()\n",
    "# Which means that we have no gradient attached anymore\n",
    "print(new_z.grad_fn)"
   ]
  },
  {
   "cell_type": "markdown",
   "metadata": {},
   "source": [
    "You can also stop autograd from tracking history on Tensors\n",
    "with ``.requires_grad=True`` by wrapping the code block in\n",
    "``with torch.no_grad():``\n",
    "\n"
   ]
  },
  {
   "cell_type": "code",
   "execution_count": 12,
   "metadata": {
    "collapsed": false,
    "jupyter": {
     "outputs_hidden": false
    }
   },
   "outputs": [
    {
     "name": "stdout",
     "output_type": "stream",
     "text": [
      "True\n",
      "True\n",
      "False\n"
     ]
    }
   ],
   "source": [
    "print(x.requires_grad)\n",
    "print((x ** 2).requires_grad)\n",
    "with torch.no_grad():\n",
    "\tprint((x ** 2).requires_grad)"
   ]
  },
  {
   "cell_type": "markdown",
   "metadata": {},
   "source": [
    "## Defining networks \n",
    "\n",
    "Here, we briefly recall that in `PyTorch`, the `nn` package provides higher-level abstractions over raw computational graphs that are useful for building neural networks. The `nn` package defines a set of `Modules`, which are roughly equivalent to neural network layers. A `Module` receives input `Tensors` and computes output `Tensors`, but may also hold internal state such as `Tensors` containing learnable parameters. In the following example, we use the `nn` package to show how easy it is to instantiate a three-layer network"
   ]
  },
  {
   "cell_type": "code",
   "execution_count": 13,
   "metadata": {},
   "outputs": [],
   "source": [
    "import torch\n",
    "import torch.nn as nn\n",
    "# Define the input dimensions\n",
    "in_size = 1000\n",
    "# Number of neurons in a layer\n",
    "hidden_size = 100\n",
    "# Output (target) dimension\n",
    "output_size = 10\n",
    "# Use the nn package to define our model and loss function.\n",
    "model = torch.nn.Sequential(\n",
    "    nn.Linear(in_size, hidden_size),\n",
    "    nn.ReLU(),\n",
    "    nn.Linear(hidden_size, hidden_size),\n",
    "    nn.Tanh(),\n",
    "    nn.Linear(hidden_size, output_size),\n",
    "    nn.Softmax()\n",
    ")"
   ]
  },
  {
   "cell_type": "markdown",
   "metadata": {},
   "source": [
    "As we have seen in the slides, we can as easily mix between pre-defined modules and arithmetic operations. Here, we will define our very own *residual* layer, and then combine them in a more complex network. To do so, we first define our own `ResidualLayer` (by subclassing `nn.Module`). This type of layer can now be combined inside a full network by simply using `nn.Sequential`."
   ]
  },
  {
   "cell_type": "code",
   "execution_count": 14,
   "metadata": {},
   "outputs": [],
   "source": [
    "class ResidualLayer(nn.Module):\n",
    "    def __init__(self, dim, dim_res=32):\n",
    "        super().__init__()\n",
    "        self.block = nn.Sequential(\n",
    "            nn.Conv2d(dim, dim_res, 3, 1, 1),\n",
    "            nn.ReLU(True),\n",
    "            nn.Conv2d(dim_res, dim, 1),\n",
    "            nn.ReLU(True)\n",
    "        )\n",
    "\n",
    "    def forward(self, x):\n",
    "        # Perform main residual action\n",
    "        return x + self.block(x)\n",
    "\n",
    "model = nn.Sequential(\n",
    "\tResidualLayer(64, 32),\n",
    "\tResidualLayer(64, 32),\n",
    ")"
   ]
  },
  {
   "cell_type": "markdown",
   "metadata": {},
   "source": [
    "# Autoencoders and layer-wise training\n",
    "\n",
    "Here, we discuss the implementation of a deep autoencoder using PyTorch, focusing on layer-wise training. Autoencoders are unsupervised learning models that can learn useful features from the input data. They consist of an encoder, which maps the input data to a lower-dimensional representation, and a decoder, which reconstructs the input data from the lower-dimensional representation. _Deep autoencoders_ are multi-layer autoencoders that can learn more abstract and complex features from the input data. To learn such models, _layer-wise training_ was historically used as a technique to help overcome the vanishing gradient problem and initializes the network with better weights, leading to improved performance. Hence, we aim to _pretrain each layer individually_ in an **unsupervised** manner, followed by fine-tuning the entire network with _supervised learning."
   ]
  },
  {
   "cell_type": "markdown",
   "metadata": {},
   "source": [
    "<a id=\"generative\"></a>\n",
    "## Types of learning\n",
    "\n",
    "### Supervised refresher\n",
    "\n",
    "Until now, we have mostly discussed models that are developed for _supervised_ and _discriminative_ tasks. To formalize this problem, we have a set of data $\\{\\mathbf{x}_{i}, \\mathbf{y}_{i}\\}_{i\\in[1,n]}$, where the $\\mathbf{x}_{i}$ and $\\mathbf{y}_{i}$ are linked. Therefore, we want to approximate this relation through\n",
    "\\begin{equation}\n",
    "    \\mathbf{\\hat{y}} = \\mathcal{F}_\\mathbf{\\theta}(\\mathbf{x})  \n",
    "\\end{equation}\n",
    "where we train the parameters $\\mathbf{\\theta}$ so that $\\mathbf{\\hat{y}}\\approx\\mathbf{y}$. The existence of a label $\\mathbf{y}$ (\"correct answer\") defines a _supervised_ problem"
   ]
  },
  {
   "cell_type": "markdown",
   "metadata": {},
   "source": [
    "### Going unsupervised\n",
    "\n",
    "In some cases, we might only have a set of data $\\{\\mathbf{x}_{i}\\}_{i\\in[1,n]}$, and still be interested in learning some underlying properties or structure of this set. In that case, the problem is _unsupervised_ as we have to learn without a given answer. \n",
    "\n",
    "Here, we can turn to _generative_ models [[1](#reference1)], which allows to create new data instances based on the observation of existing examples. Although these models are more naturally defined in a _probabilistic way_ (as we will see later when we dwelve in generative models), we will assume that we have some simple _code_ $\\mathbf{z}$, which allows to control the properties of the generation, and need to learn\n",
    "\\begin{equation}\n",
    "    \\mathbf{\\hat{x}} = \\mathcal{F}_\\mathbf{\\theta}(\\mathbf{z})  \n",
    "\\end{equation}\n",
    "where we still need to learn $\\mathbf{\\theta}$, so that $\\mathbf{\\hat{x}}$ have similar properties to that of the examples in $\\{\\mathbf{x}_{i}\\}_{i\\in[1,n]}$."
   ]
  },
  {
   "cell_type": "markdown",
   "metadata": {
    "colab_type": "text",
    "id": "Kg83oWxMm92f"
   },
   "source": [
    "<a id=\"ae\"></a>\n",
    "\n",
    "## Auto-encoders\n",
    "\n",
    "One way to understand a set of data is to try to _compress_, or _simplify_ the corresponding dataset. So the idea is to learn simultaneously how to _encode_ our unlabeled input $\\{\\mathbf{x}_{i}\\}_{i\\in[1,n]}$ and to _decode_ the corresponding representation. This idea give rise to the notion of **auto-encoder**. \n",
    "\n",
    "### Architecture \n",
    "\n",
    "The auto-encoder is an unsupervised architecture originally proposed to perform _dimensionality reduction_ [[3](#reference3)]. As its name indicates, we will try to train this model to learn an efficient _encoding_ $\\mathbf{z}$ of unlabeled input data $\\mathbf{x}$. The only way to learn efficient parameters is to also learn a _decoding_ function to _reconstruct_ $\\mathbf{x}$ from $\\mathbf{z}$.\n",
    "\n",
    "<img src=\"images/auto_encoder.png\"/>\n",
    "\n",
    "As shown here, a first model $\\mathcal{E}_\\phi$ _encodes_ the input into a _latent code_ $\\mathbf{z}$ in order to provide a low-dimensional representation of the data. A second model $\\mathcal{D}_\\theta$ designated as the _decoder_ aims to generate outputs from $\\mathbf{z}$ that are as close to the original inputs as possible."
   ]
  },
  {
   "cell_type": "markdown",
   "metadata": {},
   "source": [
    "### Formal definition\n",
    "\n",
    "The latent code $\\mathbf{z}$ can be seen as a compressed abstract representation, and may be used as an intermediate space for analysis or generation. This helps to govern the distribution of the data through a simpler and higher-level representation, while enhancing the _expressiveness_ of the generative model.\n",
    "The behaviour of an auto-encoder can be formalized as:\n",
    "\n",
    "$$\n",
    "\\begin{align}\n",
    "\\mathbf{z} &= \\mathcal{E}_\\phi(\\mathbf{x}) \\\\\n",
    "\\mathbf{\\hat{x}} &= \\mathcal{D}_\\theta(\\mathbf{z})  \n",
    "\\end{align}\n",
    "$$\n",
    "\n",
    "with the _encoder_ $\\mathcal{E}_\\phi$ and _decoder_ $\\mathcal{D}_\\theta$ functions parameterized respectively by $\\phi$ and $\\theta$. As we can see this defines the reconstruction relationship\n",
    "$$\n",
    "    \\mathbf{\\hat{x}} = \\mathcal{D}_\\theta(\\mathcal{E}_\\phi(\\mathbf{x}))  \n",
    "$$"
   ]
  },
  {
   "cell_type": "markdown",
   "metadata": {},
   "source": [
    "### Training\n",
    "\n",
    "The training of an auto-encoder consists in finding the optimal functions of encoding $\\mathcal{E}^*$ and decoding $\\mathcal{D}^*$ by evaluating the \\textit{reconstruction error} $\\mathcal{L}$ between $\\mathbf{x}$ and $\\mathbf{\\hat{x}}$, such that\n",
    "\\begin{equation}\n",
    "    \\mathcal{E}^*, \\mathcal{D}^* = arg\\,min_{ \\phi, \\theta}{\\mathcal{L}}(\\mathbf{x}, \\mathcal{D}_\\theta(\\mathcal{E}_\\phi(\\mathbf{x})))\n",
    "\\end{equation}\n",
    "\n",
    "As the latent space usually has a smaller dimensionality than the input, it acts as an incentive for the network to find the main attributes of variations in the dataset (and also explains its use for _dimensionality reduction_)."
   ]
  },
  {
   "cell_type": "markdown",
   "metadata": {},
   "source": [
    "### Variants and discussion\n",
    "\n",
    "There are several variants of auto-encoders, such as denoising auto-encoders or variational auto-encoders. Each address some downside of the basic AE model. For instance, the deterministic nature of the basic auto-encoder implies a point-wise mapping of the latent space, meaning that not all the latent positions can be leveraged to produce relevant reconstructions. Because of this reason, there is no way to ensure that the latent space could allow a robust generalization and that any random $\\mathbf{z}$ would generate a meaningful output."
   ]
  },
  {
   "cell_type": "markdown",
   "metadata": {
    "colab_type": "text",
    "id": "cAxMjUCBUa43"
   },
   "source": [
    "<a id=\"implement\"> </a>\n",
    "\n",
    "## Implementation\n",
    "\n",
    "Here, we discuss how we can implement and train a simple auto-encoder network in Pytorch. As discussed earlier, an AE is composed of two parts, an **encoder** and a **decoder**. The goal of the encoder is to \"compress\" the dataset, representing its principal features with a very small code, while the goal of the decoder is to learn how to reproduce the initial input from this code. Hence, we will first need to use some basic imports and definition to setup our problem"
   ]
  },
  {
   "cell_type": "markdown",
   "metadata": {
    "id": "e1_Y75QXJS6h"
   },
   "source": [
    "### Import Pytorch and other libraries"
   ]
  },
  {
   "cell_type": "code",
   "execution_count": 4,
   "metadata": {
    "id": "YfIk2es3hJEd"
   },
   "outputs": [],
   "source": [
    "import matplotlib.pyplot as plt\n",
    "import numpy as np\n",
    "import pandas as pd\n",
    "import torch\n",
    "import torch.nn as nn\n",
    "import torchvision\n",
    "# from cml.plot import initialize_bokeh\n",
    "# from cml.panel import initialize_panel\n",
    "# from jupyterthemes.stylefx import set_nb_theme\n",
    "# from bokeh.io import show\n",
    "# initialize_bokeh()\n",
    "# initialize_panel()\n",
    "# set_nb_theme(\"onedork\")\n",
    "rng = np.random.RandomState(1)"
   ]
  },
  {
   "cell_type": "markdown",
   "metadata": {
    "id": "iYn4MdZnKCey"
   },
   "source": [
    "### Load the dataset\n",
    "\n",
    "To start with a pragmatic and simple to understand example, we  will try to train the basic AE using the Fashion MNIST dataset. This dataset contains images of size 28x28 pixels, with different pieces of clothing. The following code allows to load (and eventually download) the dataset, by using the `torchvision.datasets` module. We also plot some randomly selected test examples"
   ]
  },
  {
   "cell_type": "code",
   "execution_count": 5,
   "metadata": {
    "id": "YZm503-I_tji"
   },
   "outputs": [],
   "source": [
    "import matplotlib\n",
    "dataset_dir = './data'\n",
    "# Going to use 80%/20% split for train/valid\n",
    "valid_ratio = 0.2\n",
    "# Load the dataset for the training/validation sets\n",
    "train_valid_dataset = torchvision.datasets.FashionMNIST(root=dataset_dir, train=True, transform=torchvision.transforms.ToTensor(), download=True)\n",
    "# Split it into training and validation sets\n",
    "nb_train = int((1.0 - valid_ratio) * len(train_valid_dataset))\n",
    "nb_valid =  int(valid_ratio * len(train_valid_dataset))\n",
    "train_dataset, valid_dataset = torch.utils.data.dataset.random_split(train_valid_dataset, [nb_train, nb_valid])\n",
    "# Load the test set\n",
    "test_dataset = torchvision.datasets.FashionMNIST(root=dataset_dir, transform=torchvision.transforms.ToTensor(),train=False)\n",
    "# Prepare \n",
    "num_threads = 4     # Loading the dataset is using 4 CPU threads\n",
    "batch_size  = 128   # Using minibatches of 128 samples\n",
    "train_loader = torch.utils.data.DataLoader(dataset=train_dataset, batch_size=batch_size, num_workers=num_threads)\n",
    "valid_loader = torch.utils.data.DataLoader(dataset=valid_dataset, batch_size=batch_size, shuffle=False, num_workers=num_threads)\n",
    "test_loader = torch.utils.data.DataLoader(dataset=test_dataset,batch_size=batch_size,shuffle=False,num_workers=num_threads)"
   ]
  },
  {
   "cell_type": "markdown",
   "metadata": {},
   "source": [
    "Here, we are going to check the properties of our different sets and also plot some random examples, in order to better understand what type of data we will be working with."
   ]
  },
  {
   "cell_type": "code",
   "execution_count": 6,
   "metadata": {},
   "outputs": [
    {
     "name": "stdout",
     "output_type": "stream",
     "text": [
      "The train set contains 48000 images, in 375 batches\n",
      "The validation set contains 12000 images, in 94 batches\n",
      "The test set contains 10000 images, in 79 batches\n"
     ]
    },
    {
     "data": {
      "image/png": "[encoded data removed]",
      "text/plain": [
       "<Figure size 2000x500 with 10 Axes>"
      ]
     },
     "metadata": {},
     "output_type": "display_data"
    }
   ],
   "source": [
    "print(\"The train set contains {} images, in {} batches\".format(len(train_loader.dataset), len(train_loader)))\n",
    "print(\"The validation set contains {} images, in {} batches\".format(len(valid_loader.dataset), len(valid_loader)))\n",
    "print(\"The test set contains {} images, in {} batches\".format(len(test_loader.dataset), len(test_loader)))\n",
    "nsamples = 10\n",
    "classes_names = ['T-shirt/top', 'Trouser', 'Pullover', 'Dress', 'Coat', 'Sandal','Shirt', 'Sneaker', 'Bag', 'Ankle boot']\n",
    "imgs_test, labels = next(iter(train_loader))\n",
    "fig = plt.figure(figsize=(20,5))\n",
    "for i in range(nsamples):\n",
    "    ax = plt.subplot(1,nsamples, i+1)\n",
    "    plt.imshow(imgs_test[i, 0, :, :], vmin=0, vmax=1.0, cmap=matplotlib.cm.gray)\n",
    "    ax.set_title(\"{}\".format(classes_names[labels[i]]), fontsize=15)\n",
    "    ax.get_xaxis().set_visible(False)\n",
    "    ax.get_yaxis().set_visible(False)"
   ]
  },
  {
   "cell_type": "markdown",
   "metadata": {},
   "source": [
    "<a name=\"architecture\"></a>\n",
    "\n",
    "### Define the deep autoencoding architecture\n",
    "\n",
    "First, we will define the deep autoencoder architecture as a guideline to what we are aiming to train by creating a custom nn.Module class. The autoencoder will have multiple hidden layers in both the encoder and decoder."
   ]
  },
  {
   "cell_type": "code",
   "execution_count": 7,
   "metadata": {},
   "outputs": [],
   "source": [
    "class DeepAutoencoder(nn.Module):\n",
    "    def __init__(self):\n",
    "        super(DeepAutoencoder, self).__init__()\n",
    "        # Encoder\n",
    "        self.encoder = nn.Sequential(\n",
    "            nn.Linear(28 * 28, 128),\n",
    "            nn.BatchNorm1d(128),\n",
    "            nn.ReLU(),\n",
    "            nn.Dropout1d(0.3),\n",
    "\n",
    "            nn.Linear(128, 128),\n",
    "            nn.ReLU(),\n",
    "            nn.Dropout1d(0.3),\n",
    "\n",
    "            nn.Linear(128, 64),\n",
    "            nn.ReLU(),\n",
    "            nn.Dropout1d(0.3),\n",
    "\n",
    "            nn.Linear(64, 64),\n",
    "            nn.ReLU(),\n",
    "            nn.Dropout1d(0.3),\n",
    "            \n",
    "            nn.Linear(64, 32),\n",
    "            nn.ReLU()\n",
    "        )\n",
    "        # Decoder\n",
    "        self.decoder = nn.Sequential(\n",
    "            nn.Linear(32, 64),\n",
    "            nn.ReLU(),\n",
    "\n",
    "            nn.Linear(64, 64),\n",
    "            nn.ReLU(),\n",
    "\n",
    "            nn.Linear(64, 128),\n",
    "            nn.ReLU(),\n",
    "\n",
    "            nn.Linear(128, 128),\n",
    "            nn.ReLU(),\n",
    "            \n",
    "            nn.Linear(128, 28 * 28),\n",
    "            nn.Sigmoid()\n",
    "        )\n",
    "\n",
    "    def forward(self, x):\n",
    "        x = self.encoder(x)\n",
    "        x = self.decoder(x)\n",
    "        return x"
   ]
  },
  {
   "cell_type": "markdown",
   "metadata": {},
   "source": [
    "<a name=\"pretraining\"></a>\n",
    "### Layer-wise pretraining\n",
    "\n",
    "In this section, we will perform layer-wise pretraining of the deep autoencoder. We will train each layer individually as a shallow autoencoder, with its own encoder and decoder.\n",
    "\n",
    "***\n",
    "\n",
    "<div class=\"alert alert-success\" markdown=\"1\" style=\"color:white; background-color: #013220; border-color: #03C03C\">\n",
    "\n",
    "> ### Question 1.1 - Implementing the **layer-wise pretraining**\n",
    "\n",
    "> 1. Complete the `pretrain_layer` function that performs the pretraining of a given layer\n",
    ">    * Define the architecture of a single autoencoder\n",
    ">    * Create a criterion and optimizer\n",
    ">    * **Obtain the encoded features from previously trained layers**\n",
    "> 2. Update the training loop to learn the weights of both layers.\n",
    "\n",
    "</div>\n",
    "\n",
    "***"
   ]
  },
  {
   "cell_type": "code",
   "execution_count": 8,
   "metadata": {},
   "outputs": [
    {
     "name": "stdout",
     "output_type": "stream",
     "text": [
      "Pretraining layer 1\n",
      "Epoch [1/50], Loss: 0.0221\n",
      "Epoch [2/50], Loss: 0.0181\n",
      "Epoch [3/50], Loss: 0.0163\n",
      "Epoch [4/50], Loss: 0.0156\n",
      "Epoch [5/50], Loss: 0.0152\n",
      "Epoch [6/50], Loss: 0.0149\n",
      "Epoch [7/50], Loss: 0.0147\n",
      "Epoch [8/50], Loss: 0.0145\n",
      "Epoch [9/50], Loss: 0.0144\n",
      "Epoch [10/50], Loss: 0.0143\n",
      "Epoch [11/50], Loss: 0.0142\n",
      "Epoch [12/50], Loss: 0.0141\n",
      "Epoch [13/50], Loss: 0.0141\n",
      "Epoch [14/50], Loss: 0.0140\n",
      "Epoch [15/50], Loss: 0.0140\n",
      "Epoch [16/50], Loss: 0.0140\n",
      "Epoch [17/50], Loss: 0.0139\n",
      "Epoch [18/50], Loss: 0.0139\n",
      "Epoch [19/50], Loss: 0.0139\n",
      "Epoch [20/50], Loss: 0.0139\n",
      "Epoch [21/50], Loss: 0.0139\n",
      "Epoch [22/50], Loss: 0.0139\n",
      "Epoch [23/50], Loss: 0.0138\n",
      "Epoch [24/50], Loss: 0.0138\n",
      "Epoch [25/50], Loss: 0.0138\n",
      "Epoch [26/50], Loss: 0.0138\n",
      "Epoch [27/50], Loss: 0.0138\n",
      "Epoch [28/50], Loss: 0.0138\n",
      "Epoch [29/50], Loss: 0.0138\n",
      "Epoch [30/50], Loss: 0.0138\n",
      "Epoch [31/50], Loss: 0.0138\n",
      "Epoch [32/50], Loss: 0.0138\n",
      "Epoch [33/50], Loss: 0.0138\n",
      "Epoch [34/50], Loss: 0.0138\n",
      "Epoch [35/50], Loss: 0.0138\n",
      "Epoch [36/50], Loss: 0.0137\n",
      "Epoch [37/50], Loss: 0.0137\n",
      "Epoch [38/50], Loss: 0.0137\n",
      "Epoch [39/50], Loss: 0.0137\n",
      "Epoch [40/50], Loss: 0.0137\n",
      "Epoch [41/50], Loss: 0.0137\n",
      "Epoch [42/50], Loss: 0.0137\n",
      "Epoch [43/50], Loss: 0.0137\n",
      "Epoch [44/50], Loss: 0.0137\n",
      "Epoch [45/50], Loss: 0.0137\n",
      "Epoch [46/50], Loss: 0.0137\n",
      "Epoch [47/50], Loss: 0.0137\n",
      "Epoch [48/50], Loss: 0.0137\n",
      "Epoch [49/50], Loss: 0.0137\n",
      "Epoch [50/50], Loss: 0.0137\n",
      "Pretraining layer 2\n",
      "Epoch [1/50], Loss: 0.0598\n",
      "Epoch [2/50], Loss: 0.0404\n",
      "Epoch [3/50], Loss: 0.0337\n",
      "Epoch [4/50], Loss: 0.0306\n",
      "Epoch [5/50], Loss: 0.0293\n",
      "Epoch [6/50], Loss: 0.0289\n",
      "Epoch [7/50], Loss: 0.0284\n",
      "Epoch [8/50], Loss: 0.0277\n",
      "Epoch [9/50], Loss: 0.0276\n",
      "Epoch [10/50], Loss: 0.0274\n",
      "Epoch [11/50], Loss: 0.0272\n",
      "Epoch [12/50], Loss: 0.0270\n",
      "Epoch [13/50], Loss: 0.0270\n",
      "Epoch [14/50], Loss: 0.0270\n",
      "Epoch [15/50], Loss: 0.0268\n",
      "Epoch [16/50], Loss: 0.0268\n",
      "Epoch [17/50], Loss: 0.0267\n",
      "Epoch [18/50], Loss: 0.0267\n",
      "Epoch [19/50], Loss: 0.0267\n",
      "Epoch [20/50], Loss: 0.0267\n",
      "Epoch [21/50], Loss: 0.0267\n",
      "Epoch [22/50], Loss: 0.0265\n",
      "Epoch [23/50], Loss: 0.0265\n",
      "Epoch [24/50], Loss: 0.0265\n",
      "Epoch [25/50], Loss: 0.0266\n",
      "Epoch [26/50], Loss: 0.0266\n",
      "Epoch [27/50], Loss: 0.0266\n",
      "Epoch [28/50], Loss: 0.0266\n",
      "Epoch [29/50], Loss: 0.0266\n",
      "Epoch [30/50], Loss: 0.0266\n",
      "Epoch [31/50], Loss: 0.0266\n",
      "Epoch [32/50], Loss: 0.0266\n",
      "Epoch [33/50], Loss: 0.0266\n",
      "Epoch [34/50], Loss: 0.0266\n",
      "Epoch [35/50], Loss: 0.0266\n",
      "Epoch [36/50], Loss: 0.0266\n",
      "Epoch [37/50], Loss: 0.0266\n",
      "Epoch [38/50], Loss: 0.0266\n",
      "Epoch [39/50], Loss: 0.0266\n",
      "Epoch [40/50], Loss: 0.0266\n",
      "Epoch [41/50], Loss: 0.0266\n",
      "Epoch [42/50], Loss: 0.0266\n",
      "Epoch [43/50], Loss: 0.0266\n",
      "Epoch [44/50], Loss: 0.0266\n",
      "Epoch [45/50], Loss: 0.0266\n",
      "Epoch [46/50], Loss: 0.0266\n",
      "Epoch [47/50], Loss: 0.0266\n",
      "Epoch [48/50], Loss: 0.0266\n",
      "Epoch [49/50], Loss: 0.0266\n",
      "Epoch [50/50], Loss: 0.0266\n",
      "Pretraining layer 3\n",
      "Epoch [1/50], Loss: 0.1085\n",
      "Epoch [2/50], Loss: 0.0905\n",
      "Epoch [3/50], Loss: 0.0746\n",
      "Epoch [4/50], Loss: 0.0594\n",
      "Epoch [5/50], Loss: 0.0443\n",
      "Epoch [6/50], Loss: 0.0428\n",
      "Epoch [7/50], Loss: 0.0422\n",
      "Epoch [8/50], Loss: 0.0419\n",
      "Epoch [9/50], Loss: 0.0416\n",
      "Epoch [10/50], Loss: 0.0408\n",
      "Epoch [11/50], Loss: 0.0407\n",
      "Epoch [12/50], Loss: 0.0401\n",
      "Epoch [13/50], Loss: 0.0400\n",
      "Epoch [14/50], Loss: 0.0399\n",
      "Epoch [15/50], Loss: 0.0399\n",
      "Epoch [16/50], Loss: 0.0399\n",
      "Epoch [17/50], Loss: 0.0398\n",
      "Epoch [18/50], Loss: 0.0398\n",
      "Epoch [19/50], Loss: 0.0398\n",
      "Epoch [20/50], Loss: 0.0398\n",
      "Epoch [21/50], Loss: 0.0398\n",
      "Epoch [22/50], Loss: 0.0397\n",
      "Epoch [23/50], Loss: 0.0397\n",
      "Epoch [24/50], Loss: 0.0397\n",
      "Epoch [25/50], Loss: 0.0397\n",
      "Epoch [26/50], Loss: 0.0397\n",
      "Epoch [27/50], Loss: 0.0397\n",
      "Epoch [28/50], Loss: 0.0397\n",
      "Epoch [29/50], Loss: 0.0396\n",
      "Epoch [30/50], Loss: 0.0396\n",
      "Epoch [31/50], Loss: 0.0396\n",
      "Epoch [32/50], Loss: 0.0396\n",
      "Epoch [33/50], Loss: 0.0396\n",
      "Epoch [34/50], Loss: 0.0396\n",
      "Epoch [35/50], Loss: 0.0396\n",
      "Epoch [36/50], Loss: 0.0396\n",
      "Epoch [37/50], Loss: 0.0396\n",
      "Epoch [38/50], Loss: 0.0396\n",
      "Epoch [39/50], Loss: 0.0396\n",
      "Epoch [40/50], Loss: 0.0396\n",
      "Epoch [41/50], Loss: 0.0396\n",
      "Epoch [42/50], Loss: 0.0396\n",
      "Epoch [43/50], Loss: 0.0396\n",
      "Epoch [44/50], Loss: 0.0396\n",
      "Epoch [45/50], Loss: 0.0396\n",
      "Epoch [46/50], Loss: 0.0396\n",
      "Epoch [47/50], Loss: 0.0396\n",
      "Epoch [48/50], Loss: 0.0396\n",
      "Epoch [49/50], Loss: 0.0396\n",
      "Epoch [50/50], Loss: 0.0396\n",
      "Pretraining layer 4\n",
      "Epoch [1/50], Loss: 0.0741\n",
      "Epoch [2/50], Loss: 0.0559\n",
      "Epoch [3/50], Loss: 0.0505\n",
      "Epoch [4/50], Loss: 0.0502\n",
      "Epoch [5/50], Loss: 0.0502\n",
      "Epoch [6/50], Loss: 0.0263\n",
      "Epoch [7/50], Loss: 0.0262\n",
      "Epoch [8/50], Loss: 0.0262\n",
      "Epoch [9/50], Loss: 0.0262\n",
      "Epoch [10/50], Loss: 0.0262\n",
      "Epoch [11/50], Loss: 0.0262\n",
      "Epoch [12/50], Loss: 0.0262\n",
      "Epoch [13/50], Loss: 0.0262\n",
      "Epoch [14/50], Loss: 0.0262\n",
      "Epoch [15/50], Loss: 0.0262\n",
      "Epoch [16/50], Loss: 0.0262\n",
      "Epoch [17/50], Loss: 0.0262\n",
      "Epoch [18/50], Loss: 0.0262\n",
      "Epoch [19/50], Loss: 0.0262\n",
      "Epoch [20/50], Loss: 0.0262\n",
      "Epoch [21/50], Loss: 0.0262\n",
      "Epoch [22/50], Loss: 0.0262\n",
      "Epoch [23/50], Loss: 0.0262\n",
      "Epoch [24/50], Loss: 0.0262\n",
      "Epoch [25/50], Loss: 0.0262\n",
      "Epoch [26/50], Loss: 0.0262\n",
      "Epoch [27/50], Loss: 0.0262\n",
      "Epoch [28/50], Loss: 0.0262\n",
      "Epoch [29/50], Loss: 0.0262\n",
      "Epoch [30/50], Loss: 0.0262\n",
      "Epoch [31/50], Loss: 0.0262\n",
      "Epoch [32/50], Loss: 0.0262\n",
      "Epoch [33/50], Loss: 0.0262\n",
      "Epoch [34/50], Loss: 0.0262\n",
      "Epoch [35/50], Loss: 0.0262\n",
      "Epoch [36/50], Loss: 0.0262\n",
      "Epoch [37/50], Loss: 0.0262\n",
      "Epoch [38/50], Loss: 0.0262\n",
      "Epoch [39/50], Loss: 0.0262\n",
      "Epoch [40/50], Loss: 0.0262\n",
      "Epoch [41/50], Loss: 0.0262\n",
      "Epoch [42/50], Loss: 0.0262\n",
      "Epoch [43/50], Loss: 0.0262\n",
      "Epoch [44/50], Loss: 0.0262\n",
      "Epoch [45/50], Loss: 0.0262\n",
      "Epoch [46/50], Loss: 0.0262\n",
      "Epoch [47/50], Loss: 0.0262\n",
      "Epoch [48/50], Loss: 0.0262\n",
      "Epoch [49/50], Loss: 0.0262\n",
      "Epoch [50/50], Loss: 0.0262\n",
      "Pretraining layer 5\n",
      "Epoch [1/50], Loss: 0.1454\n",
      "Epoch [2/50], Loss: 0.1204\n",
      "Epoch [3/50], Loss: 0.0880\n",
      "Epoch [4/50], Loss: 0.0838\n",
      "Epoch [5/50], Loss: 0.0801\n",
      "Epoch [6/50], Loss: 0.0785\n",
      "Epoch [7/50], Loss: 0.0778\n",
      "Epoch [8/50], Loss: 0.0774\n",
      "Epoch [9/50], Loss: 0.0391\n",
      "Epoch [10/50], Loss: 0.0379\n",
      "Epoch [11/50], Loss: 0.0375\n",
      "Epoch [12/50], Loss: 0.0373\n",
      "Epoch [13/50], Loss: 0.0371\n",
      "Epoch [14/50], Loss: 0.0370\n",
      "Epoch [15/50], Loss: 0.0369\n",
      "Epoch [16/50], Loss: 0.0368\n",
      "Epoch [17/50], Loss: 0.0368\n",
      "Epoch [18/50], Loss: 0.0367\n",
      "Epoch [19/50], Loss: 0.0367\n",
      "Epoch [20/50], Loss: 0.0366\n",
      "Epoch [21/50], Loss: 0.0366\n",
      "Epoch [22/50], Loss: 0.0366\n",
      "Epoch [23/50], Loss: 0.0365\n",
      "Epoch [24/50], Loss: 0.0365\n",
      "Epoch [25/50], Loss: 0.0365\n",
      "Epoch [26/50], Loss: 0.0365\n",
      "Epoch [27/50], Loss: 0.0365\n",
      "Epoch [28/50], Loss: 0.0365\n",
      "Epoch [29/50], Loss: 0.0365\n",
      "Epoch [30/50], Loss: 0.0365\n",
      "Epoch [31/50], Loss: 0.0365\n",
      "Epoch [32/50], Loss: 0.0365\n",
      "Epoch [33/50], Loss: 0.0365\n",
      "Epoch [34/50], Loss: 0.0365\n",
      "Epoch [35/50], Loss: 0.0365\n",
      "Epoch [36/50], Loss: 0.0365\n",
      "Epoch [37/50], Loss: 0.0365\n",
      "Epoch [38/50], Loss: 0.0364\n",
      "Epoch [39/50], Loss: 0.0364\n",
      "Epoch [40/50], Loss: 0.0364\n",
      "Epoch [41/50], Loss: 0.0364\n",
      "Epoch [42/50], Loss: 0.0364\n",
      "Epoch [43/50], Loss: 0.0364\n",
      "Epoch [44/50], Loss: 0.0364\n",
      "Epoch [45/50], Loss: 0.0364\n",
      "Epoch [46/50], Loss: 0.0364\n",
      "Epoch [47/50], Loss: 0.0364\n",
      "Epoch [48/50], Loss: 0.0364\n",
      "Epoch [49/50], Loss: 0.0364\n",
      "Epoch [50/50], Loss: 0.0364\n"
     ]
    }
   ],
   "source": [
    "device = torch.device(\"cuda\" if torch.cuda.is_available() else \"cpu\")\n",
    "# Function for layer-wise pretraining\n",
    "\n",
    "class ShallowAutoencoder(nn.Module):\n",
    "    def __init__(self, input_size, output_size):\n",
    "        super(ShallowAutoencoder, self).__init__()\n",
    "        self.encoder = nn.Sequential(\n",
    "            nn.Linear(input_size, output_size),\n",
    "            nn.ReLU()\n",
    "        )\n",
    "        self.decoder = nn.Sequential(\n",
    "            nn.Linear(output_size, input_size),\n",
    "            nn.ReLU()\n",
    "        )\n",
    "\n",
    "    def forward(self, x):\n",
    "        encoded = self.encoder(x)\n",
    "        decoded = self.decoder(encoded)\n",
    "        return encoded, decoded\n",
    "\n",
    "def pretrain_layer(pretrained_layers, layer_id, layer_in, layer_out, train_loader, num_epochs=50):\n",
    "\n",
    "    # Define the shallow autoencoder architecture\n",
    "    shallow_autoencoder = ShallowAutoencoder(layer_in, layer_out).to(device)\n",
    "    # Our training criterion and optimizer\n",
    "    criterion = nn.MSELoss()\n",
    "    optimizer = torch.optim.Adam(shallow_autoencoder.parameters(), lr=0.001)\n",
    "    \n",
    "    # Training loop\n",
    "    for epoch in range(num_epochs):\n",
    "        for batch_features, _ in train_loader:\n",
    "            batch_encoded = torch.flatten(batch_features, start_dim=1).to(device)\n",
    "            # batch_encoded = batch_features.view(-1, 28 * 28).to(device)\n",
    "            # Forward pass\n",
    "            for layer in pretrained_layers:\n",
    "                batch_encoded, _ = layer(batch_encoded)\n",
    "\n",
    "            optimizer.zero_grad()\n",
    "            _, batch_decoded = shallow_autoencoder(batch_encoded)\n",
    "            loss = criterion(batch_decoded, batch_encoded)\n",
    "            loss.backward()\n",
    "            optimizer.step()\n",
    "        # Print the corresponding advances\n",
    "        print(f\"Epoch [{epoch+1}/{num_epochs}], Loss: {loss.item():.4f}\")\n",
    "\n",
    "    # Return the trained shallow autoencoder\n",
    "    return shallow_autoencoder\n",
    "\n",
    "# Pretrain each layer of the autoencoder\n",
    "pretrained_layers = []\n",
    "input_sizes = [28 * 28, 128, 128, 64, 64]\n",
    "output_sizes = [128, 128, 64, 64, 32]\n",
    "for i in range(len(input_sizes)):\n",
    "    print(f\"Pretraining layer {i+1}\")\n",
    "    pretrained_layer = pretrain_layer(pretrained_layers, i, input_sizes[i], output_sizes[i], train_loader)\n",
    "    pretrained_layers.append(pretrained_layer)"
   ]
  },
  {
   "cell_type": "markdown",
   "metadata": {},
   "source": [
    "<a name=\"finetuning\"></a>\n",
    "### Fine-tuning the Autoencoder\n",
    "\n",
    "After layer-wise pretraining, we will fine-tune the entire deep autoencoder using the pretrained layers' weights. Note that what we have right now is a set of pretrained layers contained in the `pretrained_layers` array. However, we still need to connect these layers together by **transferring their weights to our full deep autoencoder architecture**.\n",
    "\n",
    "If you check the documentation and code for the `nn.Linear` layer, you can see that the actual weights are stored inside two Tensors respectively named\n",
    "- `layer.weight.data`\n",
    "- `layer.bias.data`\n",
    "\n",
    "***\n",
    "\n",
    "<div class=\"alert alert-success\" markdown=\"1\" style=\"color:white; background-color: #013220; border-color: #03C03C\">\n",
    "\n",
    "> ### Question 1.2 - Finetuning the autoencoder\n",
    "\n",
    "> 1. Transfer the weights from the pretrained layers to the full architecture\n",
    "> 2. Fill in the training criterion and optimizer\n",
    "> 2. Finish the training loop to finetune your deep AE\n",
    "  \n",
    "</div>\n",
    "\n",
    "***"
   ]
  },
  {
   "cell_type": "code",
   "execution_count": 9,
   "metadata": {},
   "outputs": [
    {
     "name": "stdout",
     "output_type": "stream",
     "text": [
      "Encoder layer 1 initialized\n",
      "Encoder layer 5 initialized\n",
      "Encoder layer 8 initialized\n",
      "Encoder layer 11 initialized\n",
      "Encoder layer 14 initialized\n",
      "Decoder layer 1 initialized\n",
      "Decoder layer 3 initialized\n",
      "Decoder layer 5 initialized\n",
      "Decoder layer 7 initialized\n",
      "Decoder layer 9 initialized\n",
      "Epoch [1/100], Loss: 0.0709\n",
      "Epoch [2/100], Loss: 0.0726\n",
      "Epoch [3/100], Loss: 0.0710\n",
      "Epoch [4/100], Loss: 0.0682\n",
      "Epoch [5/100], Loss: 0.0667\n",
      "Epoch [6/100], Loss: 0.0710\n",
      "Epoch [7/100], Loss: 0.0669\n",
      "Epoch [8/100], Loss: 0.0698\n",
      "Epoch [9/100], Loss: 0.0633\n",
      "Epoch [10/100], Loss: 0.0723\n",
      "Epoch [11/100], Loss: 0.0726\n",
      "Epoch [12/100], Loss: 0.0717\n",
      "Epoch [13/100], Loss: 0.0689\n",
      "Epoch [14/100], Loss: 0.0711\n",
      "Epoch [15/100], Loss: 0.0691\n",
      "Epoch [16/100], Loss: 0.0696\n",
      "Epoch [17/100], Loss: 0.0736\n",
      "Epoch [18/100], Loss: 0.0696\n",
      "Epoch [19/100], Loss: 0.0744\n",
      "Epoch [20/100], Loss: 0.0687\n",
      "Epoch [21/100], Loss: 0.0705\n",
      "Epoch [22/100], Loss: 0.0699\n",
      "Epoch [23/100], Loss: 0.0661\n",
      "Epoch [24/100], Loss: 0.0666\n",
      "Epoch [25/100], Loss: 0.0672\n",
      "Epoch [26/100], Loss: 0.0618\n",
      "Epoch [27/100], Loss: 0.0678\n",
      "Epoch [28/100], Loss: 0.0680\n",
      "Epoch [29/100], Loss: 0.0721\n",
      "Epoch [30/100], Loss: 0.0732\n",
      "Epoch [31/100], Loss: 0.0741\n",
      "Epoch [32/100], Loss: 0.0645\n",
      "Epoch [33/100], Loss: 0.0693\n",
      "Epoch [34/100], Loss: 0.0681\n",
      "Epoch [35/100], Loss: 0.0732\n",
      "Epoch [36/100], Loss: 0.0666\n",
      "Epoch [37/100], Loss: 0.0645\n",
      "Epoch [38/100], Loss: 0.0671\n",
      "Epoch [39/100], Loss: 0.0779\n",
      "Epoch [40/100], Loss: 0.0697\n",
      "Epoch [41/100], Loss: 0.0625\n",
      "Epoch [42/100], Loss: 0.0690\n",
      "Epoch [43/100], Loss: 0.0736\n",
      "Epoch [44/100], Loss: 0.0693\n",
      "Epoch [45/100], Loss: 0.0682\n",
      "Epoch [46/100], Loss: 0.0658\n",
      "Epoch [47/100], Loss: 0.0672\n",
      "Epoch [48/100], Loss: 0.0726\n",
      "Epoch [49/100], Loss: 0.0715\n",
      "Epoch [50/100], Loss: 0.0694\n",
      "Epoch [51/100], Loss: 0.0776\n",
      "Epoch [52/100], Loss: 0.0705\n",
      "Epoch [53/100], Loss: 0.0701\n",
      "Epoch [54/100], Loss: 0.0662\n",
      "Epoch [55/100], Loss: 0.0667\n",
      "Epoch [56/100], Loss: 0.0766\n",
      "Epoch [57/100], Loss: 0.0662\n",
      "Epoch [58/100], Loss: 0.0669\n",
      "Epoch [59/100], Loss: 0.0648\n",
      "Epoch [60/100], Loss: 0.0691\n",
      "Epoch [61/100], Loss: 0.0727\n",
      "Epoch [62/100], Loss: 0.0640\n",
      "Epoch [63/100], Loss: 0.0682\n",
      "Epoch [64/100], Loss: 0.0696\n",
      "Epoch [65/100], Loss: 0.0658\n",
      "Epoch [66/100], Loss: 0.0694\n",
      "Epoch [67/100], Loss: 0.0672\n",
      "Epoch [68/100], Loss: 0.0689\n",
      "Epoch [69/100], Loss: 0.0689\n",
      "Epoch [70/100], Loss: 0.0678\n",
      "Epoch [71/100], Loss: 0.0690\n",
      "Epoch [72/100], Loss: 0.0683\n",
      "Epoch [73/100], Loss: 0.0611\n",
      "Epoch [74/100], Loss: 0.0723\n",
      "Epoch [75/100], Loss: 0.0684\n",
      "Epoch [76/100], Loss: 0.0694\n",
      "Epoch [77/100], Loss: 0.0678\n",
      "Epoch [78/100], Loss: 0.0669\n",
      "Epoch [79/100], Loss: 0.0712\n",
      "Epoch [80/100], Loss: 0.0656\n",
      "Epoch [81/100], Loss: 0.0680\n",
      "Epoch [82/100], Loss: 0.0739\n",
      "Epoch [83/100], Loss: 0.0671\n",
      "Epoch [84/100], Loss: 0.0727\n",
      "Epoch [85/100], Loss: 0.0700\n",
      "Epoch [86/100], Loss: 0.0648\n",
      "Epoch [87/100], Loss: 0.0641\n",
      "Epoch [88/100], Loss: 0.0695\n",
      "Epoch [89/100], Loss: 0.0747\n",
      "Epoch [90/100], Loss: 0.0672\n",
      "Epoch [91/100], Loss: 0.0739\n",
      "Epoch [92/100], Loss: 0.0727\n",
      "Epoch [93/100], Loss: 0.0702\n",
      "Epoch [94/100], Loss: 0.0674\n",
      "Epoch [95/100], Loss: 0.0662\n",
      "Epoch [96/100], Loss: 0.0708\n",
      "Epoch [97/100], Loss: 0.0669\n",
      "Epoch [98/100], Loss: 0.0704\n",
      "Epoch [99/100], Loss: 0.0682\n",
      "Epoch [100/100], Loss: 0.0641\n"
     ]
    }
   ],
   "source": [
    "# Initialize the deep autoencoder with pretrained weights\n",
    "autoencoder = DeepAutoencoder().to(device)\n",
    "# Load pretrained weights into the deep autoencoder\n",
    "layer_cnt = 0\n",
    "for i, layer in enumerate(autoencoder.encoder):\n",
    "    if isinstance(layer, nn.Linear):\n",
    "        layer.weight.data = pretrained_layers[layer_cnt].encoder[0].weight.data\n",
    "        layer.bias.data = pretrained_layers[layer_cnt].encoder[0].bias.data\n",
    "        layer_cnt += 1\n",
    "        print(f\"Encoder layer {i+1} initialized\")\n",
    "\n",
    "layer_cnt = 4\n",
    "for i, layer in enumerate(autoencoder.decoder):\n",
    "    if isinstance(layer, nn.Linear):\n",
    "        layer.weight.data = pretrained_layers[layer_cnt].decoder[0].weight.data\n",
    "        layer.bias.data = pretrained_layers[layer_cnt].decoder[0].bias.data\n",
    "        layer_cnt -= 1\n",
    "        print(f\"Decoder layer {i+1} initialized\")\n",
    "\n",
    "# Fine-tune the deep autoencoder\n",
    "criterion = nn.MSELoss()\n",
    "optimizer = torch.optim.Adam(autoencoder.parameters(), lr=0.001)\n",
    "num_epochs = 100\n",
    "autoencoder.train()\n",
    "\n",
    "for epoch in range(num_epochs):\n",
    "    for batch_features, _ in train_loader:\n",
    "        x = torch.flatten(batch_features, start_dim=1).to(device)\n",
    "        output = autoencoder(x)\n",
    "        loss = criterion(output, x)\n",
    "        optimizer.zero_grad()\n",
    "        loss.backward()\n",
    "        optimizer.step()\n",
    "\n",
    "    print(f\"Epoch [{epoch+1}/{num_epochs}], Loss: {loss.item():.4f}\")"
   ]
  },
  {
   "cell_type": "markdown",
   "metadata": {},
   "source": [
    "<a name=\"visualization\"></a>\n",
    "### Visualizing the Results\n",
    "\n",
    "First, we can visualize the results by comparing input images and their corresponding reconstructed images produced by the deep autoencoder."
   ]
  },
  {
   "cell_type": "code",
   "execution_count": 10,
   "metadata": {},
   "outputs": [
    {
     "data": {
      "image/png": "[encoded data removed]",
      "text/plain": [
       "<Figure size 2000x200 with 10 Axes>"
      ]
     },
     "metadata": {},
     "output_type": "display_data"
    },
    {
     "data": {
      "image/png": "[encoded data removed]",
      "text/plain": [
       "<Figure size 2000x200 with 10 Axes>"
      ]
     },
     "metadata": {},
     "output_type": "display_data"
    }
   ],
   "source": [
    "import matplotlib.pyplot as plt\n",
    "import numpy as np\n",
    "\n",
    "# Function to display images\n",
    "def display_images(images, title):\n",
    "    fig, axes = plt.subplots(nrows=1, ncols=10, figsize=(20, 2))\n",
    "    for i, ax in enumerate(axes):\n",
    "        ax.imshow(images[i].reshape(28, 28), cmap='gray')\n",
    "        ax.axis('off')\n",
    "    plt.suptitle(title, fontsize=16)\n",
    "    plt.show()\n",
    "    \n",
    "autoencoder.eval()\n",
    "# Display the input and reconstructed images\n",
    "for batch_features, _ in test_loader:\n",
    "    batch_features = batch_features.view(-1, 28 * 28).to(device)\n",
    "    outputs = autoencoder(batch_features)\n",
    "    input_images = batch_features.cpu().detach().numpy()\n",
    "    reconstructed_images = outputs.cpu().detach().numpy()\n",
    "    display_images(input_images, 'Input Images')\n",
    "    display_images(reconstructed_images, 'Reconstructed Images')\n",
    "    break"
   ]
  },
  {
   "cell_type": "markdown",
   "metadata": {},
   "source": [
    "<a name=\"finetuning\"></a>\n",
    "### Using the encoder for supervised classification\n",
    "\n",
    "The following question is entirely open, without any specific code guideline to follow. This is aimed at exercising your own problem-solving skills in order to define the code architecture by yourself. Now that we have a finetuned auto-encoder, we would like to use the _encoding_ part for _supervised classification_. As seen in class, this amounts to a form of _transfer learning_. Hence, we need to retrieve the encoder and add extra layers that we will train in a supervised manner (in order to recognize the class of different fashion items).\n",
    "\n",
    "***\n",
    "\n",
    "<div class=\"alert alert-success\" markdown=\"1\" style=\"color:white; background-color: #013220; border-color: #03C03C\">\n",
    "\n",
    "> ### Question 1.3 - Transfer learning for classification\n",
    "\n",
    "> 1. Define the architecture of your target classifier\n",
    "> 2. Transfer the weights from our finetuned encoder\n",
    "> 3. Define the complete training of this classifier\n",
    "> 4. Evaluate your solution\n",
    "  \n",
    "</div>\n",
    "\n",
    "***"
   ]
  },
  {
   "cell_type": "code",
   "execution_count": 13,
   "metadata": {},
   "outputs": [
    {
     "name": "stdout",
     "output_type": "stream",
     "text": [
      "Epoch [1/20], Loss: 2.1606\n",
      "Epoch [2/20], Loss: 2.1699\n",
      "Epoch [3/20], Loss: 2.1475\n",
      "Epoch [4/20], Loss: 2.1272\n",
      "Epoch [5/20], Loss: 2.1230\n",
      "Epoch [6/20], Loss: 2.1462\n",
      "Epoch [7/20], Loss: 2.1407\n",
      "Epoch [8/20], Loss: 2.1428\n",
      "Epoch [9/20], Loss: 2.1142\n",
      "Epoch [10/20], Loss: 2.1099\n",
      "Epoch [11/20], Loss: 2.1405\n",
      "Epoch [12/20], Loss: 2.1346\n",
      "Epoch [13/20], Loss: 2.0459\n",
      "Epoch [14/20], Loss: 2.1208\n",
      "Epoch [15/20], Loss: 2.1554\n",
      "Epoch [16/20], Loss: 2.1825\n",
      "Epoch [17/20], Loss: 2.0824\n",
      "Epoch [18/20], Loss: 2.1179\n",
      "Epoch [19/20], Loss: 2.0810\n",
      "Epoch [20/20], Loss: 2.1631\n"
     ]
    }
   ],
   "source": [
    "class MyClassifier(nn.Module):\n",
    "    def __init__(self, input_size, hidden_size, num_classes):\n",
    "        super(MyClassifier, self).__init__()\n",
    "\n",
    "        self.encoder = autoencoder.encoder\n",
    "        self.classifier = nn.Sequential(\n",
    "            nn.Linear(input_size, hidden_size),\n",
    "            nn.BatchNorm1d(hidden_size),\n",
    "            nn.ReLU(),\n",
    "            nn.Dropout(0.3),\n",
    "            nn.Linear(hidden_size, num_classes),\n",
    "            nn.Softmax(dim=1)\n",
    "        )\n",
    "\n",
    "    def forward(self, x):\n",
    "        x = self.encoder(x)\n",
    "        x = self.classifier(x)\n",
    "        return x\n",
    "    \n",
    "myClassifier = MyClassifier(32, 64, 10).to(device)\n",
    "\n",
    "# Transfer weights from the autoencoder to the classifier\n",
    "for i, layer in enumerate(myClassifier.encoder):\n",
    "    if isinstance(layer, nn.Linear):\n",
    "        layer.weight.data = autoencoder.encoder[i].weight.data\n",
    "        layer.bias.data = autoencoder.encoder[i].bias.data\n",
    "\n",
    "criterion = nn.CrossEntropyLoss()\n",
    "optimizer = torch.optim.Adam(myClassifier.parameters(), lr=0.001)\n",
    "\n",
    "myClassifier.train(mode=True)\n",
    "\n",
    "num_epochs = 20\n",
    "for epoch in range(num_epochs):\n",
    "    for batch_features, batch_labels in train_loader:\n",
    "        batch_features = torch.flatten(batch_features, start_dim=1)\n",
    "        batch_features = batch_features.view(-1, 28 * 28).to(device)\n",
    "        batch_labels = batch_labels.to(device)\n",
    "\n",
    "        outputs = myClassifier(batch_features)\n",
    "        loss = criterion(outputs, batch_labels)\n",
    "        optimizer.zero_grad()\n",
    "        loss.backward()\n",
    "        optimizer.step()\n",
    "\n",
    "    print(f\"Epoch [{epoch+1}/{num_epochs}], Loss: {loss.item():.4f}\")"
   ]
  },
  {
   "cell_type": "code",
   "execution_count": 14,
   "metadata": {},
   "outputs": [
    {
     "name": "stdout",
     "output_type": "stream",
     "text": [
      "Accuracy: 84.36%\n"
     ]
    }
   ],
   "source": [
    "# Evaluate the classifier\n",
    "correct = 0\n",
    "total = 0\n",
    "myClassifier.eval()\n",
    "\n",
    "for batch_features, batch_labels in test_loader:\n",
    "    batch_features = torch.flatten(batch_features, start_dim=1)\n",
    "    batch_features = batch_features.view(-1, 28 * 28).to(device)\n",
    "    batch_labels = batch_labels.to(device)\n",
    "\n",
    "    outputs = myClassifier(batch_features)\n",
    "    _, predicted = torch.max(outputs, 1)\n",
    "    total += batch_labels.size(0)\n",
    "    correct += (predicted == batch_labels).sum().item()\n",
    "\n",
    "print(f\"Accuracy: {100 * correct / total:.2f}%\")"
   ]
  },
  {
   "cell_type": "markdown",
   "metadata": {},
   "source": [
    "## Deep autoencoders using JAX\n",
    "\n",
    "The following is an **optional exercise** in which you can try to implement the same mechanisms in JAX. To speed up the implementation, we propose to rely on the Flax library, which allows an easy definition of models.\n",
    "\n",
    "### Setup and Dataset Preparation\n",
    "\n",
    "First, we need to import the necessary JAX libraries. Note that we will reuse the same dataset as previously, but you will need to _cast the batches_ into a JAX-compliant format."
   ]
  },
  {
   "cell_type": "code",
   "execution_count": null,
   "metadata": {},
   "outputs": [],
   "source": [
    "# Import libraries\n",
    "import jax\n",
    "import jax.numpy as jnp\n",
    "from jax import grad, jit, vmap\n",
    "import optax\n",
    "import flax"
   ]
  },
  {
   "cell_type": "markdown",
   "metadata": {},
   "source": [
    "<a name=\"architecture\"></a>\n",
    "### Autoencoder training\n",
    "\n",
    "Next, we will define the deep autoencoder architecture using the Flax library in JAX.\n",
    "\n",
    "***\n",
    "\n",
    "<div class=\"alert alert-success\" markdown=\"1\" style=\"color:white; background-color: #192841; border-color: #779ecb\">\n",
    "\n",
    "> ### Exercice (optional)\n",
    ">   1. Define your architecture using Flax.\n",
    ">   2. Perform the layerwise pretraining\n",
    ">   3. Transfer the weights to a deep architecture\n",
    ">   4. Finetune and evaluate your model\n",
    "\n",
    "</div>\n",
    "\n",
    "***"
   ]
  },
  {
   "cell_type": "code",
   "execution_count": null,
   "metadata": {},
   "outputs": [],
   "source": [
    "import flax.linen as nn\n",
    "\n",
    "# Encoder\n",
    "class Encoder(nn.Module):\n",
    "    \n",
    "    @nn.compact\n",
    "    def __call__(self, x):\n",
    "        ######################\n",
    "        # YOUR CODE GOES HERE\n",
    "        ######################\n",
    "        ...\n",
    "        \n",
    "\n",
    "# Encoder\n",
    "class Decoder(nn.Module):\n",
    "    \n",
    "    @nn.compact\n",
    "    def __call__(self, x):\n",
    "        ######################\n",
    "        # YOUR CODE GOES HERE\n",
    "        ######################\n",
    "        ...\n",
    "        \n",
    "\n",
    "# Autoencoder\n",
    "class Autoencoder(nn.Module):\n",
    "    \n",
    "    @nn.compact\n",
    "    def __call__(self, x):\n",
    "        ######################\n",
    "        # YOUR CODE GOES HERE\n",
    "        ######################\n",
    "        ...\n",
    "\n",
    "######################\n",
    "# YOUR CODE GOES HERE\n",
    "######################\n",
    "# Layerwise pretraining\n",
    "...\n",
    "\n",
    "# Model finetuning\n",
    "...\n",
    "\n",
    "# Model evaluation\n",
    "...\n"
   ]
  },
  {
   "cell_type": "markdown",
   "metadata": {
    "id": "VEdCXSwCoKok"
   },
   "source": [
    "# Generative auto-encoder (modern version)\n",
    "\n",
    "As seen in the course, the previous training version of AEs was used for several years, but several advances in **model regularization** now allows to bypass the need for layer-wise training and directly train deep version of the AEs. These advances are _batch normalization_, _ReLU_ activations and _Dropout_. Furthermore, by definition, the AE can already be seen as a form of _generative model_ (although it lacks a probabilistic definition). \n",
    "\n",
    "Therefore, we will define in the following a simple AE seen as a generative model, to directly learn how to compress and reconstruct images from simple small vectors. Hence, we will need an `encoder`, which compresses the images into a small latent vector, and a `decoder`, that reconstructs the original image from this code. Here, we will start very basic and define the encoder and decoder as simple `Linear` layers. Note that we also use `BatchNorm`, `ReLU` and `Dropout` to regularize our training."
   ]
  },
  {
   "cell_type": "code",
   "execution_count": null,
   "metadata": {},
   "outputs": [],
   "source": [
    "class AE(nn.Module):\n",
    "    def __init__(self, encoding_dim):\n",
    "        super(AE, self).__init__()\n",
    "        self.latent_dim = encoding_dim\n",
    "        self.hidden_dim = 256\n",
    "        self.encoder = nn.Sequential(\n",
    "          nn.Linear(28 * 28, self.hidden_dim),\n",
    "          nn.BatchNorm1d(self.hidden_dim), nn.ReLU(),\n",
    "          nn.Dropout(0.3),\n",
    "          nn.Linear(self.hidden_dim, self.hidden_dim), \n",
    "          nn.BatchNorm1d(self.hidden_dim), nn.ReLU(),\n",
    "          nn.Dropout(0.3),\n",
    "          nn.Linear(self.hidden_dim, self.latent_dim), nn.Sigmoid()\n",
    "        )\n",
    "        self.decoder = nn.Sequential(\n",
    "          nn.Linear(self.latent_dim, self.hidden_dim), \n",
    "          nn.BatchNorm1d(self.hidden_dim), nn.ReLU(),\n",
    "          nn.Dropout(0.3),\n",
    "          nn.Linear(self.hidden_dim, self.hidden_dim), \n",
    "          nn.BatchNorm1d(self.hidden_dim), nn.ReLU(),\n",
    "          nn.Dropout(0.3),\n",
    "          nn.Linear(self.hidden_dim, 28 * 28), nn.Sigmoid()\n",
    "        )\n",
    "\n",
    "    def forward(self, x):\n",
    "        encoded = self.encoder(x.reshape(-1, 28 * 28))\n",
    "        decoded = self.decoder(encoded)\n",
    "        return decoded.reshape(-1, 1, 28, 28)"
   ]
  },
  {
   "cell_type": "markdown",
   "metadata": {},
   "source": [
    "Here we can see that the model depends on a given `encoding_dim` variable, which defines the size of the latent code. Therefore, we can instantiate our model arbitrarliy with `64` dimensions"
   ]
  },
  {
   "cell_type": "code",
   "execution_count": null,
   "metadata": {
    "id": "0MUxidpyChjX"
   },
   "outputs": [],
   "source": [
    "latent_dim = 64   \n",
    "model = AE(latent_dim) "
   ]
  },
  {
   "cell_type": "markdown",
   "metadata": {},
   "source": [
    "The only remaining part that we did not discuss yet is what type of _loss_ (defined as $\\mathcal{L}$) we can use to train our model. First, we will simply rely on the _Mean Squared Error_ (MSE) loss, which is defined as\n",
    "\\begin{equation}\n",
    "    \\mathcal{L}_{MSE}(\\hat{\\mathbf{x}}, \\mathbf{x}) = \\mid \\hat{\\mathbf{x}}, \\mathbf{x} \\mid^{2}\n",
    "\\end{equation}"
   ]
  },
  {
   "cell_type": "code",
   "execution_count": null,
   "metadata": {
    "id": "9I1JlqEIDCI4"
   },
   "outputs": [],
   "source": [
    "# Loss function that we will use\n",
    "loss_fn = torch.nn.MSELoss(reduction='sum')"
   ]
  },
  {
   "cell_type": "markdown",
   "metadata": {
    "id": "7oJSeMTroABs"
   },
   "source": [
    "<a id=\"application\"> </a>\n",
    "\n",
    "### Training the model\n",
    "\n",
    "Train the model using `x_train` as both the input and the target. The `encoder` will learn to compress the dataset from 784 dimensions to the latent space, and the `decoder` will learn to reconstruct the original images.\n",
    "."
   ]
  },
  {
   "cell_type": "code",
   "execution_count": null,
   "metadata": {
    "id": "h1RI9OfHDBsK"
   },
   "outputs": [],
   "source": [
    "# Learning rate\n",
    "learning_rate = 1e-4\n",
    "# Optimizer to fit the weights of the network\n",
    "optimizer = torch.optim.SGD(model.parameters(), lr=learning_rate)\n",
    "for t in range(20):\n",
    "    full_loss = torch.Tensor([0])\n",
    "    # Forward pass: compute predicted y by passing x to the model.\n",
    "    for i, (x, _) in enumerate(train_loader):\n",
    "        y_pred = model(x)\n",
    "        # Compute the loss.\n",
    "        loss = loss_fn(y_pred, x)\n",
    "        # Before the backward pass, zero all of the network gradients\n",
    "        optimizer.zero_grad()\n",
    "        # Backward pass: compute gradient of the loss with respect to parameters\n",
    "        loss.backward()\n",
    "        # Calling the step function to update the parameters\n",
    "        optimizer.step()\n",
    "    print(loss)"
   ]
  },
  {
   "cell_type": "markdown",
   "metadata": {
    "id": "wAM1QBhtoC-n"
   },
   "source": [
    "Now that the model is trained, we can test it by encoding and decoding images from the test set."
   ]
  },
  {
   "cell_type": "code",
   "execution_count": null,
   "metadata": {
    "id": "Pbr5WCj7FQUi"
   },
   "outputs": [],
   "source": [
    "encoded_imgs = model.encoder(imgs_test.reshape(-1,28*28))\n",
    "decoded_imgs = model.decoder(encoded_imgs).reshape(-1,28,28).detach().numpy()\n",
    "\n",
    "#decoded_imgs = model(imgs_test)"
   ]
  },
  {
   "cell_type": "markdown",
   "metadata": {},
   "source": [
    "By plotting the images, we can see that the model is able to perform an adequate (yet somewhat blurry) reconstruction of the input images. The interesting point is that this reconstruction comes from a code of only `64` dimensions, whereas the original images have `784` dimensions."
   ]
  },
  {
   "cell_type": "code",
   "execution_count": null,
   "metadata": {
    "id": "s4LlDOS6FUA1"
   },
   "outputs": [],
   "source": [
    "n = 10\n",
    "plt.figure(figsize=(20, 4))\n",
    "for i in range(n):\n",
    "    # display original\n",
    "    ax = plt.subplot(2, n, i + 1)\n",
    "    plt.imshow(imgs_test[i, 0])\n",
    "    plt.title(\"original\"); plt.gray()\n",
    "    ax.get_xaxis().set_visible(False)\n",
    "    ax.get_yaxis().set_visible(False)\n",
    "    # display reconstruction\n",
    "    ax = plt.subplot(2, n, i + 1 + n)\n",
    "    plt.imshow(decoded_imgs[i])\n",
    "    plt.title(\"reconstructed\"); plt.gray()\n",
    "    ax.get_xaxis().set_visible(False)\n",
    "    ax.get_yaxis().set_visible(False)\n",
    "plt.show()"
   ]
  },
  {
   "cell_type": "markdown",
   "metadata": {},
   "source": [
    "### Improvements\n",
    "\n",
    "Even though this very basic example seems to work, several improvements can be made over the original model. First, we can see that the overall framework does not depend on the exact nature of the `encoder` and `decoder`. \n",
    "\n",
    "***\n",
    "\n",
    "<div class=\"alert alert-success\" markdown=\"1\" style=\"color:white; background-color: #192841; border-color: #779ecb\">\n",
    "\n",
    "> ### Exercise (optional)\n",
    ">   1. Rewrite the original class to accept any type of architecture for these (see code below). \n",
    ">   2. Fill the missing code to have a new AE model\n",
    "\n",
    "</div>\n",
    "\n",
    "***"
   ]
  },
  {
   "cell_type": "code",
   "execution_count": null,
   "metadata": {},
   "outputs": [],
   "source": [
    "class AE(nn.Module):\n",
    "    def __init__(self, encoder, decoder, encoding_dim):\n",
    "        super(AE, self).__init__()\n",
    "        self.latent_dim = encoding_dim\n",
    "        self.encoder = encoder\n",
    "        self.decoder = decoder\n",
    "\n",
    "    def forward(self, x):\n",
    "        encoded = self.encoder(x)\n",
    "        decoded = self.decoder(encoded)\n",
    "        return decoded\n",
    "\n",
    "######################\n",
    "# YOUR CODE GOES HERE\n",
    "######################\n",
    "\n",
    "encoder = ...\n",
    "decoder = ...\n",
    "model = ..."
   ]
  },
  {
   "cell_type": "markdown",
   "metadata": {},
   "source": [
    "Second, we only used the train dataset, whereas the use of a validation and test sets allows to ensure that we do not overfit our model.\n",
    "\n",
    "***\n",
    "\n",
    "<div class=\"alert alert-success\" markdown=\"1\" style=\"color:white; background-color: #192841; border-color: #779ecb\">\n",
    "\n",
    "> ### Exercise (optional)\n",
    ">   1. Write a separate train function, that can be called on different sets\n",
    ">   2. Re-write the training loop to test overfitting\n",
    "\n",
    "</div>\n",
    "\n",
    "***"
   ]
  },
  {
   "cell_type": "code",
   "execution_count": null,
   "metadata": {},
   "outputs": [],
   "source": [
    "######################\n",
    "# YOUR CODE GOES HERE\n",
    "######################"
   ]
  },
  {
   "cell_type": "markdown",
   "metadata": {
    "id": "r4gv6G8PoRQE"
   },
   "source": [
    "## **Optional** exercise: Denoising AE\n",
    "\n",
    "Imagine (for the sake of argument), that we choose an encoding dimension which is of same dimensionality as the input one. Then, one huge problem is that nothing prevents the AE from simply learning the _identity_ function (try to imagine why). An autoencoder can also be trained to remove noise from images. This type of _regularization_ prevents the model from learning this degenerate situation.\n",
    "\n",
    "In this exercise, you will need to create your own denoising AE, by relying on a noisy version of the Fashion MNIST dataset (adding random Gaussian noise to each image). You will then train an autoencoder using the noisy image as input, and the original image as the target.\n",
    "\n",
    "Let's reimport the dataset to omit the modifications made earlier."
   ]
  },
  {
   "cell_type": "code",
   "execution_count": null,
   "metadata": {
    "id": "uJZ-TcaqDBr5"
   },
   "outputs": [],
   "source": [
    "class GaussianNoise(object):\n",
    "    def __init__(self, mean=0., std=0.1):\n",
    "        self.std = std\n",
    "        self.mean = mean\n",
    "        \n",
    "    def __call__(self, tensor):\n",
    "        return tensor + torch.randn(tensor.size()) * self.std + self.mean\n",
    "    \n",
    "    def __repr__(self):\n",
    "        return self.__class__.__name__ + '(mean={0}, std={1})'.format(self.mean, self.std)"
   ]
  },
  {
   "cell_type": "markdown",
   "metadata": {
    "id": "aPZl_6P65_8R"
   },
   "source": [
    "Here, we create two new train and test sets by adding random noise to the images"
   ]
  },
  {
   "cell_type": "code",
   "execution_count": null,
   "metadata": {
    "id": "axSMyxC354fc"
   },
   "outputs": [],
   "source": [
    "# Load the datasets and use our Gaussian noise transform\n",
    "train_valid_dataset = torchvision.datasets.FashionMNIST(root=dataset_dir, train=True, transform=torchvision.transforms.Compose([torchvision.transforms.ToTensor(), GaussianNoise(0., 0.1)]), download=True)\n",
    "train_dataset, valid_dataset = torch.utils.data.dataset.random_split(train_valid_dataset, [nb_train, nb_valid])\n",
    "test_dataset = torchvision.datasets.FashionMNIST(root=dataset_dir, transform=torchvision.transforms.Compose([torchvision.transforms.ToTensor(), GaussianNoise(0., 0.1)]),train=False)\n",
    "# Create loaders\n",
    "train_loader_noisy = torch.utils.data.DataLoader(dataset=train_dataset, batch_size=batch_size, num_workers=num_threads)\n",
    "valid_loader_noisy = torch.utils.data.DataLoader(dataset=valid_dataset, batch_size=batch_size, shuffle=False, num_workers=num_threads)\n",
    "test_loader_noisy = torch.utils.data.DataLoader(dataset=test_dataset,batch_size=batch_size,shuffle=False,num_workers=num_threads)"
   ]
  },
  {
   "cell_type": "markdown",
   "metadata": {
    "id": "wRxHe4XXltNd"
   },
   "source": [
    "Plot the noisy images.\n"
   ]
  },
  {
   "cell_type": "code",
   "execution_count": null,
   "metadata": {
    "id": "thKUmbVVCQpt"
   },
   "outputs": [],
   "source": [
    "x_test, labels = next(iter(test_loader))\n",
    "x_test_noisy, labels = next(iter(test_loader_noisy))\n",
    "n = 10\n",
    "plt.figure(figsize=(20, 4))\n",
    "for i in range(n):\n",
    "    ax = plt.subplot(2, n, i + 1)\n",
    "    plt.title(\"original\")\n",
    "    plt.imshow(x_test[i].squeeze())\n",
    "    ax.get_xaxis().set_visible(False)\n",
    "    ax.get_yaxis().set_visible(False)\n",
    "    plt.gray()\n",
    "    ax = plt.subplot(2, n, i + 1 + n)\n",
    "    plt.title(\"original + noise\")\n",
    "    plt.imshow(x_test_noisy[i].squeeze())\n",
    "    ax.get_xaxis().set_visible(False)\n",
    "    ax.get_yaxis().set_visible(False)\n",
    "    plt.gray()\n",
    "plt.show()"
   ]
  },
  {
   "cell_type": "markdown",
   "metadata": {
    "id": "Sy9SY8jGl5aP"
   },
   "source": [
    "### Define a convolutional autoencoder"
   ]
  },
  {
   "cell_type": "markdown",
   "metadata": {
    "id": "vT_BhZngWMwp"
   },
   "source": [
    "In this example, you will train a convolutional autoencoder using  [Conv2D](https://www.tensorflow.org/api_docs/python/tf/keras/layers/Conv2D) layers in the `encoder`, and [Conv2DTranspose](https://www.tensorflow.org/api_docs/python/tf/keras/layers/Conv2DTranspose) layers in the `decoder`."
   ]
  },
  {
   "cell_type": "code",
   "execution_count": null,
   "metadata": {
    "id": "R5KjoIlYCQko"
   },
   "outputs": [],
   "source": [
    "######################\n",
    "# YOUR CODE GOES HERE\n",
    "######################\n",
    "\n",
    "class DenoisingAE(AE):\n",
    "    def __init__(self):\n",
    "        super(DenoisingAE, self).__init__()\n",
    "        self.encoder = ...    \n",
    "        self.decoder = ...\n",
    "    \n",
    "    def forward(self, x):\n",
    "        encoded = ...\n",
    "        decoded = ...\n",
    "        return decoded\n",
    "\n",
    "autoencoder = ..."
   ]
  },
  {
   "cell_type": "markdown",
   "metadata": {},
   "source": [
    "Write down the full optimization loop to optimize your denoising auto-encoder"
   ]
  },
  {
   "cell_type": "code",
   "execution_count": null,
   "metadata": {
    "id": "QYKbiDFYCQfj"
   },
   "outputs": [],
   "source": [
    "######################\n",
    "# YOUR CODE GOES HERE\n",
    "######################"
   ]
  },
  {
   "cell_type": "markdown",
   "metadata": {
    "id": "A7-VAuEy_N6M"
   },
   "source": [
    "Plot both the noisy images and the denoised images produced by the autoencoder to check that your implementation is correct"
   ]
  },
  {
   "cell_type": "code",
   "execution_count": null,
   "metadata": {
    "id": "sfxr9NdBCP_x",
    "tags": []
   },
   "outputs": [],
   "source": [
    "######################\n",
    "# YOUR CODE GOES HERE\n",
    "######################\n",
    "encoded_imgs = ...\n",
    "decoded_imgs = ...\n",
    "plt.figure(figsize=(20, 4))\n",
    "for i in range(n):\n",
    "    ...\n",
    "plt.show()"
   ]
  },
  {
   "cell_type": "markdown",
   "metadata": {},
   "source": [
    "# Attention layers and Transformers\n",
    "\n",
    "In the following exercise, we aim to implement attention layers and Transformers in PyTorch. Transformers are a powerful deep learning architecture that has been used to achieve state-of-the-art results in various natural language processing tasks. \n",
    "\n",
    "***\n",
    "\n",
    "<div class=\"alert alert-success\" markdown=\"1\" style=\"color:white; background-color: #410819; border-color: #cb2e47\">\n",
    "\n",
    "> **Warning on the exercise difficulty and goal**\n",
    "\n",
    "> **Note that this exercise is a lot more involved, as we now move on to an almost research-level type of exercise, where we mostly provide a research paper as reference. Your goal is to try to reimplement the architecture and method proposed in that paper as closely as possible.**\n",
    "\n",
    "#### Paper reference\n",
    "\n",
    "[Vaswani, A., Shazeer, N., Parmar, N., Uszkoreit, J., Jones, L., Gomez, A. N., ... & Polosukhin, I. (2017). Attention is all you need. Advances in neural information processing systems, 30.](https://proceedings.neurips.cc/paper/2017/file/3f5ee243547dee91fbd053c1c4a845aa-Paper.pdf)\n",
    "\n",
    "**Link:** [https://proceedings.neurips.cc/paper/2017/file/3f5ee243547dee91fbd053c1c4a845aa-Paper.pdf](https://proceedings.neurips.cc/paper/2017/file/3f5ee243547dee91fbd053c1c4a845aa-Paper.pdf)\n",
    "\n",
    "</div>\n",
    "\n",
    "***\n",
    "\n",
    "<a name=\"intro\"></a>\n",
    "## Introduction to attention\n",
    "\n",
    "Attention mechanisms enable models to focus on specific parts of the input sequence while processing it. They have been proven to be highly effective in natural language processing tasks such as machine translation and sentiment analysis. Transformers are a type of deep learning model that incorporates self-attention mechanisms. They consist of an encoder and a decoder, and utilize multi-head attention layers, positional encoding, and layer normalization."
   ]
  },
  {
   "cell_type": "markdown",
   "metadata": {
    "tags": []
   },
   "source": [
    "### Defining our own attention layer\n",
    "\n",
    "In the following, we re-implement the *attention* layer, which is the basis of the infamous `Transformer` models.\n",
    "\n",
    "<div class=\"alert alert-success\" markdown=\"1\" style=\"color:white; background-color: #410819; border-color: #cb2e47\">\n",
    "\n",
    "> This is defined in Section 3.2.1 (pages 3 and 4) and depicted in Figure 2 (left) of our [paper reference.](https://proceedings.neurips.cc/paper/2017/file/3f5ee243547dee91fbd053c1c4a845aa-Paper.pdf)\n",
    "\n",
    "</div>\n",
    "\n",
    "\n",
    "***\n",
    "\n",
    "<div class=\"alert alert-success\" markdown=\"1\" style=\"color:white; background-color: #192841; border-color: #779ecb\">\n",
    "\n",
    "> ### Exercise (**course**)\n",
    ">   1. Implement the simple attention layer as defined in the slides\n",
    "\n",
    "</div>\n",
    "\n",
    "***"
   ]
  },
  {
   "cell_type": "code",
   "execution_count": null,
   "metadata": {},
   "outputs": [],
   "source": [
    "class AttentionLayer(nn.Module):\n",
    "    def __init__(self, n_hidden):\n",
    "        super(AttentionLayer, self).__init__()\n",
    "        ######################\n",
    "        # YOUR CODE GOES HERE \n",
    "        ######################\n",
    "        ...\n",
    "\n",
    "    def forward(self, X):\n",
    "        ######################\n",
    "        # YOUR CODE GOES HERE \n",
    "        ######################\n",
    "        ...\n",
    "    \n",
    "\n",
    "######################\n",
    "# Solution: \n",
    "class AttentionLayer(nn.Module):\n",
    "    def __init__(self, n_hidden):\n",
    "        super(AttentionLayer, self).__init__()\n",
    "        self.mlp = nn.Linear(n_hidden, n_hidden)\n",
    "        self.u_w = nn.Parameter(torch.rand(n_hidden))\n",
    "\n",
    "    def forward(self, X):\n",
    "        # get the hidden representation of the sequence\n",
    "        u_it = F.tanh(self.mlp(X))\n",
    "        # get attention weights for each timestep\n",
    "        alpha = F.softmax(torch.matmul(u_it, self.u_w), dim=1)\n",
    "        # get the weighted sum of the sequence\n",
    "        out = torch.sum(torch.matmul(alpha, X), dim=1)\n",
    "        return out, alpha\n",
    "######################"
   ]
  },
  {
   "cell_type": "markdown",
   "metadata": {},
   "source": [
    "\n",
    "<a name=\"setup\"></a>\n",
    "## Setup and dataset\n",
    "\n",
    "First, let's import the necessary libraries and prepare the dataset for training. We will now rely on a text dataset, which is readily available in the `torchtext` library."
   ]
  },
  {
   "cell_type": "code",
   "execution_count": null,
   "metadata": {},
   "outputs": [],
   "source": [
    "import torch\n",
    "import torch.nn as nn\n",
    "import torch.optim as optim\n",
    "import torch.nn.functional as F\n",
    "from torchtext.datasets import Multi30k\n",
    "# Translate English to German\n",
    "language_pair = (\"en\", \"de\")\n",
    "# Import the text dataset\n",
    "train_iterator, valid_iterator, test_iterator = Multi30k(split=(\"train\", \"valid\", \"test\"), language_pair=language_pair)\n",
    "# Potentially use the GPU if available\n",
    "device = torch.device('cuda' if torch.cuda.is_available() else 'cpu')"
   ]
  },
  {
   "cell_type": "markdown",
   "metadata": {},
   "source": [
    "<a name=\"mha\"></a>\n",
    "### Implementing the Multi-Head Attention layer\n",
    "\n",
    "The multi-head attention layer is a key component of the Transformer architecture. It allows the model to focus on different parts of the input sequence simultaneously.\n",
    "\n",
    "<div class=\"alert alert-success\" markdown=\"1\" style=\"color:white; background-color: #410819; border-color: #cb2e47\">\n",
    "\n",
    "> This is defined in Section 3.2.2 (pages 4 and 5) and depicted in Figure 2 (right) of our [paper reference.](https://proceedings.neurips.cc/paper/2017/file/3f5ee243547dee91fbd053c1c4a845aa-Paper.pdf)\n",
    "\n",
    "</div>\n",
    "\n",
    "***\n",
    "\n",
    "<div class=\"alert alert-success\" markdown=\"1\" style=\"color:white; background-color: #013220; border-color: #03C03C\">\n",
    "\n",
    "> ### Question 2.1 - Implementing the multi-head attention layer\n",
    "\n",
    "> 1. Following the definitions in the paper, propose your implementation of the _multi-head attention layer_.\n",
    "  \n",
    "</div>\n",
    "\n",
    "***"
   ]
  },
  {
   "cell_type": "code",
   "execution_count": 17,
   "metadata": {},
   "outputs": [],
   "source": [
    "class AttentionHeadLayer(nn.Module):\n",
    "    def __init__(self, hid_dim, n_heads):\n",
    "        super().__init__()\n",
    "        self.q = nn.Linear(hid_dim, n_heads)\n",
    "        self.k = nn.Linear(hid_dim, n_heads)\n",
    "        self.v = nn.Linear(hid_dim, n_heads)\n",
    "\n",
    "    def scaled_dot_product_attention(query, key, value, mask=None):\n",
    "        dim_k = query.size(-1)\n",
    "        scores = torch.bmm(query, key.transpose(1, 2)) / (dim_k ** 0.5)\n",
    "\n",
    "        if mask is not None:\n",
    "            scores = scores.masked_fill(mask == 0, -float(\"inf\"))\n",
    "        weights = F.softmax(scores, dim=-1)\n",
    "        return torch.bmm(weights, value)\n",
    "\n",
    "    def forward(self, query, key, value, query_mask=None, key_mask=None, mask=None):\n",
    "        attn_outputs = self.scaled_dot_product_attention(\n",
    "            self.q(query), self.k(key), self.v(value), query_mask, key_mask, mask)\n",
    "        return attn_outputs\n",
    "\n",
    "class MultiHeadAttentionLayer(nn.Module):\n",
    "    def __init__(self, hid_dim, n_heads, dropout, device):\n",
    "        super().__init__()\n",
    "        self.hid_dim = hid_dim\n",
    "        self.n_heads = n_heads\n",
    "        self.dropout = nn.Dropout(dropout)\n",
    "        self.device = device\n",
    "\n",
    "        assert hid_dim % n_heads == 0\n",
    "\n",
    "        depth = hid_dim // n_heads\n",
    "\n",
    "        self.heads = nn.ModuleList(\n",
    "            [AttentionHeadLayer(hid_dim, depth) for _ in range(n_heads)]\n",
    "        )\n",
    "\n",
    "        self.fc = nn.Linear(hid_dim, hid_dim)\n",
    "\n",
    "    def forward(self, query, key, value, mask=None):\n",
    "        x = torch.cat([\n",
    "            h(query, key, value, mask) for h in self.heads\n",
    "        ], dim=-1)\n",
    "        x = self.fc(x)\n",
    "        return x\n"
   ]
  },
  {
   "cell_type": "markdown",
   "metadata": {},
   "source": [
    "<a name=\"transformer\"></a>\n",
    "### Building the Transformer architecture\n",
    "\n",
    "Now that we have implemented the multi-head attention layer, we can build the Transformer architecture. We'll need to create the encoder, decoder, and the final Transformer model.\n",
    "\n",
    "<div class=\"alert alert-success\" markdown=\"1\" style=\"color:white; background-color: #410819; border-color: #cb2e47\">\n",
    "\n",
    "> The transformer architecture is defined in Section 3.1 (pages 2 and 3) and depicted in Figure 1 of our [paper reference.](https://proceedings.neurips.cc/paper/2017/file/3f5ee243547dee91fbd053c1c4a845aa-Paper.pdf). Also more details about the architecture are provided in subsequent sections 3.3 to 3.5.\n",
    "\n",
    "</div>\n",
    "\n",
    "***\n",
    "\n",
    "<div class=\"alert alert-success\" markdown=\"1\" style=\"color:white; background-color: #013220; border-color: #03C03C\">\n",
    "\n",
    "> ### Question 2.2 - Implementing the Transformer architecture\n",
    "\n",
    "> 1. Following the definitions in the paper, propose your implementation of the _transformer architecture_.\n",
    "> 2. (Optional) Implement the other parts of the architecture (sections 3.3 to 3.5).\n",
    "  \n",
    "</div>\n",
    "\n",
    "***"
   ]
  },
  {
   "cell_type": "code",
   "execution_count": 15,
   "metadata": {},
   "outputs": [],
   "source": [
    "class PositionWiseFeedForwardLayer(nn.Module):\n",
    "    def __init__(self, hid_dim, pf_dim, dropout):\n",
    "        super().__init__()\n",
    "        self.fc_1 = nn.Linear(hid_dim, pf_dim)\n",
    "        self.fc_2 = nn.Linear(pf_dim, hid_dim)\n",
    "        self.dropout = nn.Dropout(dropout)\n",
    "\n",
    "    def forward(self, x):\n",
    "        x = self.fc_1(x)\n",
    "        x = F.relu(x)\n",
    "        x = self.dropout(x)\n",
    "        x = self.fc_2(x)\n",
    "        return x\n",
    "    \n",
    "class EmbeddingLayer(nn.Module):\n",
    "    def __init__(self, input_dim, emb_dim, dropout):\n",
    "        super().__init__()\n",
    "        self.embedding = nn.Embedding(input_dim, emb_dim)\n",
    "        self.dropout = nn.Dropout(dropout)\n",
    "        self.scale = emb_dim ** 0.5\n",
    "\n",
    "    def forward(self, x):\n",
    "        x = self.embedding(x) * self.scale\n",
    "        x = self.dropout(x)\n",
    "        return x\n",
    "    \n",
    "class PositionalEncodingLayer(nn.Module):\n",
    "    def __init__(self, emb_dim, dropout, max_len=5000):\n",
    "        super().__init__()\n",
    "        self.dropout = nn.Dropout(dropout)\n",
    "        pe = torch.zeros(max_len, emb_dim)\n",
    "        position = torch.arange(0, max_len).unsqueeze(1)\n",
    "        div_term = torch.exp(torch.arange(0, emb_dim, 2) * -(np.math.log(10000.0) / emb_dim))\n",
    "        pe[:, 0::2] = torch.sin(position * div_term)\n",
    "        pe[:, 1::2] = torch.cos(position * div_term)\n",
    "        pe = pe.unsqueeze(0)\n",
    "        self.register_buffer('pe', pe)\n",
    "\n",
    "    def forward(self, x):\n",
    "        x = x + self.pe[:, :x.size(1)]\n",
    "        return self.dropout(x)\n",
    "    "
   ]
  },
  {
   "cell_type": "code",
   "execution_count": 16,
   "metadata": {},
   "outputs": [],
   "source": [
    "# Encoder Layer\n",
    "class EncoderLayer(nn.Module):\n",
    "    def __init__(self, hid_dim, n_heads, pf_dim, dropout, device):\n",
    "        super().__init__()\n",
    "        self.self_attn_layer_norm = nn.LayerNorm(hid_dim)\n",
    "        self.ff_layer_norm = nn.LayerNorm(hid_dim)\n",
    "        self.self_attention = MultiHeadAttentionLayer(hid_dim, n_heads, dropout, device)\n",
    "        self.positionwise_feedforward = PositionWiseFeedForwardLayer(hid_dim, pf_dim, dropout)\n",
    "        self.dropout = nn.Dropout(dropout)\n",
    "\n",
    "    def forward(self, src, src_mask):\n",
    "        src = self.self_attn_layer_norm(src + self.dropout(self.self_attention(src, src, src, src_mask)))\n",
    "        src = self.ff_layer_norm(src + self.dropout(self.positionwise_feedforward(src)))\n",
    "\n",
    "# Decoder Layer\n",
    "class DecoderLayer(nn.Module):\n",
    "    def __init__(self, hid_dim, n_heads, pf_dim, dropout, device):\n",
    "        super().__init__()\n",
    "        self.self_attn_layer_norm = nn.LayerNorm(hid_dim)\n",
    "        self.enc_attn_layer_norm = nn.LayerNorm(hid_dim)\n",
    "        self.ff_layer_norm = nn.LayerNorm(hid_dim)\n",
    "        self.self_attention = MultiHeadAttentionLayer(hid_dim, n_heads, dropout, device)\n",
    "        self.encoder_attention = MultiHeadAttentionLayer(hid_dim, n_heads, dropout, device)\n",
    "        self.positionwise_feedforward = PositionWiseFeedForwardLayer(hid_dim, pf_dim, dropout)\n",
    "        self.dropout = nn.Dropout(dropout)\n",
    "\n",
    "    def forward(self, trg, enc_src, trg_mask, src_mask):\n",
    "        trg = self.self_attn_layer_norm(trg + self.dropout(self.self_attention(trg, trg, trg, trg_mask)))\n",
    "        trg = self.enc_attn_layer_norm(trg + self.dropout(self.encoder_attention(trg, enc_src, enc_src, src_mask)))\n",
    "        trg = self.ff_layer_norm(trg + self.dropout(self.positionwise_feedforward(trg)))\n",
    "        return trg\n",
    "\n",
    "# Encoder\n",
    "class Encoder(nn.Module):\n",
    "    def __init__(self, input_dim, hid_dim, n_layers, n_heads, pf_dim, dropout, device, max_length=100):\n",
    "        super().__init__()\n",
    "        self.tok_embedding = EmbeddingLayer(input_dim, hid_dim, dropout)\n",
    "        self.pos_embedding = PositionalEncodingLayer(hid_dim, dropout, max_length)\n",
    "        self.layers = nn.ModuleList([EncoderLayer(hid_dim, n_heads, pf_dim, dropout, device) for _ in range(n_layers)])\n",
    "        self.dropout = nn.Dropout(dropout)\n",
    "        self.device = device\n",
    "        self.hid_dim = hid_dim\n",
    "\n",
    "    def forward(self, src, src_mask):\n",
    "        src = self.tok_embedding(src)\n",
    "        src = self.pos_embedding(src)\n",
    "        for layer in self.layers:\n",
    "            src = layer(src, src_mask)\n",
    "        return src\n",
    "\n",
    "# Decoder\n",
    "class Decoder(nn.Module):\n",
    "    def __init__(self, output_dim, hid_dim, n_layers, n_heads, pf_dim, dropout, device, max_length=100):\n",
    "        super().__init__()\n",
    "        self.tok_embedding = EmbeddingLayer(output_dim, hid_dim, dropout)\n",
    "        self.pos_embedding = PositionalEncodingLayer(hid_dim, dropout, max_length)\n",
    "        self.layers = nn.ModuleList([DecoderLayer(hid_dim, n_heads, pf_dim, dropout, device) for _ in range(n_layers)])\n",
    "        self.fc_out = nn.Linear(hid_dim, output_dim)\n",
    "        self.dropout = nn.Dropout(dropout)\n",
    "        self.device = device\n",
    "        self.hid_dim = hid_dim\n",
    "    \n",
    "    def forward(self, trg, enc_src, trg_mask, src_mask):\n",
    "        trg = self.tok_embedding(trg)\n",
    "        trg = self.pos_embedding(trg)\n",
    "        for layer in self.layers:\n",
    "            trg = layer(trg, enc_src, trg_mask, src_mask)\n",
    "        output = self.fc_out(trg)\n",
    "        return output\n",
    "\n",
    "# Transformer\n",
    "class Transformer(nn.Module):\n",
    "    def __init__(self, encoder, decoder, device):\n",
    "        super().__init__()\n",
    "        self.encoder = encoder\n",
    "        self.decoder = decoder\n",
    "        self.device = device\n",
    "    \n",
    "    def make_src_mask(self, src):\n",
    "        src_mask = (src != 0).unsqueeze(1).unsqueeze(2)\n",
    "        return src_mask\n",
    "    \n",
    "    def make_trg_mask(self, trg):\n",
    "        trg_pad_mask = (trg != 0).unsqueeze(1).unsqueeze(2)\n",
    "        trg_len = trg.shape[1]\n",
    "        trg_sub_mask = torch.tril(torch.ones((trg_len, trg_len), device=self.device)).bool()\n",
    "        trg_mask = trg_pad_mask & trg_sub_mask\n",
    "        return trg_mask\n",
    "    \n",
    "    def forward(self, src, trg):\n",
    "        src_mask = self.make_src_mask(src)\n",
    "        trg_mask = self.make_trg_mask(trg)\n",
    "        enc_src = self.encoder(src, src_mask)\n",
    "        output = self.decoder(trg, enc_src, trg_mask, src_mask)\n",
    "        return output\n",
    "    "
   ]
  },
  {
   "cell_type": "markdown",
   "metadata": {},
   "source": [
    "<a name=\"training\"></a>\n",
    "### Training the Transformer Model\n",
    "\n",
    "After building the Transformer architecture, we can train the model using the dataset prepared in section 2. Note that this exercise is left optional, as this requires several notions not covered in the course yet (embeddings, positional encodings). However, this is of course more rewarding to see your model being trained :)\n",
    "\n",
    "***\n",
    "\n",
    "<div class=\"alert alert-success\" markdown=\"1\" style=\"color:white; background-color: #192841; border-color: #779ecb\">\n",
    "\n",
    "> ### Exercise (**optional**)\n",
    ">   1. Implement the training loop for the Transformer.\n",
    "\n",
    "</div>\n",
    "\n",
    "***"
   ]
  },
  {
   "cell_type": "code",
   "execution_count": null,
   "metadata": {},
   "outputs": [],
   "source": []
  },
  {
   "cell_type": "code",
   "execution_count": null,
   "metadata": {},
   "outputs": [],
   "source": [
    "# Initialize the Transformer model\n",
    "INPUT_DIM = ...\n",
    "OUTPUT_DIM = ...\n",
    "HID_DIM = 256\n",
    "ENC_LAYERS = 3\n",
    "DEC_LAYERS = 3\n",
    "ENC_HEADS = 8\n",
    "DEC_HEADS = 8\n",
    "ENC_PF_DIM = 512\n",
    "DEC_PF_DIM = 512\n",
    "ENC_DROPOUT = 0.1\n",
    "DEC_DROPOUT = 0.1\n",
    "\n",
    "enc = Encoder(INPUT_DIM, HID_DIM, ENC_LAYERS, ENC_HEADS, ENC_PF_DIM, ENC_DROPOUT, device)\n",
    "dec = Decoder(OUTPUT_DIM, HID_DIM, DEC_LAYERS, DEC_HEADS, DEC_PF_DIM, DEC_DROPOUT, device)\n",
    "\n",
    "model = Transformer(enc, dec, device).to(device)\n",
    "\n",
    "# Train the model\n",
    "optimizer = optim.Adam(model.parameters())\n",
    "criterion = nn.CrossEntropyLoss()\n",
    "\n",
    "def train(model, iterator, optimizer, criterion, clip):\n",
    "    ...\n",
    "\n",
    "def evaluate(model, iterator, criterion):\n",
    "    ...\n",
    "\n",
    "def epoch_time(start_time, end_time):\n",
    "    ...\n",
    "\n",
    "N_EPOCHS = 10\n",
    "CLIP = 1\n",
    "\n",
    "best_valid_loss = float('inf')\n",
    "\n",
    "for epoch in range(N_EPOCHS):\n",
    "    \n",
    "    start_time = time.time()\n",
    "    \n",
    "    train_loss = train(model, train_iterator, optimizer, criterion, CLIP)\n",
    "    valid_loss = evaluate(model, valid_iterator, criterion)\n",
    "    \n",
    "    end_time = time.time()\n",
    "    \n",
    "    epoch_mins, epoch_secs = epoch_time(start_time, end_time)\n",
    "    \n",
    "    if valid_loss < best_valid_loss:\n",
    "        best_valid_loss = valid_loss\n",
    "        torch.save(model.state_dict(), 'transformer-model.pt')\n",
    "    \n",
    "    print(f'Epoch: {epoch+1:02} | Time: {epoch_mins}m {epoch_secs}s')\n",
    "    print(f'\\tTrain Loss: {train_loss:.3f} | Train PPL: {math.exp(train_loss):7.3f}')\n",
    "    print(f'\\t Val. Loss: {valid_loss:.3f} |  Val. PPL: {math.exp(valid_loss):7.3f}')"
   ]
  },
  {
   "cell_type": "markdown",
   "metadata": {},
   "source": [
    "<a name=\"evaluation\"></a>\n",
    "### Evaluating the Model\n",
    "\n",
    "After training the Transformer model, we can evaluate its performance on the test dataset."
   ]
  },
  {
   "cell_type": "code",
   "execution_count": null,
   "metadata": {},
   "outputs": [],
   "source": [
    "# Load the best model\n",
    "model.load_state_dict(torch.load('transformer-model.pt'))\n",
    "# Evaluate the model on the test dataset\n",
    "test_loss = evaluate(model, test_iterator, criterion)\n",
    "print(f'| Test Loss: {test_loss:.3f} | Test PPL: {math.exp(test_loss):7.3f} |')"
   ]
  },
  {
   "cell_type": "markdown",
   "metadata": {},
   "source": [
    "# **Optional fun** - Style transfer \n",
    "\n",
    "Style transfer is the technique of applying the style of one image to the content of another, creating a new image with the desired content and style. The following exercise aims at replicating the results of the original [Neural style transfer paper](https://arxiv.org/abs/1508.06576) by Gatys et al. \n",
    "\n",
    "Note that the following tutorial is a plain simplification inspired by the great [tutorial available in the Pytorch documentation](https://pytorch.org/tutorials/advanced/neural_style_tutorial.html). Hence, all credits goes back to the authors of the tutorial.\n",
    "\n",
    "## Introduction to Style Transfer\n",
    "\n",
    "Style transfer is a technique in computer vision and deep learning that enables the transfer of artistic style from one image (style image) to another image (content image) while retaining the original content. This is typically achieved using a pre-trained deep neural network, such as VGG-19, and optimizing the input image to minimize the content and style losses.\n",
    "\n",
    "<a name=\"setup\"></a>\n",
    "## Import images\n",
    "\n",
    "First, let's import the necessary libraries and prepare the images for style transfer."
   ]
  },
  {
   "cell_type": "code",
   "execution_count": null,
   "metadata": {},
   "outputs": [],
   "source": [
    "import torch\n",
    "import torch.nn as nn\n",
    "import torch.optim as optim\n",
    "import requests\n",
    "from io import BytesIO\n",
    "from torchvision import transforms, models\n",
    "from PIL import Image\n",
    "import matplotlib.pyplot as plt\n",
    "# Find our device\n",
    "device = torch.device(\"cuda\" if torch.cuda.is_available() else \"cpu\")\n",
    "# URL to load our content image from\n",
    "url = \"https://thumbnailer.mixcloud.com/unsafe/300x300/extaudio/6/b/a/b/d576-35c3-48a9-a01e-7dc4f0255e62.jpg\"\n",
    "response = requests.get(url)\n",
    "content_image = np.array(Image.open(BytesIO(response.content)))\n",
    "# URL to load our style image from\n",
    "url = \"https://t4.ftcdn.net/jpg/02/44/21/17/360_F_244211780_VFoZhDiuxyWpnTalr0DFilyYqNokEoVZ.jpg\"\n",
    "response = requests.get(url)\n",
    "style_image = np.array(Image.open(BytesIO(response.content)))\n",
    "# Display content and style images\n",
    "plt.imshow(content_image)\n",
    "plt.show()\n",
    "plt.imshow(style_image)\n",
    "plt.show()"
   ]
  },
  {
   "cell_type": "markdown",
   "metadata": {},
   "source": [
    "<a name=\"model_loss\"></a>\n",
    "## Pre-trained Model and Loss Functions\n",
    "\n",
    "We will use the pre-trained VGG-19 model, and define the content and style loss functions."
   ]
  },
  {
   "cell_type": "code",
   "execution_count": null,
   "metadata": {},
   "outputs": [],
   "source": [
    "from torchvision.models import VGG19_Weights\n",
    "# Load pre-trained VGG-19 model\n",
    "vgg = models.vgg19(weights=VGG19_Weights.DEFAULT).features.to(device).eval()\n",
    "\n",
    "# Content and style loss functions\n",
    "class ContentLoss(nn.Module):\n",
    "    ...\n",
    "\n",
    "class StyleLoss(nn.Module):\n",
    "    ..."
   ]
  },
  {
   "cell_type": "markdown",
   "metadata": {},
   "source": [
    "<a name=\"prepost\"></a>\n",
    "## Image Preprocessing and Postprocessing\n",
    "We need to define functions for preprocessing and postprocessing the images."
   ]
  },
  {
   "cell_type": "code",
   "execution_count": null,
   "metadata": {},
   "outputs": [],
   "source": [
    "# Image preprocessing\n",
    "def preprocess(image, max_size=512, shape=None):\n",
    "    ...\n",
    "\n",
    "# Image postprocessing\n",
    "def postprocess(tensor):\n",
    "    ..."
   ]
  },
  {
   "cell_type": "markdown",
   "metadata": {},
   "source": [
    "<a name=\"implementation\"></a>\n",
    "## Style Transfer Implementation\n",
    "\n",
    "Now that we have everything set up, we can implement the style transfer algorithm."
   ]
  },
  {
   "cell_type": "code",
   "execution_count": null,
   "metadata": {},
   "outputs": [],
   "source": [
    "# Style transfer function\n",
    "def style_transfer(content_image, style_image, content_layers, style_layers, content_weight, style_weight, iterations=2000):\n",
    "    ...\n",
    "\n",
    "# Perform style transfer\n",
    "content_layers = ['conv_4']\n",
    "style_layers = ['conv_1', 'conv_2', 'conv_3', 'conv_4', 'conv_5']\n",
    "content_weight = 1\n",
    "style_weight = 1e6\n",
    "\n",
    "output_image = style_transfer(content_image, style_image, content_layers, style_layers, content_weight, style_weight)"
   ]
  },
  {
   "cell_type": "markdown",
   "metadata": {},
   "source": [
    "<a name=\"visualization\"></a>\n",
    "## Visualization\n",
    "\n",
    "We can visualize the output image and evaluate the results."
   ]
  },
  {
   "cell_type": "code",
   "execution_count": null,
   "metadata": {},
   "outputs": [],
   "source": [
    "# Visualize output image\n",
    "plt.imshow(output_image)\n",
    "plt.show()\n",
    "\n",
    "# Save the output image\n",
    "output_image.save(\"path/to/output/image.jpg\")"
   ]
  }
 ],
 "metadata": {
  "colab": {
   "collapsed_sections": [],
   "name": "TensorFlow_3_Autoencoder_Dimensionality_Reduction.ipynb",
   "provenance": [],
   "toc_visible": true,
   "version": "0.3.2"
  },
  "kernelspec": {
   "display_name": "ml_win",
   "language": "python",
   "name": "python3"
  },
  "language_info": {
   "codemirror_mode": {
    "name": "ipython",
    "version": 3
   },
   "file_extension": ".py",
   "mimetype": "text/x-python",
   "name": "python",
   "nbconvert_exporter": "python",
   "pygments_lexer": "ipython3",
   "version": "3.11.10"
  },
  "latex_envs": {
   "LaTeX_envs_menu_present": true,
   "autoclose": false,
   "autocomplete": true,
   "bibliofile": "biblio.bib",
   "cite_by": "apalike",
   "current_citInitial": 1,
   "eqLabelWithNumbers": true,
   "eqNumInitial": 1,
   "hotkeys": {
    "equation": "Ctrl-E",
    "itemize": "Ctrl-I"
   },
   "labels_anchors": false,
   "latex_user_defs": false,
   "report_style_numbering": false,
   "user_envs_cfg": false
  }
 },
 "nbformat": 4,
 "nbformat_minor": 4
}

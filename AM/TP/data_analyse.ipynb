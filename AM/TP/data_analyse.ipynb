{
 "cells": [
  {
   "cell_type": "code",
   "execution_count": 1,
   "metadata": {},
   "outputs": [],
   "source": [
    "import numpy as np\n",
    "import matplotlib.pyplot as plt\n"
   ]
  },
  {
   "cell_type": "code",
   "execution_count": 2,
   "metadata": {},
   "outputs": [],
   "source": [
    "def fft_plot(sig, N_fft, filename, saveflag):\n",
    "    X_fft = X_fft = np.fft.fft(x, n=N_fft)\n",
    "    freqs = np.fft.fftfreq(N_fft)\n",
    "\n",
    "    fig, ax = plt.subplots(figsize=(10, 7))\n",
    "    ax.plot(freqs, np.abs(X_fft))\n",
    "    ax.set_ylabel(\"Magnitude\")\n",
    "    ax.set_xlabel(\"frequency (Hz)\")\n",
    "    ax.set_title(\"FFT\")\n",
    "    \n",
    "    if saveflag:\n",
    "        plt.savefig(filename+'.png', dpi=100)\n"
   ]
  },
  {
   "cell_type": "code",
   "execution_count": null,
   "metadata": {},
   "outputs": [],
   "source": [
    "filename = \"\""
   ]
  }
 ],
 "metadata": {
  "kernelspec": {
   "display_name": "base",
   "language": "python",
   "name": "python3"
  },
  "language_info": {
   "codemirror_mode": {
    "name": "ipython",
    "version": 3
   },
   "file_extension": ".py",
   "mimetype": "text/x-python",
   "name": "python",
   "nbconvert_exporter": "python",
   "pygments_lexer": "ipython3",
   "version": "3.12.4"
  }
 },
 "nbformat": 4,
 "nbformat_minor": 2
}
